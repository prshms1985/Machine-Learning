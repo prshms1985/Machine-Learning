{
 "cells": [
  {
   "cell_type": "code",
   "execution_count": 1,
   "id": "92c325e4",
   "metadata": {},
   "outputs": [
    {
     "name": "stderr",
     "output_type": "stream",
     "text": [
      "C:\\Users\\sindh\\Desktop\\web_latest\\threshold_build_service.py:20: UserWarning: \n",
      "The dash_core_components package is deprecated. Please replace\n",
      "`import dash_core_components as dcc` with `from dash import dcc`\n",
      "  import dash_core_components as dcc\n",
      "C:\\Users\\sindh\\Desktop\\web_latest\\threshold_build_service.py:21: UserWarning: \n",
      "The dash_html_components package is deprecated. Please replace\n",
      "`import dash_html_components as html` with `from dash import html`\n",
      "  import dash_html_components as html\n",
      "C:\\Users\\sindh\\Desktop\\web_latest\\threshold_build_service.py:25: UserWarning:\n",
      "\n",
      "\n",
      "The dash_table package is deprecated. Please replace\n",
      "`import dash_table` with `from dash import dash_table`\n",
      "\n",
      "Also, if you're using any of the table format helpers (e.g. Group), replace \n",
      "`from dash_table.Format import Group` with \n",
      "`from dash.dash_table.Format import Group`\n",
      "\n"
     ]
    }
   ],
   "source": [
    "import os\n",
    "import sys\n",
    "\n",
    "import pandas as pd\n",
    "import numpy as np\n",
    "## from pyhive import hive\n",
    "import threshold_build_service as tbs\n",
    "\n",
    "# %% Import and Pre-process Data\n",
    "\n",
    "# Read csv data\n",
    "df = pd.read_csv('5g_home_web_seconds_per_page_v1.csv')"
   ]
  },
  {
   "cell_type": "code",
   "execution_count": 2,
   "id": "5d60f988",
   "metadata": {},
   "outputs": [
    {
     "name": "stdout",
     "output_type": "stream",
     "text": [
      "48\n",
      "48\n"
     ]
    },
    {
     "data": {
      "text/html": [
       "        <script type=\"text/javascript\">\n",
       "        window.PlotlyConfig = {MathJaxConfig: 'local'};\n",
       "        if (window.MathJax && window.MathJax.Hub && window.MathJax.Hub.Config) {window.MathJax.Hub.Config({SVG: {font: \"STIX-Web\"}});}\n",
       "        if (typeof require !== 'undefined') {\n",
       "        require.undef(\"plotly\");\n",
       "        requirejs.config({\n",
       "            paths: {\n",
       "                'plotly': ['https://cdn.plot.ly/plotly-2.12.1.min']\n",
       "            }\n",
       "        });\n",
       "        require(['plotly'], function(Plotly) {\n",
       "            window._Plotly = Plotly;\n",
       "        });\n",
       "        }\n",
       "        </script>\n",
       "        "
      ]
     },
     "metadata": {},
     "output_type": "display_data"
    },
    {
     "data": {
      "application/vnd.plotly.v1+json": {
       "config": {
        "linkText": "Export to plot.ly",
        "plotlyServerURL": "https://plot.ly",
        "showLink": false
       },
       "data": [
        {
         "mode": "markers",
         "type": "scatter",
         "x": [
          4,
          5,
          6,
          7,
          8,
          9,
          10,
          11,
          12,
          13,
          14,
          15,
          16,
          17,
          18,
          19,
          20,
          21,
          22,
          23,
          24,
          25,
          26,
          27,
          28,
          29,
          30,
          31,
          32,
          33,
          34,
          35,
          36,
          37,
          38,
          39,
          40,
          41,
          42,
          43,
          44,
          45,
          46,
          47,
          48,
          49
         ],
         "y": [
          0.024352169840774273,
          0.024622087266486237,
          0.024152232251768723,
          0.022863530129051925,
          0.02311303719754424,
          0.023236399053847223,
          0.02608267716535433,
          0.02448672066302505,
          0.025789813023855575,
          0.02226027397260274,
          0.020788336933045357,
          0.024329382407985028,
          0.025658338960162053,
          0.03212551363466567,
          0.023894862604540025,
          0.02802491103202847,
          0.025677603423680456,
          0.02295918367346939,
          0.01959686450167973,
          0.019879518072289156,
          0.02610316967060286,
          0.026512576478585997,
          0.02437325905292479,
          0.03230890464933018,
          0.027624309392265192,
          0.02695871946082561,
          0.026246719160104987,
          0.022058823529411766,
          0.03241650294695481,
          0.029441624365482234,
          0.02066590126291619,
          0.02359550561797753,
          0.030371203599550055,
          0.02849740932642487,
          0.02717391304347826,
          0.03096774193548387,
          0.024709302325581394,
          0.024489795918367346,
          0.022488755622188907,
          0.032507739938080496,
          0.03271028037383177,
          0.018121911037891267,
          0.02355072463768116,
          0.03208556149732621,
          0.029357798165137616,
          0.03428571428571429
         ]
        },
        {
         "histfunc": "sum",
         "nbinsx": 100,
         "opacity": 0.5,
         "type": "histogram",
         "x": [
          4,
          5,
          6,
          7,
          8,
          9,
          10,
          11,
          12,
          13,
          14,
          15,
          16,
          17,
          18,
          19,
          20,
          21,
          22,
          23,
          24,
          25,
          26,
          27,
          28,
          29,
          30,
          31,
          32,
          33,
          34,
          35,
          36,
          37,
          38,
          39,
          40,
          41,
          42,
          43,
          44,
          45,
          46,
          47,
          48,
          49
         ],
         "y": [
          44842,
          15149,
          12297,
          9841,
          8307,
          7187,
          6096,
          5309,
          4653,
          4088,
          3704,
          3206,
          2962,
          2677,
          2511,
          2248,
          2103,
          1960,
          1786,
          1660,
          1609,
          1471,
          1436,
          1269,
          1267,
          1187,
          1143,
          1088,
          1018,
          985,
          871,
          890,
          889,
          772,
          736,
          775,
          688,
          735,
          667,
          646,
          642,
          607,
          552,
          561,
          545,
          525
         ],
         "yaxis": "y2"
        }
       ],
       "layout": {
        "template": {
         "data": {
          "bar": [
           {
            "error_x": {
             "color": "#2a3f5f"
            },
            "error_y": {
             "color": "#2a3f5f"
            },
            "marker": {
             "line": {
              "color": "#E5ECF6",
              "width": 0.5
             },
             "pattern": {
              "fillmode": "overlay",
              "size": 10,
              "solidity": 0.2
             }
            },
            "type": "bar"
           }
          ],
          "barpolar": [
           {
            "marker": {
             "line": {
              "color": "#E5ECF6",
              "width": 0.5
             },
             "pattern": {
              "fillmode": "overlay",
              "size": 10,
              "solidity": 0.2
             }
            },
            "type": "barpolar"
           }
          ],
          "carpet": [
           {
            "aaxis": {
             "endlinecolor": "#2a3f5f",
             "gridcolor": "white",
             "linecolor": "white",
             "minorgridcolor": "white",
             "startlinecolor": "#2a3f5f"
            },
            "baxis": {
             "endlinecolor": "#2a3f5f",
             "gridcolor": "white",
             "linecolor": "white",
             "minorgridcolor": "white",
             "startlinecolor": "#2a3f5f"
            },
            "type": "carpet"
           }
          ],
          "choropleth": [
           {
            "colorbar": {
             "outlinewidth": 0,
             "ticks": ""
            },
            "type": "choropleth"
           }
          ],
          "contour": [
           {
            "colorbar": {
             "outlinewidth": 0,
             "ticks": ""
            },
            "colorscale": [
             [
              0,
              "#0d0887"
             ],
             [
              0.1111111111111111,
              "#46039f"
             ],
             [
              0.2222222222222222,
              "#7201a8"
             ],
             [
              0.3333333333333333,
              "#9c179e"
             ],
             [
              0.4444444444444444,
              "#bd3786"
             ],
             [
              0.5555555555555556,
              "#d8576b"
             ],
             [
              0.6666666666666666,
              "#ed7953"
             ],
             [
              0.7777777777777778,
              "#fb9f3a"
             ],
             [
              0.8888888888888888,
              "#fdca26"
             ],
             [
              1,
              "#f0f921"
             ]
            ],
            "type": "contour"
           }
          ],
          "contourcarpet": [
           {
            "colorbar": {
             "outlinewidth": 0,
             "ticks": ""
            },
            "type": "contourcarpet"
           }
          ],
          "heatmap": [
           {
            "colorbar": {
             "outlinewidth": 0,
             "ticks": ""
            },
            "colorscale": [
             [
              0,
              "#0d0887"
             ],
             [
              0.1111111111111111,
              "#46039f"
             ],
             [
              0.2222222222222222,
              "#7201a8"
             ],
             [
              0.3333333333333333,
              "#9c179e"
             ],
             [
              0.4444444444444444,
              "#bd3786"
             ],
             [
              0.5555555555555556,
              "#d8576b"
             ],
             [
              0.6666666666666666,
              "#ed7953"
             ],
             [
              0.7777777777777778,
              "#fb9f3a"
             ],
             [
              0.8888888888888888,
              "#fdca26"
             ],
             [
              1,
              "#f0f921"
             ]
            ],
            "type": "heatmap"
           }
          ],
          "heatmapgl": [
           {
            "colorbar": {
             "outlinewidth": 0,
             "ticks": ""
            },
            "colorscale": [
             [
              0,
              "#0d0887"
             ],
             [
              0.1111111111111111,
              "#46039f"
             ],
             [
              0.2222222222222222,
              "#7201a8"
             ],
             [
              0.3333333333333333,
              "#9c179e"
             ],
             [
              0.4444444444444444,
              "#bd3786"
             ],
             [
              0.5555555555555556,
              "#d8576b"
             ],
             [
              0.6666666666666666,
              "#ed7953"
             ],
             [
              0.7777777777777778,
              "#fb9f3a"
             ],
             [
              0.8888888888888888,
              "#fdca26"
             ],
             [
              1,
              "#f0f921"
             ]
            ],
            "type": "heatmapgl"
           }
          ],
          "histogram": [
           {
            "marker": {
             "pattern": {
              "fillmode": "overlay",
              "size": 10,
              "solidity": 0.2
             }
            },
            "type": "histogram"
           }
          ],
          "histogram2d": [
           {
            "colorbar": {
             "outlinewidth": 0,
             "ticks": ""
            },
            "colorscale": [
             [
              0,
              "#0d0887"
             ],
             [
              0.1111111111111111,
              "#46039f"
             ],
             [
              0.2222222222222222,
              "#7201a8"
             ],
             [
              0.3333333333333333,
              "#9c179e"
             ],
             [
              0.4444444444444444,
              "#bd3786"
             ],
             [
              0.5555555555555556,
              "#d8576b"
             ],
             [
              0.6666666666666666,
              "#ed7953"
             ],
             [
              0.7777777777777778,
              "#fb9f3a"
             ],
             [
              0.8888888888888888,
              "#fdca26"
             ],
             [
              1,
              "#f0f921"
             ]
            ],
            "type": "histogram2d"
           }
          ],
          "histogram2dcontour": [
           {
            "colorbar": {
             "outlinewidth": 0,
             "ticks": ""
            },
            "colorscale": [
             [
              0,
              "#0d0887"
             ],
             [
              0.1111111111111111,
              "#46039f"
             ],
             [
              0.2222222222222222,
              "#7201a8"
             ],
             [
              0.3333333333333333,
              "#9c179e"
             ],
             [
              0.4444444444444444,
              "#bd3786"
             ],
             [
              0.5555555555555556,
              "#d8576b"
             ],
             [
              0.6666666666666666,
              "#ed7953"
             ],
             [
              0.7777777777777778,
              "#fb9f3a"
             ],
             [
              0.8888888888888888,
              "#fdca26"
             ],
             [
              1,
              "#f0f921"
             ]
            ],
            "type": "histogram2dcontour"
           }
          ],
          "mesh3d": [
           {
            "colorbar": {
             "outlinewidth": 0,
             "ticks": ""
            },
            "type": "mesh3d"
           }
          ],
          "parcoords": [
           {
            "line": {
             "colorbar": {
              "outlinewidth": 0,
              "ticks": ""
             }
            },
            "type": "parcoords"
           }
          ],
          "pie": [
           {
            "automargin": true,
            "type": "pie"
           }
          ],
          "scatter": [
           {
            "fillpattern": {
             "fillmode": "overlay",
             "size": 10,
             "solidity": 0.2
            },
            "type": "scatter"
           }
          ],
          "scatter3d": [
           {
            "line": {
             "colorbar": {
              "outlinewidth": 0,
              "ticks": ""
             }
            },
            "marker": {
             "colorbar": {
              "outlinewidth": 0,
              "ticks": ""
             }
            },
            "type": "scatter3d"
           }
          ],
          "scattercarpet": [
           {
            "marker": {
             "colorbar": {
              "outlinewidth": 0,
              "ticks": ""
             }
            },
            "type": "scattercarpet"
           }
          ],
          "scattergeo": [
           {
            "marker": {
             "colorbar": {
              "outlinewidth": 0,
              "ticks": ""
             }
            },
            "type": "scattergeo"
           }
          ],
          "scattergl": [
           {
            "marker": {
             "colorbar": {
              "outlinewidth": 0,
              "ticks": ""
             }
            },
            "type": "scattergl"
           }
          ],
          "scattermapbox": [
           {
            "marker": {
             "colorbar": {
              "outlinewidth": 0,
              "ticks": ""
             }
            },
            "type": "scattermapbox"
           }
          ],
          "scatterpolar": [
           {
            "marker": {
             "colorbar": {
              "outlinewidth": 0,
              "ticks": ""
             }
            },
            "type": "scatterpolar"
           }
          ],
          "scatterpolargl": [
           {
            "marker": {
             "colorbar": {
              "outlinewidth": 0,
              "ticks": ""
             }
            },
            "type": "scatterpolargl"
           }
          ],
          "scatterternary": [
           {
            "marker": {
             "colorbar": {
              "outlinewidth": 0,
              "ticks": ""
             }
            },
            "type": "scatterternary"
           }
          ],
          "surface": [
           {
            "colorbar": {
             "outlinewidth": 0,
             "ticks": ""
            },
            "colorscale": [
             [
              0,
              "#0d0887"
             ],
             [
              0.1111111111111111,
              "#46039f"
             ],
             [
              0.2222222222222222,
              "#7201a8"
             ],
             [
              0.3333333333333333,
              "#9c179e"
             ],
             [
              0.4444444444444444,
              "#bd3786"
             ],
             [
              0.5555555555555556,
              "#d8576b"
             ],
             [
              0.6666666666666666,
              "#ed7953"
             ],
             [
              0.7777777777777778,
              "#fb9f3a"
             ],
             [
              0.8888888888888888,
              "#fdca26"
             ],
             [
              1,
              "#f0f921"
             ]
            ],
            "type": "surface"
           }
          ],
          "table": [
           {
            "cells": {
             "fill": {
              "color": "#EBF0F8"
             },
             "line": {
              "color": "white"
             }
            },
            "header": {
             "fill": {
              "color": "#C8D4E3"
             },
             "line": {
              "color": "white"
             }
            },
            "type": "table"
           }
          ]
         },
         "layout": {
          "annotationdefaults": {
           "arrowcolor": "#2a3f5f",
           "arrowhead": 0,
           "arrowwidth": 1
          },
          "autotypenumbers": "strict",
          "coloraxis": {
           "colorbar": {
            "outlinewidth": 0,
            "ticks": ""
           }
          },
          "colorscale": {
           "diverging": [
            [
             0,
             "#8e0152"
            ],
            [
             0.1,
             "#c51b7d"
            ],
            [
             0.2,
             "#de77ae"
            ],
            [
             0.3,
             "#f1b6da"
            ],
            [
             0.4,
             "#fde0ef"
            ],
            [
             0.5,
             "#f7f7f7"
            ],
            [
             0.6,
             "#e6f5d0"
            ],
            [
             0.7,
             "#b8e186"
            ],
            [
             0.8,
             "#7fbc41"
            ],
            [
             0.9,
             "#4d9221"
            ],
            [
             1,
             "#276419"
            ]
           ],
           "sequential": [
            [
             0,
             "#0d0887"
            ],
            [
             0.1111111111111111,
             "#46039f"
            ],
            [
             0.2222222222222222,
             "#7201a8"
            ],
            [
             0.3333333333333333,
             "#9c179e"
            ],
            [
             0.4444444444444444,
             "#bd3786"
            ],
            [
             0.5555555555555556,
             "#d8576b"
            ],
            [
             0.6666666666666666,
             "#ed7953"
            ],
            [
             0.7777777777777778,
             "#fb9f3a"
            ],
            [
             0.8888888888888888,
             "#fdca26"
            ],
            [
             1,
             "#f0f921"
            ]
           ],
           "sequentialminus": [
            [
             0,
             "#0d0887"
            ],
            [
             0.1111111111111111,
             "#46039f"
            ],
            [
             0.2222222222222222,
             "#7201a8"
            ],
            [
             0.3333333333333333,
             "#9c179e"
            ],
            [
             0.4444444444444444,
             "#bd3786"
            ],
            [
             0.5555555555555556,
             "#d8576b"
            ],
            [
             0.6666666666666666,
             "#ed7953"
            ],
            [
             0.7777777777777778,
             "#fb9f3a"
            ],
            [
             0.8888888888888888,
             "#fdca26"
            ],
            [
             1,
             "#f0f921"
            ]
           ]
          },
          "colorway": [
           "#636efa",
           "#EF553B",
           "#00cc96",
           "#ab63fa",
           "#FFA15A",
           "#19d3f3",
           "#FF6692",
           "#B6E880",
           "#FF97FF",
           "#FECB52"
          ],
          "font": {
           "color": "#2a3f5f"
          },
          "geo": {
           "bgcolor": "white",
           "lakecolor": "white",
           "landcolor": "#E5ECF6",
           "showlakes": true,
           "showland": true,
           "subunitcolor": "white"
          },
          "hoverlabel": {
           "align": "left"
          },
          "hovermode": "closest",
          "mapbox": {
           "style": "light"
          },
          "paper_bgcolor": "white",
          "plot_bgcolor": "#E5ECF6",
          "polar": {
           "angularaxis": {
            "gridcolor": "white",
            "linecolor": "white",
            "ticks": ""
           },
           "bgcolor": "#E5ECF6",
           "radialaxis": {
            "gridcolor": "white",
            "linecolor": "white",
            "ticks": ""
           }
          },
          "scene": {
           "xaxis": {
            "backgroundcolor": "#E5ECF6",
            "gridcolor": "white",
            "gridwidth": 2,
            "linecolor": "white",
            "showbackground": true,
            "ticks": "",
            "zerolinecolor": "white"
           },
           "yaxis": {
            "backgroundcolor": "#E5ECF6",
            "gridcolor": "white",
            "gridwidth": 2,
            "linecolor": "white",
            "showbackground": true,
            "ticks": "",
            "zerolinecolor": "white"
           },
           "zaxis": {
            "backgroundcolor": "#E5ECF6",
            "gridcolor": "white",
            "gridwidth": 2,
            "linecolor": "white",
            "showbackground": true,
            "ticks": "",
            "zerolinecolor": "white"
           }
          },
          "shapedefaults": {
           "line": {
            "color": "#2a3f5f"
           }
          },
          "ternary": {
           "aaxis": {
            "gridcolor": "white",
            "linecolor": "white",
            "ticks": ""
           },
           "baxis": {
            "gridcolor": "white",
            "linecolor": "white",
            "ticks": ""
           },
           "bgcolor": "#E5ECF6",
           "caxis": {
            "gridcolor": "white",
            "linecolor": "white",
            "ticks": ""
           }
          },
          "title": {
           "x": 0.05
          },
          "xaxis": {
           "automargin": true,
           "gridcolor": "white",
           "linecolor": "white",
           "ticks": "",
           "title": {
            "standoff": 15
           },
           "zerolinecolor": "white",
           "zerolinewidth": 2
          },
          "yaxis": {
           "automargin": true,
           "gridcolor": "white",
           "linecolor": "white",
           "ticks": "",
           "title": {
            "standoff": 15
           },
           "zerolinecolor": "white",
           "zerolinewidth": 2
          }
         }
        },
        "title": {
         "text": "Churn Plot"
        },
        "yaxis": {
         "title": {
          "text": "Churn Rates"
         }
        },
        "yaxis2": {
         "overlaying": "y",
         "side": "right",
         "title": {
          "text": "Event Frequency Distribution"
         }
        }
       }
      },
      "text/html": [
       "<div>                            <div id=\"3018624b-4cbd-493d-b09c-590cc0ead9df\" class=\"plotly-graph-div\" style=\"height:525px; width:100%;\"></div>            <script type=\"text/javascript\">                require([\"plotly\"], function(Plotly) {                    window.PLOTLYENV=window.PLOTLYENV || {};                                    if (document.getElementById(\"3018624b-4cbd-493d-b09c-590cc0ead9df\")) {                    Plotly.newPlot(                        \"3018624b-4cbd-493d-b09c-590cc0ead9df\",                        [{\"mode\":\"markers\",\"x\":[4.0,5.0,6.0,7.0,8.0,9.0,10.0,11.0,12.0,13.0,14.0,15.0,16.0,17.0,18.0,19.0,20.0,21.0,22.0,23.0,24.0,25.0,26.0,27.0,28.0,29.0,30.0,31.0,32.0,33.0,34.0,35.0,36.0,37.0,38.0,39.0,40.0,41.0,42.0,43.0,44.0,45.0,46.0,47.0,48.0,49.0],\"y\":[0.024352169840774273,0.024622087266486237,0.024152232251768723,0.022863530129051925,0.02311303719754424,0.023236399053847223,0.02608267716535433,0.02448672066302505,0.025789813023855575,0.02226027397260274,0.020788336933045357,0.024329382407985028,0.025658338960162053,0.03212551363466567,0.023894862604540025,0.02802491103202847,0.025677603423680456,0.02295918367346939,0.01959686450167973,0.019879518072289156,0.02610316967060286,0.026512576478585997,0.02437325905292479,0.03230890464933018,0.027624309392265192,0.02695871946082561,0.026246719160104987,0.022058823529411766,0.03241650294695481,0.029441624365482234,0.02066590126291619,0.02359550561797753,0.030371203599550055,0.02849740932642487,0.02717391304347826,0.03096774193548387,0.024709302325581394,0.024489795918367346,0.022488755622188907,0.032507739938080496,0.03271028037383177,0.018121911037891267,0.02355072463768116,0.03208556149732621,0.029357798165137616,0.03428571428571429],\"type\":\"scatter\"},{\"histfunc\":\"sum\",\"nbinsx\":100,\"opacity\":0.5,\"x\":[4.0,5.0,6.0,7.0,8.0,9.0,10.0,11.0,12.0,13.0,14.0,15.0,16.0,17.0,18.0,19.0,20.0,21.0,22.0,23.0,24.0,25.0,26.0,27.0,28.0,29.0,30.0,31.0,32.0,33.0,34.0,35.0,36.0,37.0,38.0,39.0,40.0,41.0,42.0,43.0,44.0,45.0,46.0,47.0,48.0,49.0],\"y\":[44842,15149,12297,9841,8307,7187,6096,5309,4653,4088,3704,3206,2962,2677,2511,2248,2103,1960,1786,1660,1609,1471,1436,1269,1267,1187,1143,1088,1018,985,871,890,889,772,736,775,688,735,667,646,642,607,552,561,545,525],\"yaxis\":\"y2\",\"type\":\"histogram\"}],                        {\"template\":{\"data\":{\"barpolar\":[{\"marker\":{\"line\":{\"color\":\"#E5ECF6\",\"width\":0.5},\"pattern\":{\"fillmode\":\"overlay\",\"size\":10,\"solidity\":0.2}},\"type\":\"barpolar\"}],\"bar\":[{\"error_x\":{\"color\":\"#2a3f5f\"},\"error_y\":{\"color\":\"#2a3f5f\"},\"marker\":{\"line\":{\"color\":\"#E5ECF6\",\"width\":0.5},\"pattern\":{\"fillmode\":\"overlay\",\"size\":10,\"solidity\":0.2}},\"type\":\"bar\"}],\"carpet\":[{\"aaxis\":{\"endlinecolor\":\"#2a3f5f\",\"gridcolor\":\"white\",\"linecolor\":\"white\",\"minorgridcolor\":\"white\",\"startlinecolor\":\"#2a3f5f\"},\"baxis\":{\"endlinecolor\":\"#2a3f5f\",\"gridcolor\":\"white\",\"linecolor\":\"white\",\"minorgridcolor\":\"white\",\"startlinecolor\":\"#2a3f5f\"},\"type\":\"carpet\"}],\"choropleth\":[{\"colorbar\":{\"outlinewidth\":0,\"ticks\":\"\"},\"type\":\"choropleth\"}],\"contourcarpet\":[{\"colorbar\":{\"outlinewidth\":0,\"ticks\":\"\"},\"type\":\"contourcarpet\"}],\"contour\":[{\"colorbar\":{\"outlinewidth\":0,\"ticks\":\"\"},\"colorscale\":[[0.0,\"#0d0887\"],[0.1111111111111111,\"#46039f\"],[0.2222222222222222,\"#7201a8\"],[0.3333333333333333,\"#9c179e\"],[0.4444444444444444,\"#bd3786\"],[0.5555555555555556,\"#d8576b\"],[0.6666666666666666,\"#ed7953\"],[0.7777777777777778,\"#fb9f3a\"],[0.8888888888888888,\"#fdca26\"],[1.0,\"#f0f921\"]],\"type\":\"contour\"}],\"heatmapgl\":[{\"colorbar\":{\"outlinewidth\":0,\"ticks\":\"\"},\"colorscale\":[[0.0,\"#0d0887\"],[0.1111111111111111,\"#46039f\"],[0.2222222222222222,\"#7201a8\"],[0.3333333333333333,\"#9c179e\"],[0.4444444444444444,\"#bd3786\"],[0.5555555555555556,\"#d8576b\"],[0.6666666666666666,\"#ed7953\"],[0.7777777777777778,\"#fb9f3a\"],[0.8888888888888888,\"#fdca26\"],[1.0,\"#f0f921\"]],\"type\":\"heatmapgl\"}],\"heatmap\":[{\"colorbar\":{\"outlinewidth\":0,\"ticks\":\"\"},\"colorscale\":[[0.0,\"#0d0887\"],[0.1111111111111111,\"#46039f\"],[0.2222222222222222,\"#7201a8\"],[0.3333333333333333,\"#9c179e\"],[0.4444444444444444,\"#bd3786\"],[0.5555555555555556,\"#d8576b\"],[0.6666666666666666,\"#ed7953\"],[0.7777777777777778,\"#fb9f3a\"],[0.8888888888888888,\"#fdca26\"],[1.0,\"#f0f921\"]],\"type\":\"heatmap\"}],\"histogram2dcontour\":[{\"colorbar\":{\"outlinewidth\":0,\"ticks\":\"\"},\"colorscale\":[[0.0,\"#0d0887\"],[0.1111111111111111,\"#46039f\"],[0.2222222222222222,\"#7201a8\"],[0.3333333333333333,\"#9c179e\"],[0.4444444444444444,\"#bd3786\"],[0.5555555555555556,\"#d8576b\"],[0.6666666666666666,\"#ed7953\"],[0.7777777777777778,\"#fb9f3a\"],[0.8888888888888888,\"#fdca26\"],[1.0,\"#f0f921\"]],\"type\":\"histogram2dcontour\"}],\"histogram2d\":[{\"colorbar\":{\"outlinewidth\":0,\"ticks\":\"\"},\"colorscale\":[[0.0,\"#0d0887\"],[0.1111111111111111,\"#46039f\"],[0.2222222222222222,\"#7201a8\"],[0.3333333333333333,\"#9c179e\"],[0.4444444444444444,\"#bd3786\"],[0.5555555555555556,\"#d8576b\"],[0.6666666666666666,\"#ed7953\"],[0.7777777777777778,\"#fb9f3a\"],[0.8888888888888888,\"#fdca26\"],[1.0,\"#f0f921\"]],\"type\":\"histogram2d\"}],\"histogram\":[{\"marker\":{\"pattern\":{\"fillmode\":\"overlay\",\"size\":10,\"solidity\":0.2}},\"type\":\"histogram\"}],\"mesh3d\":[{\"colorbar\":{\"outlinewidth\":0,\"ticks\":\"\"},\"type\":\"mesh3d\"}],\"parcoords\":[{\"line\":{\"colorbar\":{\"outlinewidth\":0,\"ticks\":\"\"}},\"type\":\"parcoords\"}],\"pie\":[{\"automargin\":true,\"type\":\"pie\"}],\"scatter3d\":[{\"line\":{\"colorbar\":{\"outlinewidth\":0,\"ticks\":\"\"}},\"marker\":{\"colorbar\":{\"outlinewidth\":0,\"ticks\":\"\"}},\"type\":\"scatter3d\"}],\"scattercarpet\":[{\"marker\":{\"colorbar\":{\"outlinewidth\":0,\"ticks\":\"\"}},\"type\":\"scattercarpet\"}],\"scattergeo\":[{\"marker\":{\"colorbar\":{\"outlinewidth\":0,\"ticks\":\"\"}},\"type\":\"scattergeo\"}],\"scattergl\":[{\"marker\":{\"colorbar\":{\"outlinewidth\":0,\"ticks\":\"\"}},\"type\":\"scattergl\"}],\"scattermapbox\":[{\"marker\":{\"colorbar\":{\"outlinewidth\":0,\"ticks\":\"\"}},\"type\":\"scattermapbox\"}],\"scatterpolargl\":[{\"marker\":{\"colorbar\":{\"outlinewidth\":0,\"ticks\":\"\"}},\"type\":\"scatterpolargl\"}],\"scatterpolar\":[{\"marker\":{\"colorbar\":{\"outlinewidth\":0,\"ticks\":\"\"}},\"type\":\"scatterpolar\"}],\"scatter\":[{\"fillpattern\":{\"fillmode\":\"overlay\",\"size\":10,\"solidity\":0.2},\"type\":\"scatter\"}],\"scatterternary\":[{\"marker\":{\"colorbar\":{\"outlinewidth\":0,\"ticks\":\"\"}},\"type\":\"scatterternary\"}],\"surface\":[{\"colorbar\":{\"outlinewidth\":0,\"ticks\":\"\"},\"colorscale\":[[0.0,\"#0d0887\"],[0.1111111111111111,\"#46039f\"],[0.2222222222222222,\"#7201a8\"],[0.3333333333333333,\"#9c179e\"],[0.4444444444444444,\"#bd3786\"],[0.5555555555555556,\"#d8576b\"],[0.6666666666666666,\"#ed7953\"],[0.7777777777777778,\"#fb9f3a\"],[0.8888888888888888,\"#fdca26\"],[1.0,\"#f0f921\"]],\"type\":\"surface\"}],\"table\":[{\"cells\":{\"fill\":{\"color\":\"#EBF0F8\"},\"line\":{\"color\":\"white\"}},\"header\":{\"fill\":{\"color\":\"#C8D4E3\"},\"line\":{\"color\":\"white\"}},\"type\":\"table\"}]},\"layout\":{\"annotationdefaults\":{\"arrowcolor\":\"#2a3f5f\",\"arrowhead\":0,\"arrowwidth\":1},\"autotypenumbers\":\"strict\",\"coloraxis\":{\"colorbar\":{\"outlinewidth\":0,\"ticks\":\"\"}},\"colorscale\":{\"diverging\":[[0,\"#8e0152\"],[0.1,\"#c51b7d\"],[0.2,\"#de77ae\"],[0.3,\"#f1b6da\"],[0.4,\"#fde0ef\"],[0.5,\"#f7f7f7\"],[0.6,\"#e6f5d0\"],[0.7,\"#b8e186\"],[0.8,\"#7fbc41\"],[0.9,\"#4d9221\"],[1,\"#276419\"]],\"sequential\":[[0.0,\"#0d0887\"],[0.1111111111111111,\"#46039f\"],[0.2222222222222222,\"#7201a8\"],[0.3333333333333333,\"#9c179e\"],[0.4444444444444444,\"#bd3786\"],[0.5555555555555556,\"#d8576b\"],[0.6666666666666666,\"#ed7953\"],[0.7777777777777778,\"#fb9f3a\"],[0.8888888888888888,\"#fdca26\"],[1.0,\"#f0f921\"]],\"sequentialminus\":[[0.0,\"#0d0887\"],[0.1111111111111111,\"#46039f\"],[0.2222222222222222,\"#7201a8\"],[0.3333333333333333,\"#9c179e\"],[0.4444444444444444,\"#bd3786\"],[0.5555555555555556,\"#d8576b\"],[0.6666666666666666,\"#ed7953\"],[0.7777777777777778,\"#fb9f3a\"],[0.8888888888888888,\"#fdca26\"],[1.0,\"#f0f921\"]]},\"colorway\":[\"#636efa\",\"#EF553B\",\"#00cc96\",\"#ab63fa\",\"#FFA15A\",\"#19d3f3\",\"#FF6692\",\"#B6E880\",\"#FF97FF\",\"#FECB52\"],\"font\":{\"color\":\"#2a3f5f\"},\"geo\":{\"bgcolor\":\"white\",\"lakecolor\":\"white\",\"landcolor\":\"#E5ECF6\",\"showlakes\":true,\"showland\":true,\"subunitcolor\":\"white\"},\"hoverlabel\":{\"align\":\"left\"},\"hovermode\":\"closest\",\"mapbox\":{\"style\":\"light\"},\"paper_bgcolor\":\"white\",\"plot_bgcolor\":\"#E5ECF6\",\"polar\":{\"angularaxis\":{\"gridcolor\":\"white\",\"linecolor\":\"white\",\"ticks\":\"\"},\"bgcolor\":\"#E5ECF6\",\"radialaxis\":{\"gridcolor\":\"white\",\"linecolor\":\"white\",\"ticks\":\"\"}},\"scene\":{\"xaxis\":{\"backgroundcolor\":\"#E5ECF6\",\"gridcolor\":\"white\",\"gridwidth\":2,\"linecolor\":\"white\",\"showbackground\":true,\"ticks\":\"\",\"zerolinecolor\":\"white\"},\"yaxis\":{\"backgroundcolor\":\"#E5ECF6\",\"gridcolor\":\"white\",\"gridwidth\":2,\"linecolor\":\"white\",\"showbackground\":true,\"ticks\":\"\",\"zerolinecolor\":\"white\"},\"zaxis\":{\"backgroundcolor\":\"#E5ECF6\",\"gridcolor\":\"white\",\"gridwidth\":2,\"linecolor\":\"white\",\"showbackground\":true,\"ticks\":\"\",\"zerolinecolor\":\"white\"}},\"shapedefaults\":{\"line\":{\"color\":\"#2a3f5f\"}},\"ternary\":{\"aaxis\":{\"gridcolor\":\"white\",\"linecolor\":\"white\",\"ticks\":\"\"},\"baxis\":{\"gridcolor\":\"white\",\"linecolor\":\"white\",\"ticks\":\"\"},\"bgcolor\":\"#E5ECF6\",\"caxis\":{\"gridcolor\":\"white\",\"linecolor\":\"white\",\"ticks\":\"\"}},\"title\":{\"x\":0.05},\"xaxis\":{\"automargin\":true,\"gridcolor\":\"white\",\"linecolor\":\"white\",\"ticks\":\"\",\"title\":{\"standoff\":15},\"zerolinecolor\":\"white\",\"zerolinewidth\":2},\"yaxis\":{\"automargin\":true,\"gridcolor\":\"white\",\"linecolor\":\"white\",\"ticks\":\"\",\"title\":{\"standoff\":15},\"zerolinecolor\":\"white\",\"zerolinewidth\":2}}},\"title\":{\"text\":\"Churn Plot\"},\"yaxis\":{\"title\":{\"text\":\"Churn Rates\"}},\"yaxis2\":{\"overlaying\":\"y\",\"side\":\"right\",\"title\":{\"text\":\"Event Frequency Distribution\"}}},                        {\"responsive\": true}                    ).then(function(){\n",
       "                            \n",
       "var gd = document.getElementById('3018624b-4cbd-493d-b09c-590cc0ead9df');\n",
       "var x = new MutationObserver(function (mutations, observer) {{\n",
       "        var display = window.getComputedStyle(gd).display;\n",
       "        if (!display || display === 'none') {{\n",
       "            console.log([gd, 'removed!']);\n",
       "            Plotly.purge(gd);\n",
       "            observer.disconnect();\n",
       "        }}\n",
       "}});\n",
       "\n",
       "// Listen for the removal of the full notebook cells\n",
       "var notebookContainer = gd.closest('#notebook-container');\n",
       "if (notebookContainer) {{\n",
       "    x.observe(notebookContainer, {childList: true});\n",
       "}}\n",
       "\n",
       "// Listen for the clearing of the current output cell\n",
       "var outputEl = gd.closest('.output');\n",
       "if (outputEl) {{\n",
       "    x.observe(outputEl, {childList: true});\n",
       "}}\n",
       "\n",
       "                        })                };                });            </script>        </div>"
      ]
     },
     "metadata": {},
     "output_type": "display_data"
    }
   ],
   "source": [
    "df = pd.read_csv('5g_home_web_seconds_per_page_v1.csv')\n",
    "\n",
    "# Filter for a single metric\n",
    "df = df.loc[df.metricname == 'seconds_per_page']\n",
    "\n",
    "# Filter for the appropriate typology\n",
    "df = df.loc[df.primary_high_level_reason == 'all']\n",
    "\n",
    "# Rename the main column\n",
    "df.rename(columns={'value':'seconds_per_page'}, inplace=True)\n",
    "\n",
    "# Remove nulls\n",
    "print(len(df))\n",
    "df = df.loc[df.metricname.notnull()]\n",
    "print(len(df))\n",
    "\n",
    "# %% Instantiate Metadata (class object for threshold build)\n",
    "seconds_per_page_object = tbs.Threshold_Build(\n",
    "    metricname = 'seconds_per_page', \n",
    "    channel = '5g_home', \n",
    "    input_df = df.copy(deep=True)\n",
    ")\n",
    "\n",
    "# %% Analyze exisiting relationship: Plot Bivariate\n",
    "# bins = [i for i in range(-7200,-9,60)]\n",
    "\n",
    "seconds_per_page_object.plot_churn(\n",
    "    bins = [i for i in range(3,50,1)]\n",
    ")"
   ]
  },
  {
   "cell_type": "code",
   "execution_count": 3,
   "id": "3f372c00",
   "metadata": {},
   "outputs": [
    {
     "name": "stdout",
     "output_type": "stream",
     "text": [
      "Resetting result_table\n",
      "Cutoff percent: 0.01\n",
      "Cutoff percent: 0.02\n",
      "Cutoff percent: 0.03\n",
      "Cutoff percent: 0.04\n",
      "Cutoff percent: 0.05\n",
      "Cutoff percent: 0.06\n",
      "Cutoff percent: 0.07\n",
      "Cutoff percent: 0.08\n",
      "Cutoff percent: 0.09\n",
      "Cutoff percent: 0.1\n",
      "Threshold: -3\n",
      "No possible cutoffs to choose from for cutoff 4\n",
      "Size of filtered cartesian df: 0\n",
      "No cutoffs found that were monotonic between 2 and 4 for threshold: -3\n",
      "Monotonic cutoffs for 2 but not 4 were found for threshold: -3\n",
      "Threshold: -4\n",
      "No possible cutoffs to choose from for cutoff 4\n",
      "Size of filtered cartesian df: 0\n",
      "No cutoffs found that were monotonic between 2 and 4 for threshold: -4\n",
      "Monotonic cutoffs for 2 but not 4 were found for threshold: -4\n",
      "Threshold: -5\n",
      "Size of filtered cartesian df: 0\n",
      "No cutoffs found that were monotonic between 2 and 4 for threshold: -5\n",
      "We have valid 2s and 4s, but no monotonicty between them for threshold: -5\n",
      "Threshold: -6\n",
      "Size of filtered cartesian df: 0\n",
      "Big table is empty... Initializing\n",
      "Size of big table: 72\n",
      "This condition picked up completely valid cutoffs\n",
      "Threshold: -7\n",
      "Size of filtered cartesian df: 3\n",
      "Big table is not empty... Appending\n",
      "New size of big table: 177\n",
      "This condition picked up completely valid cutoffs\n",
      "Threshold: -8\n",
      "Size of filtered cartesian df: 44\n",
      "Big table is not empty... Appending\n",
      "New size of big table: 313\n",
      "This condition picked up completely valid cutoffs\n",
      "Threshold: -9\n",
      "Size of filtered cartesian df: 96\n",
      "Big table is not empty... Appending\n",
      "New size of big table: 478\n",
      "This condition picked up completely valid cutoffs\n",
      "Threshold: -10\n",
      "Size of filtered cartesian df: 128\n",
      "Big table is not empty... Appending\n",
      "New size of big table: 670\n",
      "This condition picked up completely valid cutoffs\n",
      "Threshold: -11\n",
      "Size of filtered cartesian df: 153\n",
      "Big table is not empty... Appending\n",
      "New size of big table: 887\n",
      "This condition picked up completely valid cutoffs\n",
      "Threshold: -12\n",
      "Size of filtered cartesian df: 131\n",
      "Big table is not empty... Appending\n",
      "New size of big table: 1127\n",
      "This condition picked up completely valid cutoffs\n",
      "Threshold: -13\n",
      "Size of filtered cartesian df: 137\n",
      "Big table is not empty... Appending\n",
      "New size of big table: 1388\n",
      "This condition picked up completely valid cutoffs\n",
      "Threshold: -14\n",
      "Size of filtered cartesian df: 140\n",
      "Big table is not empty... Appending\n",
      "New size of big table: 1668\n",
      "This condition picked up completely valid cutoffs\n",
      "Threshold: -15\n",
      "Size of filtered cartesian df: 241\n",
      "Big table is not empty... Appending\n",
      "New size of big table: 1965\n",
      "This condition picked up completely valid cutoffs\n",
      "Threshold: -16\n",
      "Size of filtered cartesian df: 260\n",
      "Big table is not empty... Appending\n",
      "New size of big table: 2277\n",
      "This condition picked up completely valid cutoffs\n",
      "Threshold: -17\n",
      "Size of filtered cartesian df: 275\n",
      "Big table is not empty... Appending\n",
      "New size of big table: 2602\n",
      "This condition picked up completely valid cutoffs\n",
      "Threshold: -18\n",
      "Size of filtered cartesian df: 239\n",
      "Big table is not empty... Appending\n",
      "New size of big table: 2938\n",
      "This condition picked up completely valid cutoffs\n",
      "Threshold: -19\n",
      "Size of filtered cartesian df: 184\n",
      "Big table is not empty... Appending\n",
      "New size of big table: 3283\n",
      "This condition picked up completely valid cutoffs\n",
      "Threshold: -20\n",
      "Size of filtered cartesian df: 164\n",
      "Big table is not empty... Appending\n",
      "New size of big table: 3635\n",
      "This condition picked up completely valid cutoffs\n",
      "Threshold: -21\n",
      "Size of filtered cartesian df: 109\n",
      "Big table is not empty... Appending\n",
      "New size of big table: 3992\n",
      "This condition picked up completely valid cutoffs\n",
      "Threshold: -22\n",
      "Size of filtered cartesian df: 131\n",
      "Big table is not empty... Appending\n",
      "New size of big table: 4352\n",
      "This condition picked up completely valid cutoffs\n",
      "Threshold: -23\n",
      "Size of filtered cartesian df: 218\n",
      "Big table is not empty... Appending\n",
      "New size of big table: 4713\n",
      "This condition picked up completely valid cutoffs\n",
      "Threshold: -24\n",
      "Size of filtered cartesian df: 322\n",
      "Big table is not empty... Appending\n",
      "New size of big table: 5073\n",
      "This condition picked up completely valid cutoffs\n",
      "Threshold: -25\n",
      "Size of filtered cartesian df: 323\n",
      "Big table is not empty... Appending\n",
      "New size of big table: 5430\n",
      "This condition picked up completely valid cutoffs\n",
      "Threshold: -26\n",
      "Size of filtered cartesian df: 311\n",
      "Big table is not empty... Appending\n",
      "New size of big table: 5782\n",
      "This condition picked up completely valid cutoffs\n",
      "Threshold: -27\n",
      "Size of filtered cartesian df: 315\n",
      "Big table is not empty... Appending\n",
      "New size of big table: 6127\n",
      "This condition picked up completely valid cutoffs\n",
      "Threshold: -28\n",
      "Size of filtered cartesian df: 308\n",
      "Big table is not empty... Appending\n",
      "New size of big table: 6463\n",
      "This condition picked up completely valid cutoffs\n",
      "Threshold: -29\n",
      "Size of filtered cartesian df: 244\n",
      "Big table is not empty... Appending\n",
      "New size of big table: 6788\n",
      "This condition picked up completely valid cutoffs\n",
      "Threshold: -30\n",
      "Size of filtered cartesian df: 210\n",
      "Big table is not empty... Appending\n",
      "New size of big table: 7100\n",
      "This condition picked up completely valid cutoffs\n",
      "Threshold: -31\n",
      "Size of filtered cartesian df: 195\n",
      "Big table is not empty... Appending\n",
      "New size of big table: 7397\n",
      "This condition picked up completely valid cutoffs\n",
      "Threshold: -32\n",
      "Size of filtered cartesian df: 247\n",
      "Big table is not empty... Appending\n",
      "New size of big table: 7677\n",
      "This condition picked up completely valid cutoffs\n",
      "Threshold: -33\n",
      "Size of filtered cartesian df: 202\n",
      "Big table is not empty... Appending\n",
      "New size of big table: 7938\n",
      "This condition picked up completely valid cutoffs\n",
      "Threshold: -34\n",
      "Size of filtered cartesian df: 93\n",
      "Big table is not empty... Appending\n",
      "New size of big table: 8178\n",
      "This condition picked up completely valid cutoffs\n",
      "Threshold: -35\n",
      "Size of filtered cartesian df: 135\n",
      "Big table is not empty... Appending\n",
      "New size of big table: 8395\n",
      "This condition picked up completely valid cutoffs\n",
      "Threshold: -36\n",
      "Size of filtered cartesian df: 180\n",
      "Big table is not empty... Appending\n",
      "New size of big table: 8587\n",
      "This condition picked up completely valid cutoffs\n",
      "Threshold: -37\n",
      "Size of filtered cartesian df: 155\n",
      "Big table is not empty... Appending\n",
      "New size of big table: 8752\n",
      "This condition picked up completely valid cutoffs\n",
      "Threshold: -38\n",
      "Size of filtered cartesian df: 117\n",
      "Big table is not empty... Appending\n",
      "New size of big table: 8888\n",
      "This condition picked up completely valid cutoffs\n",
      "Threshold: -39\n",
      "Size of filtered cartesian df: 89\n",
      "Big table is not empty... Appending\n",
      "New size of big table: 8993\n",
      "This condition picked up completely valid cutoffs\n",
      "Threshold: -40\n",
      "Size of filtered cartesian df: 5\n",
      "No cutoffs found that were monotonic between 2 and 4 for threshold: -40\n",
      "We have valid 2s and 4s, but no monotonicty between them for threshold: -40\n",
      "Threshold: -41\n",
      "Size of filtered cartesian df: 5\n",
      "No cutoffs found that were monotonic between 2 and 4 for threshold: -41\n",
      "We have valid 2s and 4s, but no monotonicty between them for threshold: -41\n",
      "Threshold: -42\n",
      "No possible cutoffs to choose from for cutoff 2\n",
      "Size of filtered cartesian df: 5\n",
      "No cutoffs found that were monotonic between 2 and 4 for threshold: -42\n",
      "Monotonic cutoffs for 4 but not 2 were found for threshold: -42\n",
      "Threshold: -43\n",
      "No possible cutoffs to choose from for cutoff 2\n",
      "Size of filtered cartesian df: 5\n",
      "No cutoffs found that were monotonic between 2 and 4 for threshold: -43\n",
      "Monotonic cutoffs for 4 but not 2 were found for threshold: -43\n",
      "Threshold: -44\n",
      "No possible cutoffs to choose from for cutoff 2\n",
      "Size of filtered cartesian df: 5\n",
      "No cutoffs found that were monotonic between 2 and 4 for threshold: -44\n",
      "Monotonic cutoffs for 4 but not 2 were found for threshold: -44\n",
      "Threshold: -45\n",
      "No possible cutoffs to choose from for cutoff 2\n",
      "Size of filtered cartesian df: 5\n",
      "No cutoffs found that were monotonic between 2 and 4 for threshold: -45\n",
      "Monotonic cutoffs for 4 but not 2 were found for threshold: -45\n",
      "Threshold: -46\n",
      "No possible cutoffs to choose from for cutoff 2\n",
      "Size of filtered cartesian df: 5\n",
      "No cutoffs found that were monotonic between 2 and 4 for threshold: -46\n",
      "Monotonic cutoffs for 4 but not 2 were found for threshold: -46\n",
      "Threshold: -47\n",
      "No possible cutoffs to choose from for cutoff 2\n",
      "Size of filtered cartesian df: 5\n",
      "No cutoffs found that were monotonic between 2 and 4 for threshold: -47\n",
      "Monotonic cutoffs for 4 but not 2 were found for threshold: -47\n",
      "Threshold: -48\n",
      "No possible cutoffs to choose from for cutoff 2\n"
     ]
    },
    {
     "name": "stdout",
     "output_type": "stream",
     "text": [
      "Size of filtered cartesian df: 5\n",
      "No cutoffs found that were monotonic between 2 and 4 for threshold: -48\n",
      "Monotonic cutoffs for 4 but not 2 were found for threshold: -48\n",
      "Threshold: -49\n",
      "No possible cutoffs to choose from for cutoff 2\n",
      "Size of filtered cartesian df: 5\n",
      "No cutoffs found that were monotonic between 2 and 4 for threshold: -49\n",
      "Monotonic cutoffs for 4 but not 2 were found for threshold: -49\n",
      "Remove old monotonic flag...\n",
      "Remove old monotonic flag...Done.\n",
      "Checking each row for monotonicity...\n",
      "Checking each row for monotonicity...Done.\n",
      "Remove old minimum population flag...\n",
      "Remove old minimum population flag...Done.\n",
      "Checking each row for minimum population criteria...\n",
      "Checking each row for minimum population criteria...Done.\n",
      "Total Completely Valid Cutoffs: 2722 \n",
      "Total Monotonic Cutoffs: 2843 \n",
      "Total Cutoffs with Valid Bin Sizes: 8180\n",
      "Ranking using good vs bad\n",
      "Ranking using dif between extremes\n",
      "Ranking using pairwise ratio\n",
      "Ranking using sum of square errors\n"
     ]
    }
   ],
   "source": [
    "# %% Explicitly record the relationship to churn\n",
    "seconds_per_page_object.relationship_to_churn = 'positive'\n",
    "\n",
    "seconds_per_page_object.input_df['seconds_per_page'] = seconds_per_page_object.input_df['seconds_per_page'] * (-1)\n",
    "\n",
    "# %% Split the input dataframe\n",
    "seconds_per_page_object.split = (3, None)\n",
    "\n",
    "# %% Create universe of potential thresholds\n",
    "\n",
    "seconds_per_page_object.create_3(\n",
    "    list_of_thresholds = [-i for i in range(3, 50, 1)]\n",
    ")\n",
    "\n",
    "# %% Establish cutoffs for each potential threshold\n",
    "seconds_per_page_object.create_1_5(\n",
    "    ## think of argument name for how many percentiles to loop through\n",
    ")\n",
    "\n",
    "seconds_per_page_object.create_2_4(\n",
    "    ## create argument for how many potential 2s and 4s we cycle through\n",
    ")\n",
    "\n",
    "\n",
    "# %% Create bins\n",
    "seconds_per_page_object.create_bins(\n",
    "        input_df = seconds_per_page_object.cutoff_universe_df,\n",
    "        bin_definitions = {\n",
    "                'bin_1':['1','btwn_1_2'],\n",
    "                'bin_2':['2','btwn_2_3'],\n",
    "                'bin_3':['3','btwn_3_4'],\n",
    "                'bin_4':['4','btwn_4_5','5']\n",
    "        }\n",
    ")\n",
    "\n",
    "# %% Validity Checks\n",
    "seconds_per_page_object.cutoff_validity_checks(\n",
    "    num_bins = 4,\n",
    "    ordered_bin_suffixes = [\n",
    "        'bin_1',\n",
    "        'bin_2',\n",
    "        'bin_3',\n",
    "        'bin_4'], \n",
    "    check_monotonic = True, \n",
    "    check_pop_size = True,\n",
    "    min_pop_size = (sum(seconds_per_page_object.input_df.events) * 0.01)\n",
    ")\n",
    "\n",
    "# Looking at the number of valid curves\n",
    "print('Total Completely Valid Cutoffs:',\n",
    "    sum((seconds_per_page_object.cutoff_universe_df['is_monotonic'] == 'Y') &\n",
    "    (seconds_per_page_object.cutoff_universe_df['is_valid_bin_size'] == 'Y')),\n",
    "    '\\nTotal Monotonic Cutoffs:',\n",
    "    sum((seconds_per_page_object.cutoff_universe_df['is_monotonic'] == 'Y')),\n",
    "    '\\nTotal Cutoffs with Valid Bin Sizes:',\n",
    "    sum((seconds_per_page_object.cutoff_universe_df['is_valid_bin_size'] == 'Y'))\n",
    ")\n",
    "\n",
    "\n",
    "# %% Define ranking columns for shortlisting the best curves\n",
    "print('Ranking using good vs bad')\n",
    "seconds_per_page_object.define_ranking(\n",
    "    ordered_bin_suffixes = [\n",
    "        'bin_1',\n",
    "        'bin_2',\n",
    "        'bin_3',\n",
    "        'bin_4'],\n",
    "    ranking_formula = 'good_v_bad',\n",
    "    ranking_column = 'good_v_bad_rank',\n",
    "    ranking_method = 'dense',\n",
    "    rounding_factor = 3\n",
    ")\n",
    "\n",
    "print('Ranking using dif between extremes')\n",
    "seconds_per_page_object.define_ranking(\n",
    "    ordered_bin_suffixes = [\n",
    "        'bin_1',\n",
    "        'bin_2',\n",
    "        'bin_3',\n",
    "        'bin_4'],\n",
    "    ranking_formula = 'dif_in_extremes',\n",
    "    ranking_column = 'dif_in_extremes_rank',\n",
    "    ranking_method = 'dense',\n",
    "    rounding_factor = 4\n",
    ")\n",
    "\n",
    "print('Ranking using pairwise ratio')\n",
    "seconds_per_page_object.define_ranking(\n",
    "    ordered_bin_suffixes = [\n",
    "        'bin_1',\n",
    "        'bin_2',\n",
    "        'bin_3',\n",
    "        'bin_4'],\n",
    "    ranking_formula = 'pairwise_ratio',\n",
    "    ranking_column = 'pairwise_ratio_rank',\n",
    "    ranking_method = 'dense',\n",
    "    rounding_factor = 1\n",
    ")\n",
    "\n",
    "print('Ranking using sum of square errors')\n",
    "seconds_per_page_object.define_ranking(\n",
    "    ordered_bin_suffixes = [\n",
    "        'bin_1',\n",
    "        'bin_2',\n",
    "        'bin_3',\n",
    "        'bin_4'],\n",
    "    ranking_formula = 'sum_square_errors',\n",
    "    ranking_column = 'sum_square_errors_rank',\n",
    "    ranking_method = 'dense',\n",
    "    rounding_factor = None      # Does not round the squared errors\n",
    ")\n",
    "\n",
    "# %% Saving curve dataframe to csv for inspection and manual curve selection\n",
    "seconds_per_page_object.cutoff_universe_df.sort_values(\n",
    "    by = [\n",
    "        'is_monotonic',\n",
    "        'is_valid_bin_size',\n",
    "        'pairwise_ratio_rank',\n",
    "        'dif_in_extremes_rank',\n",
    "        'sum_square_errors_rank'\n",
    "    ],\n",
    "    ascending = [\n",
    "        False,\n",
    "        False,\n",
    "        True,\n",
    "        True,\n",
    "        True\n",
    "    ],\n",
    "    inplace = True\n",
    ")\n",
    "\n",
    "# Save sorted dataframe as csv\n",
    "seconds_per_page_object.cutoff_universe_df.to_csv('seconds_per_page_cutoffs.csv')"
   ]
  },
  {
   "cell_type": "code",
   "execution_count": 4,
   "id": "b90e9ef6",
   "metadata": {},
   "outputs": [
    {
     "name": "stdout",
     "output_type": "stream",
     "text": [
      "threshold: 35\n",
      "cutoff 1: 43\n",
      "cutoff 2: 42\n",
      "cutoff 4: 15\n",
      "cutoff 5: 3\n"
     ]
    }
   ],
   "source": [
    "# %% Establish best threshold (pick final candidate)\n",
    "\n",
    "# Top row is the winner\n",
    "best_seconds_per_page_curve = seconds_per_page_object.cutoff_universe_df.iloc[0,:]\n",
    "\n",
    "#%%\n",
    "# Assign cutoffs from the winner to object attributes\n",
    "seconds_per_page_object.best_threshold = best_seconds_per_page_curve['threshold'] * (-1)\n",
    "print('threshold:', seconds_per_page_object.best_threshold)\n",
    "\n",
    "seconds_per_page_object.best_cutoff_1 =  best_seconds_per_page_curve['cutoff_1'] * (-1)\n",
    "print('cutoff 1:', seconds_per_page_object.best_cutoff_1)\n",
    "\n",
    "seconds_per_page_object.best_cutoff_2 =  best_seconds_per_page_curve['cutoff_2'] * (-1)\n",
    "print('cutoff 2:', seconds_per_page_object.best_cutoff_2)\n",
    "\n",
    "seconds_per_page_object.best_cutoff_4 =  best_seconds_per_page_curve['cutoff_4'] * (-1)\n",
    "print('cutoff 4:', seconds_per_page_object.best_cutoff_4)\n",
    "\n",
    "seconds_per_page_object.best_cutoff_5 =  best_seconds_per_page_curve['cutoff_5'] * (-1)\n",
    "print('cutoff 5:', seconds_per_page_object.best_cutoff_5)"
   ]
  },
  {
   "cell_type": "code",
   "execution_count": null,
   "id": "ad85b764",
   "metadata": {},
   "outputs": [],
   "source": []
  }
 ],
 "metadata": {
  "kernelspec": {
   "display_name": "Python 3 (ipykernel)",
   "language": "python",
   "name": "python3"
  },
  "language_info": {
   "codemirror_mode": {
    "name": "ipython",
    "version": 3
   },
   "file_extension": ".py",
   "mimetype": "text/x-python",
   "name": "python",
   "nbconvert_exporter": "python",
   "pygments_lexer": "ipython3",
   "version": "3.9.7"
  }
 },
 "nbformat": 4,
 "nbformat_minor": 5
}
