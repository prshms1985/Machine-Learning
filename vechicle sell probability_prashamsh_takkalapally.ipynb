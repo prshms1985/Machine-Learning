{
 "cells": [
  {
   "cell_type": "code",
   "execution_count": 191,
   "metadata": {},
   "outputs": [],
   "source": [
    "##Commercial Case Study by Prashamsh Takkalapally"
   ]
  },
  {
   "cell_type": "code",
   "execution_count": 210,
   "metadata": {},
   "outputs": [],
   "source": [
    "#Importing necessary packages\n",
    "import pandas as pd\n",
    "import numpy as np\n",
    "from sklearn.model_selection import train_test_split\n",
    "from sklearn.linear_model import LogisticRegression\n",
    "from sklearn import preprocessing\n",
    "from sklearn.metrics import accuracy_score, classification_report, confusion_matrix\n",
    "from matplotlib import pyplot as plt\n",
    "import seaborn as sns"
   ]
  },
  {
   "cell_type": "code",
   "execution_count": 211,
   "metadata": {},
   "outputs": [],
   "source": [
    "#Read the data from the excel\n",
    "veh_excel = pd.ExcelFile ('Commercial Sale Case Study.xlsx')\n",
    "veh_data = pd.read_excel (veh_excel, 'Data')"
   ]
  },
  {
   "cell_type": "code",
   "execution_count": 212,
   "metadata": {},
   "outputs": [
    {
     "data": {
      "text/html": [
       "<div>\n",
       "<style scoped>\n",
       "    .dataframe tbody tr th:only-of-type {\n",
       "        vertical-align: middle;\n",
       "    }\n",
       "\n",
       "    .dataframe tbody tr th {\n",
       "        vertical-align: top;\n",
       "    }\n",
       "\n",
       "    .dataframe thead th {\n",
       "        text-align: right;\n",
       "    }\n",
       "</style>\n",
       "<table border=\"1\" class=\"dataframe\">\n",
       "  <thead>\n",
       "    <tr style=\"text-align: right;\">\n",
       "      <th></th>\n",
       "      <th>sauci</th>\n",
       "      <th>auctionname</th>\n",
       "      <th>auctioncity</th>\n",
       "      <th>swo</th>\n",
       "      <th>sdtesa</th>\n",
       "      <th>arrivaldate</th>\n",
       "      <th>sser17</th>\n",
       "      <th>JD_POWERS_CAT_DESC</th>\n",
       "      <th>JD_POWERS_SUB_CAT_DESC</th>\n",
       "      <th>dmpostcond</th>\n",
       "      <th>...</th>\n",
       "      <th>YMM</th>\n",
       "      <th>volseg</th>\n",
       "      <th>Velocity</th>\n",
       "      <th>DSO</th>\n",
       "      <th>Unnamed: 34</th>\n",
       "      <th>MMR</th>\n",
       "      <th>AdjMMR</th>\n",
       "      <th>SREMAR</th>\n",
       "      <th>SANNOU</th>\n",
       "      <th>abnormal</th>\n",
       "    </tr>\n",
       "  </thead>\n",
       "  <tbody>\n",
       "    <tr>\n",
       "      <th>0</th>\n",
       "      <td>RAA</td>\n",
       "      <td>Manheim Riverside</td>\n",
       "      <td>Riverside</td>\n",
       "      <td>2291908</td>\n",
       "      <td>20161115</td>\n",
       "      <td>20161103</td>\n",
       "      <td>19XFB2F89DE258267</td>\n",
       "      <td>COMPACT CAR</td>\n",
       "      <td>PREMIUM</td>\n",
       "      <td>3.8</td>\n",
       "      <td>...</td>\n",
       "      <td>2013_Honda_CivicSdn</td>\n",
       "      <td>Tier1</td>\n",
       "      <td>Hot</td>\n",
       "      <td>NaN</td>\n",
       "      <td>1</td>\n",
       "      <td>10375.0</td>\n",
       "      <td>10632.0</td>\n",
       "      <td>NaN</td>\n",
       "      <td>DMV$133</td>\n",
       "      <td>0</td>\n",
       "    </tr>\n",
       "    <tr>\n",
       "      <th>1</th>\n",
       "      <td>MAAI</td>\n",
       "      <td>Manheim Minneapolis</td>\n",
       "      <td>Maple Grove</td>\n",
       "      <td>2388041</td>\n",
       "      <td>20160727</td>\n",
       "      <td>20160709</td>\n",
       "      <td>1C3CCBBB3DN689978</td>\n",
       "      <td>MIDSIZE CAR</td>\n",
       "      <td>PREMIUM</td>\n",
       "      <td>4.2</td>\n",
       "      <td>...</td>\n",
       "      <td>2013_Chrysler_200</td>\n",
       "      <td>Tier1</td>\n",
       "      <td>Hot</td>\n",
       "      <td>NaN</td>\n",
       "      <td>1</td>\n",
       "      <td>8046.0</td>\n",
       "      <td>8658.0</td>\n",
       "      <td>NaN</td>\n",
       "      <td>NaN</td>\n",
       "      <td>0</td>\n",
       "    </tr>\n",
       "    <tr>\n",
       "      <th>2</th>\n",
       "      <td>DALA</td>\n",
       "      <td>Manheim Dallas</td>\n",
       "      <td>Dallas</td>\n",
       "      <td>4741877</td>\n",
       "      <td>20160831</td>\n",
       "      <td>20160812</td>\n",
       "      <td>1C3CCCAB2FN689464</td>\n",
       "      <td>MIDSIZE CAR</td>\n",
       "      <td>PREMIUM</td>\n",
       "      <td>3.4</td>\n",
       "      <td>...</td>\n",
       "      <td>2015_Chrysler_200</td>\n",
       "      <td>Tier1</td>\n",
       "      <td>Warm</td>\n",
       "      <td>NaN</td>\n",
       "      <td>1</td>\n",
       "      <td>11484.0</td>\n",
       "      <td>11457.0</td>\n",
       "      <td>NaN</td>\n",
       "      <td>NaN</td>\n",
       "      <td>0</td>\n",
       "    </tr>\n",
       "    <tr>\n",
       "      <th>3</th>\n",
       "      <td>FAAO</td>\n",
       "      <td>Manheim Orlando</td>\n",
       "      <td>Ocoee</td>\n",
       "      <td>3479240</td>\n",
       "      <td>20161129</td>\n",
       "      <td>20161102</td>\n",
       "      <td>1C3CCCAB9FN612381</td>\n",
       "      <td>MIDSIZE CAR</td>\n",
       "      <td>PREMIUM</td>\n",
       "      <td>2.0</td>\n",
       "      <td>...</td>\n",
       "      <td>2015_Chrysler_200</td>\n",
       "      <td>Tier1</td>\n",
       "      <td>Warm</td>\n",
       "      <td>NaN</td>\n",
       "      <td>1</td>\n",
       "      <td>9130.0</td>\n",
       "      <td>7681.0</td>\n",
       "      <td>NaN</td>\n",
       "      <td>NaN</td>\n",
       "      <td>0</td>\n",
       "    </tr>\n",
       "    <tr>\n",
       "      <th>4</th>\n",
       "      <td>DALA</td>\n",
       "      <td>Manheim Dallas</td>\n",
       "      <td>Dallas</td>\n",
       "      <td>4777897</td>\n",
       "      <td>20161026</td>\n",
       "      <td>20160927</td>\n",
       "      <td>1C3CDFBB9FD331412</td>\n",
       "      <td>MIDSIZE CAR</td>\n",
       "      <td>PREMIUM</td>\n",
       "      <td>4.2</td>\n",
       "      <td>...</td>\n",
       "      <td>2015_Dodge_Dart</td>\n",
       "      <td>Tier1</td>\n",
       "      <td>Hot</td>\n",
       "      <td>NaN</td>\n",
       "      <td>1</td>\n",
       "      <td>9804.0</td>\n",
       "      <td>9880.0</td>\n",
       "      <td>NaN</td>\n",
       "      <td>NaN</td>\n",
       "      <td>0</td>\n",
       "    </tr>\n",
       "  </tbody>\n",
       "</table>\n",
       "<p>5 rows × 40 columns</p>\n",
       "</div>"
      ],
      "text/plain": [
       "  sauci          auctionname  auctioncity      swo    sdtesa  arrivaldate  \\\n",
       "0   RAA    Manheim Riverside    Riverside  2291908  20161115     20161103   \n",
       "1  MAAI  Manheim Minneapolis  Maple Grove  2388041  20160727     20160709   \n",
       "2  DALA       Manheim Dallas       Dallas  4741877  20160831     20160812   \n",
       "3  FAAO      Manheim Orlando        Ocoee  3479240  20161129     20161102   \n",
       "4  DALA       Manheim Dallas       Dallas  4777897  20161026     20160927   \n",
       "\n",
       "              sser17 JD_POWERS_CAT_DESC JD_POWERS_SUB_CAT_DESC  dmpostcond  \\\n",
       "0  19XFB2F89DE258267        COMPACT CAR                PREMIUM         3.8   \n",
       "1  1C3CCBBB3DN689978        MIDSIZE CAR                PREMIUM         4.2   \n",
       "2  1C3CCCAB2FN689464        MIDSIZE CAR                PREMIUM         3.4   \n",
       "3  1C3CCCAB9FN612381        MIDSIZE CAR                PREMIUM         2.0   \n",
       "4  1C3CDFBB9FD331412        MIDSIZE CAR                PREMIUM         4.2   \n",
       "\n",
       "   ...                  YMM  volseg Velocity  DSO Unnamed: 34      MMR  \\\n",
       "0  ...  2013_Honda_CivicSdn   Tier1      Hot  NaN           1  10375.0   \n",
       "1  ...    2013_Chrysler_200   Tier1      Hot  NaN           1   8046.0   \n",
       "2  ...    2015_Chrysler_200   Tier1     Warm  NaN           1  11484.0   \n",
       "3  ...    2015_Chrysler_200   Tier1     Warm  NaN           1   9130.0   \n",
       "4  ...      2015_Dodge_Dart   Tier1      Hot  NaN           1   9804.0   \n",
       "\n",
       "    AdjMMR SREMAR   SANNOU abnormal  \n",
       "0  10632.0    NaN  DMV$133        0  \n",
       "1   8658.0    NaN      NaN        0  \n",
       "2  11457.0    NaN      NaN        0  \n",
       "3   7681.0    NaN      NaN        0  \n",
       "4   9880.0    NaN      NaN        0  \n",
       "\n",
       "[5 rows x 40 columns]"
      ]
     },
     "execution_count": 212,
     "metadata": {},
     "output_type": "execute_result"
    }
   ],
   "source": [
    "#Create a new dataframe to be modified later\n",
    "veh_data_df=veh_data\n",
    "veh_data_df.head()"
   ]
  },
  {
   "cell_type": "code",
   "execution_count": 213,
   "metadata": {},
   "outputs": [
    {
     "data": {
      "text/html": [
       "<div>\n",
       "<style scoped>\n",
       "    .dataframe tbody tr th:only-of-type {\n",
       "        vertical-align: middle;\n",
       "    }\n",
       "\n",
       "    .dataframe tbody tr th {\n",
       "        vertical-align: top;\n",
       "    }\n",
       "\n",
       "    .dataframe thead th {\n",
       "        text-align: right;\n",
       "    }\n",
       "</style>\n",
       "<table border=\"1\" class=\"dataframe\">\n",
       "  <thead>\n",
       "    <tr style=\"text-align: right;\">\n",
       "      <th></th>\n",
       "      <th>swo</th>\n",
       "      <th>sdtesa</th>\n",
       "      <th>arrivaldate</th>\n",
       "      <th>dmpostcond</th>\n",
       "      <th>dmprecond</th>\n",
       "      <th>smiles</th>\n",
       "      <th>dmsold</th>\n",
       "      <th>MID_YEAR</th>\n",
       "      <th>sfloor</th>\n",
       "      <th>SALE_NUM</th>\n",
       "      <th>LANE_NUM</th>\n",
       "      <th>RUN_NUM</th>\n",
       "      <th>DSO</th>\n",
       "      <th>Unnamed: 34</th>\n",
       "      <th>MMR</th>\n",
       "      <th>AdjMMR</th>\n",
       "      <th>abnormal</th>\n",
       "    </tr>\n",
       "  </thead>\n",
       "  <tbody>\n",
       "    <tr>\n",
       "      <th>count</th>\n",
       "      <td>4.040300e+04</td>\n",
       "      <td>4.040300e+04</td>\n",
       "      <td>4.040300e+04</td>\n",
       "      <td>40403.000000</td>\n",
       "      <td>40398.000000</td>\n",
       "      <td>40403.000000</td>\n",
       "      <td>40403.000000</td>\n",
       "      <td>40403.000000</td>\n",
       "      <td>40384.000000</td>\n",
       "      <td>40403.000000</td>\n",
       "      <td>40403.000000</td>\n",
       "      <td>40403.000000</td>\n",
       "      <td>38457.000000</td>\n",
       "      <td>40403.000000</td>\n",
       "      <td>39513.000000</td>\n",
       "      <td>39513.000000</td>\n",
       "      <td>40403.000000</td>\n",
       "    </tr>\n",
       "    <tr>\n",
       "      <th>mean</th>\n",
       "      <td>3.788557e+06</td>\n",
       "      <td>2.016097e+07</td>\n",
       "      <td>2.016086e+07</td>\n",
       "      <td>3.786538</td>\n",
       "      <td>3.645423</td>\n",
       "      <td>32274.356533</td>\n",
       "      <td>0.683588</td>\n",
       "      <td>2004.442838</td>\n",
       "      <td>12502.871682</td>\n",
       "      <td>42.175037</td>\n",
       "      <td>16.210306</td>\n",
       "      <td>127.815930</td>\n",
       "      <td>81.365631</td>\n",
       "      <td>0.048165</td>\n",
       "      <td>12382.354636</td>\n",
       "      <td>12305.930428</td>\n",
       "      <td>0.041408</td>\n",
       "    </tr>\n",
       "    <tr>\n",
       "      <th>std</th>\n",
       "      <td>1.538417e+06</td>\n",
       "      <td>1.662672e+02</td>\n",
       "      <td>2.181099e+02</td>\n",
       "      <td>0.682171</td>\n",
       "      <td>0.699093</td>\n",
       "      <td>16976.602713</td>\n",
       "      <td>0.465082</td>\n",
       "      <td>135.650049</td>\n",
       "      <td>3922.255696</td>\n",
       "      <td>11.486279</td>\n",
       "      <td>10.654894</td>\n",
       "      <td>98.830541</td>\n",
       "      <td>140.799408</td>\n",
       "      <td>0.214117</td>\n",
       "      <td>3698.859164</td>\n",
       "      <td>3723.250915</td>\n",
       "      <td>0.199234</td>\n",
       "    </tr>\n",
       "    <tr>\n",
       "      <th>min</th>\n",
       "      <td>1.426087e+06</td>\n",
       "      <td>2.016070e+07</td>\n",
       "      <td>2.015082e+07</td>\n",
       "      <td>0.000000</td>\n",
       "      <td>0.000000</td>\n",
       "      <td>36.000000</td>\n",
       "      <td>0.000000</td>\n",
       "      <td>-1.000000</td>\n",
       "      <td>1000.000000</td>\n",
       "      <td>26.000000</td>\n",
       "      <td>1.000000</td>\n",
       "      <td>1.000000</td>\n",
       "      <td>0.700576</td>\n",
       "      <td>0.000000</td>\n",
       "      <td>1605.000000</td>\n",
       "      <td>1377.000000</td>\n",
       "      <td>0.000000</td>\n",
       "    </tr>\n",
       "    <tr>\n",
       "      <th>25%</th>\n",
       "      <td>2.500648e+06</td>\n",
       "      <td>2.016082e+07</td>\n",
       "      <td>2.016072e+07</td>\n",
       "      <td>3.500000</td>\n",
       "      <td>3.300000</td>\n",
       "      <td>22742.000000</td>\n",
       "      <td>0.000000</td>\n",
       "      <td>2013.000000</td>\n",
       "      <td>10000.000000</td>\n",
       "      <td>34.000000</td>\n",
       "      <td>9.000000</td>\n",
       "      <td>54.000000</td>\n",
       "      <td>33.261391</td>\n",
       "      <td>0.000000</td>\n",
       "      <td>9989.000000</td>\n",
       "      <td>9919.000000</td>\n",
       "      <td>0.000000</td>\n",
       "    </tr>\n",
       "    <tr>\n",
       "      <th>50%</th>\n",
       "      <td>3.461794e+06</td>\n",
       "      <td>2.016093e+07</td>\n",
       "      <td>2.016090e+07</td>\n",
       "      <td>3.900000</td>\n",
       "      <td>3.700000</td>\n",
       "      <td>31852.000000</td>\n",
       "      <td>1.000000</td>\n",
       "      <td>2013.000000</td>\n",
       "      <td>11500.000000</td>\n",
       "      <td>41.000000</td>\n",
       "      <td>15.000000</td>\n",
       "      <td>110.000000</td>\n",
       "      <td>50.940534</td>\n",
       "      <td>0.000000</td>\n",
       "      <td>11384.000000</td>\n",
       "      <td>11381.000000</td>\n",
       "      <td>0.000000</td>\n",
       "    </tr>\n",
       "    <tr>\n",
       "      <th>75%</th>\n",
       "      <td>4.793224e+06</td>\n",
       "      <td>2.016111e+07</td>\n",
       "      <td>2.016101e+07</td>\n",
       "      <td>4.300000</td>\n",
       "      <td>4.200000</td>\n",
       "      <td>39922.500000</td>\n",
       "      <td>1.000000</td>\n",
       "      <td>2014.000000</td>\n",
       "      <td>14300.000000</td>\n",
       "      <td>48.000000</td>\n",
       "      <td>19.000000</td>\n",
       "      <td>182.000000</td>\n",
       "      <td>83.950000</td>\n",
       "      <td>0.000000</td>\n",
       "      <td>14062.000000</td>\n",
       "      <td>14032.000000</td>\n",
       "      <td>0.000000</td>\n",
       "    </tr>\n",
       "    <tr>\n",
       "      <th>max</th>\n",
       "      <td>8.527825e+06</td>\n",
       "      <td>2.016123e+07</td>\n",
       "      <td>2.016122e+07</td>\n",
       "      <td>5.000000</td>\n",
       "      <td>5.000000</td>\n",
       "      <td>999999.000000</td>\n",
       "      <td>1.000000</td>\n",
       "      <td>2017.000000</td>\n",
       "      <td>146300.000000</td>\n",
       "      <td>454.000000</td>\n",
       "      <td>77.000000</td>\n",
       "      <td>1155.000000</td>\n",
       "      <td>11315.000000</td>\n",
       "      <td>1.000000</td>\n",
       "      <td>58624.000000</td>\n",
       "      <td>58624.000000</td>\n",
       "      <td>1.000000</td>\n",
       "    </tr>\n",
       "  </tbody>\n",
       "</table>\n",
       "</div>"
      ],
      "text/plain": [
       "                swo        sdtesa   arrivaldate    dmpostcond     dmprecond  \\\n",
       "count  4.040300e+04  4.040300e+04  4.040300e+04  40403.000000  40398.000000   \n",
       "mean   3.788557e+06  2.016097e+07  2.016086e+07      3.786538      3.645423   \n",
       "std    1.538417e+06  1.662672e+02  2.181099e+02      0.682171      0.699093   \n",
       "min    1.426087e+06  2.016070e+07  2.015082e+07      0.000000      0.000000   \n",
       "25%    2.500648e+06  2.016082e+07  2.016072e+07      3.500000      3.300000   \n",
       "50%    3.461794e+06  2.016093e+07  2.016090e+07      3.900000      3.700000   \n",
       "75%    4.793224e+06  2.016111e+07  2.016101e+07      4.300000      4.200000   \n",
       "max    8.527825e+06  2.016123e+07  2.016122e+07      5.000000      5.000000   \n",
       "\n",
       "              smiles        dmsold      MID_YEAR         sfloor      SALE_NUM  \\\n",
       "count   40403.000000  40403.000000  40403.000000   40384.000000  40403.000000   \n",
       "mean    32274.356533      0.683588   2004.442838   12502.871682     42.175037   \n",
       "std     16976.602713      0.465082    135.650049    3922.255696     11.486279   \n",
       "min        36.000000      0.000000     -1.000000    1000.000000     26.000000   \n",
       "25%     22742.000000      0.000000   2013.000000   10000.000000     34.000000   \n",
       "50%     31852.000000      1.000000   2013.000000   11500.000000     41.000000   \n",
       "75%     39922.500000      1.000000   2014.000000   14300.000000     48.000000   \n",
       "max    999999.000000      1.000000   2017.000000  146300.000000    454.000000   \n",
       "\n",
       "           LANE_NUM       RUN_NUM           DSO   Unnamed: 34           MMR  \\\n",
       "count  40403.000000  40403.000000  38457.000000  40403.000000  39513.000000   \n",
       "mean      16.210306    127.815930     81.365631      0.048165  12382.354636   \n",
       "std       10.654894     98.830541    140.799408      0.214117   3698.859164   \n",
       "min        1.000000      1.000000      0.700576      0.000000   1605.000000   \n",
       "25%        9.000000     54.000000     33.261391      0.000000   9989.000000   \n",
       "50%       15.000000    110.000000     50.940534      0.000000  11384.000000   \n",
       "75%       19.000000    182.000000     83.950000      0.000000  14062.000000   \n",
       "max       77.000000   1155.000000  11315.000000      1.000000  58624.000000   \n",
       "\n",
       "             AdjMMR      abnormal  \n",
       "count  39513.000000  40403.000000  \n",
       "mean   12305.930428      0.041408  \n",
       "std     3723.250915      0.199234  \n",
       "min     1377.000000      0.000000  \n",
       "25%     9919.000000      0.000000  \n",
       "50%    11381.000000      0.000000  \n",
       "75%    14032.000000      0.000000  \n",
       "max    58624.000000      1.000000  "
      ]
     },
     "execution_count": 213,
     "metadata": {},
     "output_type": "execute_result"
    }
   ],
   "source": [
    "veh_data_df.describe()"
   ]
  },
  {
   "cell_type": "code",
   "execution_count": 214,
   "metadata": {},
   "outputs": [
    {
     "data": {
      "text/plain": [
       "SANNOU                    0.655669\n",
       "SREMAR                    0.559859\n",
       "stime                     0.308814\n",
       "DSO                       0.048165\n",
       "JD_POWERS_SUB_CAT_DESC    0.032448\n",
       "JD_POWERS_CAT_DESC        0.032448\n",
       "AdjMMR                    0.022028\n",
       "MMR                       0.022028\n",
       "Velocity                  0.012103\n",
       "volseg                    0.012029\n",
       "YMM                       0.012029\n",
       "color                     0.001262\n",
       "sfloor                    0.000470\n",
       "dmprecond                 0.000124\n",
       "sflndr                    0.000050\n",
       "ch_body                   0.000025\n",
       "dtype: float64"
      ]
     },
     "execution_count": 214,
     "metadata": {},
     "output_type": "execute_result"
    }
   ],
   "source": [
    "#Variables with missing values\n",
    "vars_with_na = [var for var in veh_data_df.columns if veh_data_df[var].isnull().sum() > 0]\n",
    "veh_data_df[vars_with_na].isnull().mean().sort_values(ascending=False)"
   ]
  },
  {
   "cell_type": "code",
   "execution_count": 215,
   "metadata": {},
   "outputs": [
    {
     "data": {
      "image/png": "[encoded data removed]",
      "text/plain": [
       "<Figure size 720x288 with 1 Axes>"
      ]
     },
     "metadata": {
      "needs_background": "light"
     },
     "output_type": "display_data"
    }
   ],
   "source": [
    "#Histogram of variables with missing values\n",
    "veh_data_df[vars_with_na].isnull().mean().sort_values(ascending=False).plot.bar(figsize=(10,4))\n",
    "plt.ylabel('Percentage of missing data')\n",
    "plt.axhline(y=0.30,color='r',linestyle='-')\n",
    "plt.axhline(y=0.05,color='g',linestyle='-')\n",
    "plt.axhline(y=0.02,color='b',linestyle='-')\n",
    "plt.show()"
   ]
  },
  {
   "cell_type": "code",
   "execution_count": 216,
   "metadata": {},
   "outputs": [
    {
     "name": "stdout",
     "output_type": "stream",
     "text": [
      "<class 'pandas.core.frame.DataFrame'>\n",
      "RangeIndex: 40403 entries, 0 to 40402\n",
      "Data columns (total 40 columns):\n",
      " #   Column                  Non-Null Count  Dtype  \n",
      "---  ------                  --------------  -----  \n",
      " 0   sauci                   40403 non-null  object \n",
      " 1   auctionname             40403 non-null  object \n",
      " 2   auctioncity             40403 non-null  object \n",
      " 3   swo                     40403 non-null  int64  \n",
      " 4   sdtesa                  40403 non-null  int64  \n",
      " 5   arrivaldate             40403 non-null  int64  \n",
      " 6   sser17                  40403 non-null  object \n",
      " 7   JD_POWERS_CAT_DESC      39092 non-null  object \n",
      " 8   JD_POWERS_SUB_CAT_DESC  39092 non-null  object \n",
      " 9   dmpostcond              40403 non-null  float64\n",
      " 10  dmprecond               40398 non-null  float64\n",
      " 11  smiles                  40403 non-null  int64  \n",
      " 12  color                   40352 non-null  object \n",
      " 13  dmsold                  40403 non-null  int64  \n",
      " 14  MID                     40403 non-null  object \n",
      " 15  MID_YEAR                40403 non-null  int64  \n",
      " 16  MID_MAKE                40403 non-null  object \n",
      " 17  MID_MODEL               40403 non-null  object \n",
      " 18  MID_BODY                40403 non-null  object \n",
      " 19  ch_make                 40403 non-null  object \n",
      " 20  ch_model                40403 non-null  object \n",
      " 21  ch_body                 40402 non-null  object \n",
      " 22  sfloor                  40384 non-null  float64\n",
      " 23  stime                   27926 non-null  object \n",
      " 24  SALE_NUM                40403 non-null  int64  \n",
      " 25  LANE_NUM                40403 non-null  int64  \n",
      " 26  RUN_NUM                 40403 non-null  int64  \n",
      " 27  sflndr                  40401 non-null  object \n",
      " 28  RED_LIGHT               40403 non-null  object \n",
      " 29  YELLOW_LIGHT            40403 non-null  object \n",
      " 30  YMM                     39917 non-null  object \n",
      " 31  volseg                  39917 non-null  object \n",
      " 32  Velocity                39914 non-null  object \n",
      " 33  DSO                     38457 non-null  float64\n",
      " 34  Unnamed: 34             40403 non-null  int64  \n",
      " 35  MMR                     39513 non-null  float64\n",
      " 36  AdjMMR                  39513 non-null  float64\n",
      " 37  SREMAR                  17783 non-null  object \n",
      " 38  SANNOU                  13912 non-null  object \n",
      " 39  abnormal                40403 non-null  int64  \n",
      "dtypes: float64(6), int64(11), object(23)\n",
      "memory usage: 12.3+ MB\n"
     ]
    }
   ],
   "source": [
    "veh_data_df.info()"
   ]
  },
  {
   "cell_type": "code",
   "execution_count": 217,
   "metadata": {},
   "outputs": [
    {
     "data": {
      "text/plain": [
       "23"
      ]
     },
     "execution_count": 217,
     "metadata": {},
     "output_type": "execute_result"
    }
   ],
   "source": [
    "#Identify categorical variables\n",
    "cat_vars = [var for var in veh_data_df.columns if veh_data_df[var].dtype == 'O']\n",
    "len(cat_vars)"
   ]
  },
  {
   "cell_type": "code",
   "execution_count": 218,
   "metadata": {},
   "outputs": [
    {
     "data": {
      "text/plain": [
       "16"
      ]
     },
     "execution_count": 218,
     "metadata": {},
     "output_type": "execute_result"
    }
   ],
   "source": [
    "#Identify numerical variables\n",
    "num_vars = [var for var in veh_data_df.columns if var not in cat_vars and var!='dmsold']\n",
    "len(num_vars)"
   ]
  },
  {
   "cell_type": "code",
   "execution_count": 219,
   "metadata": {},
   "outputs": [
    {
     "name": "stdout",
     "output_type": "stream",
     "text": [
      "number of categorical variables with na:  11\n",
      "number of numerical variables with na: 5\n"
     ]
    }
   ],
   "source": [
    "#Identifying categorical and numerical variables with missing values\n",
    "cat_na = [var for var in cat_vars if var in vars_with_na]\n",
    "num_na = [var for var in num_vars if var in vars_with_na]\n",
    "print('number of categorical variables with na: ', len(cat_na))\n",
    "print('number of numerical variables with na:', len(num_na))"
   ]
  },
  {
   "cell_type": "code",
   "execution_count": 220,
   "metadata": {},
   "outputs": [
    {
     "name": "stdout",
     "output_type": "stream",
     "text": [
      "Number of continuos variables: 12\n"
     ]
    }
   ],
   "source": [
    "#continous variables\n",
    "cont_vars=[var for var in num_vars if var not in discrete_vars+year_vars]\n",
    "print('Number of continuos variables:', len(cont_vars))"
   ]
  },
  {
   "cell_type": "code",
   "execution_count": 221,
   "metadata": {},
   "outputs": [
    {
     "data": {
      "text/plain": [
       "<matplotlib.axes._subplots.AxesSubplot at 0x188c0c79948>"
      ]
     },
     "execution_count": 221,
     "metadata": {},
     "output_type": "execute_result"
    },
    {
     "data": {
      "image/png": "[encoded data removed]",
      "text/plain": [
       "<Figure size 432x288 with 1 Axes>"
      ]
     },
     "metadata": {
      "needs_background": "light"
     },
     "output_type": "display_data"
    }
   ],
   "source": [
    "#Finding highly cardinal variables\n",
    "veh_data_df[cat_vars].nunique().sort_values(ascending=False).plot.bar()"
   ]
  },
  {
   "cell_type": "code",
   "execution_count": 223,
   "metadata": {},
   "outputs": [
    {
     "data": {
      "image/png": "[encoded data removed]",
      "text/plain": [
       "<Figure size 1080x1080 with 12 Axes>"
      ]
     },
     "metadata": {
      "needs_background": "light"
     },
     "output_type": "display_data"
    }
   ],
   "source": [
    "#finding distribution of continuos variables\n",
    "veh_data_df[cont_vars].hist(bins=30, figsize=(15,15))\n",
    "plt.show()"
   ]
  },
  {
   "cell_type": "code",
   "execution_count": 224,
   "metadata": {},
   "outputs": [
    {
     "data": {
      "text/plain": [
       "['dmprecond', 'sfloor', 'DSO', 'MMR', 'AdjMMR']"
      ]
     },
     "execution_count": 224,
     "metadata": {},
     "output_type": "execute_result"
    }
   ],
   "source": [
    "num_na"
   ]
  },
  {
   "cell_type": "code",
   "execution_count": 225,
   "metadata": {},
   "outputs": [
    {
     "data": {
      "text/plain": [
       "['JD_POWERS_CAT_DESC',\n",
       " 'JD_POWERS_SUB_CAT_DESC',\n",
       " 'color',\n",
       " 'ch_body',\n",
       " 'stime',\n",
       " 'sflndr',\n",
       " 'YMM',\n",
       " 'volseg',\n",
       " 'Velocity',\n",
       " 'SREMAR',\n",
       " 'SANNOU']"
      ]
     },
     "execution_count": 225,
     "metadata": {},
     "output_type": "execute_result"
    }
   ],
   "source": [
    "cat_na"
   ]
  },
  {
   "cell_type": "code",
   "execution_count": 226,
   "metadata": {},
   "outputs": [
    {
     "data": {
      "image/png": "[encoded data removed]",
      "text/plain": [
       "<Figure size 432x288 with 1 Axes>"
      ]
     },
     "metadata": {
      "needs_background": "light"
     },
     "output_type": "display_data"
    },
    {
     "data": {
      "image/png": "[encoded data removed]",
      "text/plain": [
       "<Figure size 432x288 with 1 Axes>"
      ]
     },
     "metadata": {
      "needs_background": "light"
     },
     "output_type": "display_data"
    },
    {
     "data": {
      "image/png": "[encoded data removed]",
      "text/plain": [
       "<Figure size 432x288 with 1 Axes>"
      ]
     },
     "metadata": {
      "needs_background": "light"
     },
     "output_type": "display_data"
    },
    {
     "data": {
      "image/png": "[encoded data removed]",
      "text/plain": [
       "<Figure size 432x288 with 1 Axes>"
      ]
     },
     "metadata": {
      "needs_background": "light"
     },
     "output_type": "display_data"
    },
    {
     "data": {
      "image/png": "[encoded data removed]",
      "text/plain": [
       "<Figure size 432x288 with 1 Axes>"
      ]
     },
     "metadata": {
      "needs_background": "light"
     },
     "output_type": "display_data"
    },
    {
     "data": {
      "image/png": "[encoded data removed]",
      "text/plain": [
       "<Figure size 432x288 with 1 Axes>"
      ]
     },
     "metadata": {
      "needs_background": "light"
     },
     "output_type": "display_data"
    },
    {
     "data": {
      "image/png": "[encoded data removed]",
      "text/plain": [
       "<Figure size 432x288 with 1 Axes>"
      ]
     },
     "metadata": {
      "needs_background": "light"
     },
     "output_type": "display_data"
    },
    {
     "data": {
      "image/png": "[encoded data removed]",
      "text/plain": [
       "<Figure size 432x288 with 1 Axes>"
      ]
     },
     "metadata": {
      "needs_background": "light"
     },
     "output_type": "display_data"
    },
    {
     "data": {
      "image/png": "[encoded data removed]",
      "text/plain": [
       "<Figure size 432x288 with 1 Axes>"
      ]
     },
     "metadata": {
      "needs_background": "light"
     },
     "output_type": "display_data"
    },
    {
     "data": {
      "image/png": "[encoded data removed]",
      "text/plain": [
       "<Figure size 432x288 with 1 Axes>"
      ]
     },
     "metadata": {
      "needs_background": "light"
     },
     "output_type": "display_data"
    },
    {
     "data": {
      "image/png": "[encoded data removed]",
      "text/plain": [
       "<Figure size 432x288 with 1 Axes>"
      ]
     },
     "metadata": {
      "needs_background": "light"
     },
     "output_type": "display_data"
    },
    {
     "data": {
      "image/png": "[encoded data removed]",
      "text/plain": [
       "<Figure size 432x288 with 1 Axes>"
      ]
     },
     "metadata": {
      "needs_background": "light"
     },
     "output_type": "display_data"
    },
    {
     "data": {
      "image/png": "[encoded data removed]",
      "text/plain": [
       "<Figure size 432x288 with 1 Axes>"
      ]
     },
     "metadata": {
      "needs_background": "light"
     },
     "output_type": "display_data"
    },
    {
     "data": {
      "image/png": "[encoded data removed]",
      "text/plain": [
       "<Figure size 432x288 with 1 Axes>"
      ]
     },
     "metadata": {
      "needs_background": "light"
     },
     "output_type": "display_data"
    },
    {
     "data": {
      "image/png": "[encoded data removed]",
      "text/plain": [
       "<Figure size 432x288 with 1 Axes>"
      ]
     },
     "metadata": {
      "needs_background": "light"
     },
     "output_type": "display_data"
    },
    {
     "data": {
      "image/png": "[encoded data removed]",
      "text/plain": [
       "<Figure size 432x288 with 1 Axes>"
      ]
     },
     "metadata": {
      "needs_background": "light"
     },
     "output_type": "display_data"
    }
   ],
   "source": [
    "#Analyze the correlation of features with target variable for missing values and non-missing values\n",
    "def analyze_na_value(df, var):\n",
    "    df=df.copy()\n",
    "    df[var]=np.where(df[var].isnull(),1,0)\n",
    "    tmp=df.groupby(var)['dmsold'].agg(['mean','std'])\n",
    "    tmp.plot(kind='barh',y='mean', legend=False,xerr='std',title='dmsold',color='green')\n",
    "    plt.show()\n",
    "for var in vars_with_na:\n",
    "    analyze_na_value(veh_data_df, var)"
   ]
  },
  {
   "cell_type": "code",
   "execution_count": 227,
   "metadata": {},
   "outputs": [
    {
     "data": {
      "text/html": [
       "<div>\n",
       "<style scoped>\n",
       "    .dataframe tbody tr th:only-of-type {\n",
       "        vertical-align: middle;\n",
       "    }\n",
       "\n",
       "    .dataframe tbody tr th {\n",
       "        vertical-align: top;\n",
       "    }\n",
       "\n",
       "    .dataframe thead th {\n",
       "        text-align: right;\n",
       "    }\n",
       "</style>\n",
       "<table border=\"1\" class=\"dataframe\">\n",
       "  <thead>\n",
       "    <tr style=\"text-align: right;\">\n",
       "      <th></th>\n",
       "      <th>swo</th>\n",
       "      <th>sdtesa</th>\n",
       "      <th>arrivaldate</th>\n",
       "      <th>dmpostcond</th>\n",
       "      <th>dmprecond</th>\n",
       "      <th>smiles</th>\n",
       "      <th>dmsold</th>\n",
       "      <th>MID_YEAR</th>\n",
       "      <th>sfloor</th>\n",
       "      <th>SALE_NUM</th>\n",
       "      <th>LANE_NUM</th>\n",
       "      <th>RUN_NUM</th>\n",
       "      <th>DSO</th>\n",
       "      <th>Unnamed: 34</th>\n",
       "      <th>MMR</th>\n",
       "      <th>AdjMMR</th>\n",
       "      <th>abnormal</th>\n",
       "    </tr>\n",
       "  </thead>\n",
       "  <tbody>\n",
       "    <tr>\n",
       "      <th>swo</th>\n",
       "      <td>1.000000</td>\n",
       "      <td>0.071945</td>\n",
       "      <td>0.095118</td>\n",
       "      <td>-0.037186</td>\n",
       "      <td>0.022061</td>\n",
       "      <td>0.000234</td>\n",
       "      <td>-0.035878</td>\n",
       "      <td>0.011418</td>\n",
       "      <td>0.000672</td>\n",
       "      <td>0.208805</td>\n",
       "      <td>0.267255</td>\n",
       "      <td>-0.026781</td>\n",
       "      <td>-0.044736</td>\n",
       "      <td>0.061574</td>\n",
       "      <td>0.006751</td>\n",
       "      <td>0.008726</td>\n",
       "      <td>0.033710</td>\n",
       "    </tr>\n",
       "    <tr>\n",
       "      <th>sdtesa</th>\n",
       "      <td>0.071945</td>\n",
       "      <td>1.000000</td>\n",
       "      <td>0.713204</td>\n",
       "      <td>0.024791</td>\n",
       "      <td>0.007671</td>\n",
       "      <td>-0.023187</td>\n",
       "      <td>-0.101628</td>\n",
       "      <td>-0.018748</td>\n",
       "      <td>0.008103</td>\n",
       "      <td>0.675064</td>\n",
       "      <td>-0.071150</td>\n",
       "      <td>-0.073312</td>\n",
       "      <td>0.117128</td>\n",
       "      <td>0.217948</td>\n",
       "      <td>-0.008303</td>\n",
       "      <td>-0.010015</td>\n",
       "      <td>0.002871</td>\n",
       "    </tr>\n",
       "    <tr>\n",
       "      <th>arrivaldate</th>\n",
       "      <td>0.095118</td>\n",
       "      <td>0.713204</td>\n",
       "      <td>1.000000</td>\n",
       "      <td>0.015672</td>\n",
       "      <td>0.017015</td>\n",
       "      <td>-0.024451</td>\n",
       "      <td>-0.062273</td>\n",
       "      <td>0.012666</td>\n",
       "      <td>-0.002656</td>\n",
       "      <td>0.493177</td>\n",
       "      <td>-0.036442</td>\n",
       "      <td>-0.047136</td>\n",
       "      <td>0.075723</td>\n",
       "      <td>0.138948</td>\n",
       "      <td>-0.019700</td>\n",
       "      <td>-0.018428</td>\n",
       "      <td>-0.010467</td>\n",
       "    </tr>\n",
       "    <tr>\n",
       "      <th>dmpostcond</th>\n",
       "      <td>-0.037186</td>\n",
       "      <td>0.024791</td>\n",
       "      <td>0.015672</td>\n",
       "      <td>1.000000</td>\n",
       "      <td>0.906825</td>\n",
       "      <td>-0.259255</td>\n",
       "      <td>0.065033</td>\n",
       "      <td>-0.016072</td>\n",
       "      <td>0.336814</td>\n",
       "      <td>0.015504</td>\n",
       "      <td>-0.036989</td>\n",
       "      <td>-0.435432</td>\n",
       "      <td>0.092792</td>\n",
       "      <td>0.022367</td>\n",
       "      <td>0.223657</td>\n",
       "      <td>0.336037</td>\n",
       "      <td>-0.427068</td>\n",
       "    </tr>\n",
       "    <tr>\n",
       "      <th>dmprecond</th>\n",
       "      <td>0.022061</td>\n",
       "      <td>0.007671</td>\n",
       "      <td>0.017015</td>\n",
       "      <td>0.906825</td>\n",
       "      <td>1.000000</td>\n",
       "      <td>-0.237459</td>\n",
       "      <td>0.071665</td>\n",
       "      <td>-0.014755</td>\n",
       "      <td>0.322167</td>\n",
       "      <td>0.007047</td>\n",
       "      <td>-0.010320</td>\n",
       "      <td>-0.378428</td>\n",
       "      <td>0.091073</td>\n",
       "      <td>0.019514</td>\n",
       "      <td>0.219970</td>\n",
       "      <td>0.343328</td>\n",
       "      <td>-0.374594</td>\n",
       "    </tr>\n",
       "    <tr>\n",
       "      <th>smiles</th>\n",
       "      <td>0.000234</td>\n",
       "      <td>-0.023187</td>\n",
       "      <td>-0.024451</td>\n",
       "      <td>-0.259255</td>\n",
       "      <td>-0.237459</td>\n",
       "      <td>1.000000</td>\n",
       "      <td>-0.044742</td>\n",
       "      <td>-0.005247</td>\n",
       "      <td>-0.242806</td>\n",
       "      <td>-0.011012</td>\n",
       "      <td>0.007708</td>\n",
       "      <td>0.237346</td>\n",
       "      <td>-0.134202</td>\n",
       "      <td>-0.021936</td>\n",
       "      <td>-0.260496</td>\n",
       "      <td>-0.272585</td>\n",
       "      <td>0.045745</td>\n",
       "    </tr>\n",
       "    <tr>\n",
       "      <th>dmsold</th>\n",
       "      <td>-0.035878</td>\n",
       "      <td>-0.101628</td>\n",
       "      <td>-0.062273</td>\n",
       "      <td>0.065033</td>\n",
       "      <td>0.071665</td>\n",
       "      <td>-0.044742</td>\n",
       "      <td>1.000000</td>\n",
       "      <td>0.020759</td>\n",
       "      <td>-0.099594</td>\n",
       "      <td>-0.090540</td>\n",
       "      <td>-0.003389</td>\n",
       "      <td>-0.042299</td>\n",
       "      <td>-0.061004</td>\n",
       "      <td>-0.036354</td>\n",
       "      <td>-0.073982</td>\n",
       "      <td>-0.057693</td>\n",
       "      <td>-0.022877</td>\n",
       "    </tr>\n",
       "    <tr>\n",
       "      <th>MID_YEAR</th>\n",
       "      <td>0.011418</td>\n",
       "      <td>-0.018748</td>\n",
       "      <td>0.012666</td>\n",
       "      <td>-0.016072</td>\n",
       "      <td>-0.014755</td>\n",
       "      <td>-0.005247</td>\n",
       "      <td>0.020759</td>\n",
       "      <td>1.000000</td>\n",
       "      <td>-0.028786</td>\n",
       "      <td>-0.032566</td>\n",
       "      <td>0.004977</td>\n",
       "      <td>0.019681</td>\n",
       "      <td>0.295799</td>\n",
       "      <td>-0.299869</td>\n",
       "      <td>0.021543</td>\n",
       "      <td>0.021603</td>\n",
       "      <td>0.004599</td>\n",
       "    </tr>\n",
       "    <tr>\n",
       "      <th>sfloor</th>\n",
       "      <td>0.000672</td>\n",
       "      <td>0.008103</td>\n",
       "      <td>-0.002656</td>\n",
       "      <td>0.336814</td>\n",
       "      <td>0.322167</td>\n",
       "      <td>-0.242806</td>\n",
       "      <td>-0.099594</td>\n",
       "      <td>-0.028786</td>\n",
       "      <td>1.000000</td>\n",
       "      <td>-0.020232</td>\n",
       "      <td>-0.056769</td>\n",
       "      <td>-0.156895</td>\n",
       "      <td>0.152149</td>\n",
       "      <td>0.073852</td>\n",
       "      <td>0.946325</td>\n",
       "      <td>0.952364</td>\n",
       "      <td>-0.111454</td>\n",
       "    </tr>\n",
       "    <tr>\n",
       "      <th>SALE_NUM</th>\n",
       "      <td>0.208805</td>\n",
       "      <td>0.675064</td>\n",
       "      <td>0.493177</td>\n",
       "      <td>0.015504</td>\n",
       "      <td>0.007047</td>\n",
       "      <td>-0.011012</td>\n",
       "      <td>-0.090540</td>\n",
       "      <td>-0.032566</td>\n",
       "      <td>-0.020232</td>\n",
       "      <td>1.000000</td>\n",
       "      <td>0.317930</td>\n",
       "      <td>0.032435</td>\n",
       "      <td>0.028939</td>\n",
       "      <td>0.157756</td>\n",
       "      <td>-0.011017</td>\n",
       "      <td>-0.011889</td>\n",
       "      <td>0.019351</td>\n",
       "    </tr>\n",
       "    <tr>\n",
       "      <th>LANE_NUM</th>\n",
       "      <td>0.267255</td>\n",
       "      <td>-0.071150</td>\n",
       "      <td>-0.036442</td>\n",
       "      <td>-0.036989</td>\n",
       "      <td>-0.010320</td>\n",
       "      <td>0.007708</td>\n",
       "      <td>-0.003389</td>\n",
       "      <td>0.004977</td>\n",
       "      <td>-0.056769</td>\n",
       "      <td>0.317930</td>\n",
       "      <td>1.000000</td>\n",
       "      <td>0.166479</td>\n",
       "      <td>-0.076110</td>\n",
       "      <td>-0.051450</td>\n",
       "      <td>-0.028405</td>\n",
       "      <td>-0.028712</td>\n",
       "      <td>0.048914</td>\n",
       "    </tr>\n",
       "    <tr>\n",
       "      <th>RUN_NUM</th>\n",
       "      <td>-0.026781</td>\n",
       "      <td>-0.073312</td>\n",
       "      <td>-0.047136</td>\n",
       "      <td>-0.435432</td>\n",
       "      <td>-0.378428</td>\n",
       "      <td>0.237346</td>\n",
       "      <td>-0.042299</td>\n",
       "      <td>0.019681</td>\n",
       "      <td>-0.156895</td>\n",
       "      <td>0.032435</td>\n",
       "      <td>0.166479</td>\n",
       "      <td>1.000000</td>\n",
       "      <td>-0.048085</td>\n",
       "      <td>-0.084771</td>\n",
       "      <td>-0.107378</td>\n",
       "      <td>-0.156130</td>\n",
       "      <td>0.221986</td>\n",
       "    </tr>\n",
       "    <tr>\n",
       "      <th>DSO</th>\n",
       "      <td>-0.044736</td>\n",
       "      <td>0.117128</td>\n",
       "      <td>0.075723</td>\n",
       "      <td>0.092792</td>\n",
       "      <td>0.091073</td>\n",
       "      <td>-0.134202</td>\n",
       "      <td>-0.061004</td>\n",
       "      <td>0.295799</td>\n",
       "      <td>0.152149</td>\n",
       "      <td>0.028939</td>\n",
       "      <td>-0.076110</td>\n",
       "      <td>-0.048085</td>\n",
       "      <td>1.000000</td>\n",
       "      <td>NaN</td>\n",
       "      <td>0.154176</td>\n",
       "      <td>0.151645</td>\n",
       "      <td>-0.022625</td>\n",
       "    </tr>\n",
       "    <tr>\n",
       "      <th>Unnamed: 34</th>\n",
       "      <td>0.061574</td>\n",
       "      <td>0.217948</td>\n",
       "      <td>0.138948</td>\n",
       "      <td>0.022367</td>\n",
       "      <td>0.019514</td>\n",
       "      <td>-0.021936</td>\n",
       "      <td>-0.036354</td>\n",
       "      <td>-0.299869</td>\n",
       "      <td>0.073852</td>\n",
       "      <td>0.157756</td>\n",
       "      <td>-0.051450</td>\n",
       "      <td>-0.084771</td>\n",
       "      <td>NaN</td>\n",
       "      <td>1.000000</td>\n",
       "      <td>0.060855</td>\n",
       "      <td>0.060346</td>\n",
       "      <td>-0.000336</td>\n",
       "    </tr>\n",
       "    <tr>\n",
       "      <th>MMR</th>\n",
       "      <td>0.006751</td>\n",
       "      <td>-0.008303</td>\n",
       "      <td>-0.019700</td>\n",
       "      <td>0.223657</td>\n",
       "      <td>0.219970</td>\n",
       "      <td>-0.260496</td>\n",
       "      <td>-0.073982</td>\n",
       "      <td>0.021543</td>\n",
       "      <td>0.946325</td>\n",
       "      <td>-0.011017</td>\n",
       "      <td>-0.028405</td>\n",
       "      <td>-0.107378</td>\n",
       "      <td>0.154176</td>\n",
       "      <td>0.060855</td>\n",
       "      <td>1.000000</td>\n",
       "      <td>0.989174</td>\n",
       "      <td>-0.042349</td>\n",
       "    </tr>\n",
       "    <tr>\n",
       "      <th>AdjMMR</th>\n",
       "      <td>0.008726</td>\n",
       "      <td>-0.010015</td>\n",
       "      <td>-0.018428</td>\n",
       "      <td>0.336037</td>\n",
       "      <td>0.343328</td>\n",
       "      <td>-0.272585</td>\n",
       "      <td>-0.057693</td>\n",
       "      <td>0.021603</td>\n",
       "      <td>0.952364</td>\n",
       "      <td>-0.011889</td>\n",
       "      <td>-0.028712</td>\n",
       "      <td>-0.156130</td>\n",
       "      <td>0.151645</td>\n",
       "      <td>0.060346</td>\n",
       "      <td>0.989174</td>\n",
       "      <td>1.000000</td>\n",
       "      <td>-0.102169</td>\n",
       "    </tr>\n",
       "    <tr>\n",
       "      <th>abnormal</th>\n",
       "      <td>0.033710</td>\n",
       "      <td>0.002871</td>\n",
       "      <td>-0.010467</td>\n",
       "      <td>-0.427068</td>\n",
       "      <td>-0.374594</td>\n",
       "      <td>0.045745</td>\n",
       "      <td>-0.022877</td>\n",
       "      <td>0.004599</td>\n",
       "      <td>-0.111454</td>\n",
       "      <td>0.019351</td>\n",
       "      <td>0.048914</td>\n",
       "      <td>0.221986</td>\n",
       "      <td>-0.022625</td>\n",
       "      <td>-0.000336</td>\n",
       "      <td>-0.042349</td>\n",
       "      <td>-0.102169</td>\n",
       "      <td>1.000000</td>\n",
       "    </tr>\n",
       "  </tbody>\n",
       "</table>\n",
       "</div>"
      ],
      "text/plain": [
       "                  swo    sdtesa  arrivaldate  dmpostcond  dmprecond    smiles  \\\n",
       "swo          1.000000  0.071945     0.095118   -0.037186   0.022061  0.000234   \n",
       "sdtesa       0.071945  1.000000     0.713204    0.024791   0.007671 -0.023187   \n",
       "arrivaldate  0.095118  0.713204     1.000000    0.015672   0.017015 -0.024451   \n",
       "dmpostcond  -0.037186  0.024791     0.015672    1.000000   0.906825 -0.259255   \n",
       "dmprecond    0.022061  0.007671     0.017015    0.906825   1.000000 -0.237459   \n",
       "smiles       0.000234 -0.023187    -0.024451   -0.259255  -0.237459  1.000000   \n",
       "dmsold      -0.035878 -0.101628    -0.062273    0.065033   0.071665 -0.044742   \n",
       "MID_YEAR     0.011418 -0.018748     0.012666   -0.016072  -0.014755 -0.005247   \n",
       "sfloor       0.000672  0.008103    -0.002656    0.336814   0.322167 -0.242806   \n",
       "SALE_NUM     0.208805  0.675064     0.493177    0.015504   0.007047 -0.011012   \n",
       "LANE_NUM     0.267255 -0.071150    -0.036442   -0.036989  -0.010320  0.007708   \n",
       "RUN_NUM     -0.026781 -0.073312    -0.047136   -0.435432  -0.378428  0.237346   \n",
       "DSO         -0.044736  0.117128     0.075723    0.092792   0.091073 -0.134202   \n",
       "Unnamed: 34  0.061574  0.217948     0.138948    0.022367   0.019514 -0.021936   \n",
       "MMR          0.006751 -0.008303    -0.019700    0.223657   0.219970 -0.260496   \n",
       "AdjMMR       0.008726 -0.010015    -0.018428    0.336037   0.343328 -0.272585   \n",
       "abnormal     0.033710  0.002871    -0.010467   -0.427068  -0.374594  0.045745   \n",
       "\n",
       "               dmsold  MID_YEAR    sfloor  SALE_NUM  LANE_NUM   RUN_NUM  \\\n",
       "swo         -0.035878  0.011418  0.000672  0.208805  0.267255 -0.026781   \n",
       "sdtesa      -0.101628 -0.018748  0.008103  0.675064 -0.071150 -0.073312   \n",
       "arrivaldate -0.062273  0.012666 -0.002656  0.493177 -0.036442 -0.047136   \n",
       "dmpostcond   0.065033 -0.016072  0.336814  0.015504 -0.036989 -0.435432   \n",
       "dmprecond    0.071665 -0.014755  0.322167  0.007047 -0.010320 -0.378428   \n",
       "smiles      -0.044742 -0.005247 -0.242806 -0.011012  0.007708  0.237346   \n",
       "dmsold       1.000000  0.020759 -0.099594 -0.090540 -0.003389 -0.042299   \n",
       "MID_YEAR     0.020759  1.000000 -0.028786 -0.032566  0.004977  0.019681   \n",
       "sfloor      -0.099594 -0.028786  1.000000 -0.020232 -0.056769 -0.156895   \n",
       "SALE_NUM    -0.090540 -0.032566 -0.020232  1.000000  0.317930  0.032435   \n",
       "LANE_NUM    -0.003389  0.004977 -0.056769  0.317930  1.000000  0.166479   \n",
       "RUN_NUM     -0.042299  0.019681 -0.156895  0.032435  0.166479  1.000000   \n",
       "DSO         -0.061004  0.295799  0.152149  0.028939 -0.076110 -0.048085   \n",
       "Unnamed: 34 -0.036354 -0.299869  0.073852  0.157756 -0.051450 -0.084771   \n",
       "MMR         -0.073982  0.021543  0.946325 -0.011017 -0.028405 -0.107378   \n",
       "AdjMMR      -0.057693  0.021603  0.952364 -0.011889 -0.028712 -0.156130   \n",
       "abnormal    -0.022877  0.004599 -0.111454  0.019351  0.048914  0.221986   \n",
       "\n",
       "                  DSO  Unnamed: 34       MMR    AdjMMR  abnormal  \n",
       "swo         -0.044736     0.061574  0.006751  0.008726  0.033710  \n",
       "sdtesa       0.117128     0.217948 -0.008303 -0.010015  0.002871  \n",
       "arrivaldate  0.075723     0.138948 -0.019700 -0.018428 -0.010467  \n",
       "dmpostcond   0.092792     0.022367  0.223657  0.336037 -0.427068  \n",
       "dmprecond    0.091073     0.019514  0.219970  0.343328 -0.374594  \n",
       "smiles      -0.134202    -0.021936 -0.260496 -0.272585  0.045745  \n",
       "dmsold      -0.061004    -0.036354 -0.073982 -0.057693 -0.022877  \n",
       "MID_YEAR     0.295799    -0.299869  0.021543  0.021603  0.004599  \n",
       "sfloor       0.152149     0.073852  0.946325  0.952364 -0.111454  \n",
       "SALE_NUM     0.028939     0.157756 -0.011017 -0.011889  0.019351  \n",
       "LANE_NUM    -0.076110    -0.051450 -0.028405 -0.028712  0.048914  \n",
       "RUN_NUM     -0.048085    -0.084771 -0.107378 -0.156130  0.221986  \n",
       "DSO          1.000000          NaN  0.154176  0.151645 -0.022625  \n",
       "Unnamed: 34       NaN     1.000000  0.060855  0.060346 -0.000336  \n",
       "MMR          0.154176     0.060855  1.000000  0.989174 -0.042349  \n",
       "AdjMMR       0.151645     0.060346  0.989174  1.000000 -0.102169  \n",
       "abnormal    -0.022625    -0.000336 -0.042349 -0.102169  1.000000  "
      ]
     },
     "execution_count": 227,
     "metadata": {},
     "output_type": "execute_result"
    }
   ],
   "source": [
    "#Identifying the correlation between variables\n",
    "veh_data_df.corr()"
   ]
  },
  {
   "cell_type": "code",
   "execution_count": 228,
   "metadata": {},
   "outputs": [
    {
     "name": "stderr",
     "output_type": "stream",
     "text": [
      "C:\\Users\\Public\\Anaconda\\lib\\site-packages\\pandas\\core\\generic.py:6245: SettingWithCopyWarning: \n",
      "A value is trying to be set on a copy of a slice from a DataFrame\n",
      "\n",
      "See the caveats in the documentation: https://pandas.pydata.org/pandas-docs/stable/user_guide/indexing.html#returning-a-view-versus-a-copy\n",
      "  self._update_inplace(new_data)\n",
      "C:\\Users\\Public\\Anaconda\\lib\\site-packages\\ipykernel_launcher.py:6: SettingWithCopyWarning: \n",
      "A value is trying to be set on a copy of a slice from a DataFrame.\n",
      "Try using .loc[row_indexer,col_indexer] = value instead\n",
      "\n",
      "See the caveats in the documentation: https://pandas.pydata.org/pandas-docs/stable/user_guide/indexing.html#returning-a-view-versus-a-copy\n",
      "  \n"
     ]
    }
   ],
   "source": [
    "#Impute prices related columns with mean of the columns. Calculate ratio as sfloor/MMR ratio\n",
    "veh_data_df = veh_data_df.dropna(subset=['sfloor', 'MMR'])\n",
    "veh_data_df['sfloor'].fillna(value=veh_data_df['sfloor'].mean(), inplace=True)\n",
    "veh_data_df['MMR'].fillna(value=veh_data_df['MMR'].mean(), inplace=True)\n",
    "veh_data_df['AdjMMR'].fillna(value=veh_data_df['AdjMMR'].mean(), inplace=True)\n",
    "veh_data_df['sfloor_mmr_ratio'] = veh_data_df['sfloor']/veh_data_df['MMR']"
   ]
  },
  {
   "cell_type": "code",
   "execution_count": 229,
   "metadata": {},
   "outputs": [
    {
     "data": {
      "text/plain": [
       "<matplotlib.axes._subplots.AxesSubplot at 0x188a608a0c8>"
      ]
     },
     "execution_count": 229,
     "metadata": {},
     "output_type": "execute_result"
    },
    {
     "data": {
      "image/png": "[encoded data removed]",
      "text/plain": [
       "<Figure size 432x288 with 1 Axes>"
      ]
     },
     "metadata": {
      "needs_background": "light"
     },
     "output_type": "display_data"
    }
   ],
   "source": [
    "#Identifying the correlatioon between MMR and Sfloor and also looking for potential outliers\n",
    "veh_data_df['MMR'].corr(veh_data_df['sfloor'])\n",
    "veh_data_df.plot(x='MMR', y='sfloor', style='o')"
   ]
  },
  {
   "cell_type": "code",
   "execution_count": 230,
   "metadata": {},
   "outputs": [
    {
     "name": "stdout",
     "output_type": "stream",
     "text": [
      "Min value of sfloor_mmr_ratio:  0.10068203962325431\n",
      "Max value of sfloor_mmr_ratio:  9.808259587020649\n"
     ]
    },
    {
     "name": "stderr",
     "output_type": "stream",
     "text": [
      "C:\\Users\\Public\\Anaconda\\lib\\site-packages\\ipykernel_launcher.py:3: SettingWithCopyWarning: \n",
      "A value is trying to be set on a copy of a slice from a DataFrame.\n",
      "Try using .loc[row_indexer,col_indexer] = value instead\n",
      "\n",
      "See the caveats in the documentation: https://pandas.pydata.org/pandas-docs/stable/user_guide/indexing.html#returning-a-view-versus-a-copy\n",
      "  This is separate from the ipykernel package so we can avoid doing imports until\n"
     ]
    }
   ],
   "source": [
    "#Since the relationship is linear, identifying the ratio to map with sfloor\n",
    "#Finding the range of \"sfloor_mmr_ratio\"\n",
    "veh_data_df['sfloor_mmr_ratio'] = veh_data_df['sfloor']/veh_data_df['MMR']\n",
    "print('Min value of sfloor_mmr_ratio: ', veh_data_df['sfloor_mmr_ratio'].min())\n",
    "print('Max value of sfloor_mmr_ratio: ', veh_data_df['sfloor_mmr_ratio'].max())"
   ]
  },
  {
   "cell_type": "code",
   "execution_count": 231,
   "metadata": {},
   "outputs": [
    {
     "name": "stderr",
     "output_type": "stream",
     "text": [
      "C:\\Users\\Public\\Anaconda\\lib\\site-packages\\ipykernel_launcher.py:2: SettingWithCopyWarning: \n",
      "A value is trying to be set on a copy of a slice from a DataFrame.\n",
      "Try using .loc[row_indexer,col_indexer] = value instead\n",
      "\n",
      "See the caveats in the documentation: https://pandas.pydata.org/pandas-docs/stable/user_guide/indexing.html#returning-a-view-versus-a-copy\n",
      "  \n",
      "C:\\Users\\Public\\Anaconda\\lib\\site-packages\\ipykernel_launcher.py:4: SettingWithCopyWarning: \n",
      "A value is trying to be set on a copy of a slice from a DataFrame.\n",
      "Try using .loc[row_indexer,col_indexer] = value instead\n",
      "\n",
      "See the caveats in the documentation: https://pandas.pydata.org/pandas-docs/stable/user_guide/indexing.html#returning-a-view-versus-a-copy\n",
      "  after removing the cwd from sys.path.\n"
     ]
    }
   ],
   "source": [
    "#removing outliers which are 3SDs away from mean\n",
    "veh_data_df['z_score'] = (veh_data_df['MMR'] - veh_data_df['MMR'].mean()) / veh_data_df['MMR'].std()\n",
    "veh_data_new_df = veh_data_df[(veh_data_df['z_score'] < 3) & (veh_data_df['z_score'] > -3)]\n",
    "veh_data_new_df['z_score_1'] = (veh_data_new_df['sfloor'] - veh_data_new_df['sfloor'].mean()) / veh_data_new_df['sfloor'].std()\n",
    "veh_data_new_df = veh_data_new_df[(veh_data_new_df['z_score_1'] < 3) & (veh_data_new_df['z_score_1'] > -3)]"
   ]
  },
  {
   "cell_type": "code",
   "execution_count": 232,
   "metadata": {},
   "outputs": [
    {
     "data": {
      "text/plain": [
       "<matplotlib.axes._subplots.AxesSubplot at 0x188a60be488>"
      ]
     },
     "execution_count": 232,
     "metadata": {},
     "output_type": "execute_result"
    },
    {
     "data": {
      "image/png": "[encoded data removed]",
      "text/plain": [
       "<Figure size 432x288 with 1 Axes>"
      ]
     },
     "metadata": {
      "needs_background": "light"
     },
     "output_type": "display_data"
    }
   ],
   "source": [
    "#plotting after removing the outliers\n",
    "veh_data_new_df.plot(x='MMR', y='sfloor', style='o')"
   ]
  },
  {
   "cell_type": "code",
   "execution_count": 233,
   "metadata": {},
   "outputs": [
    {
     "name": "stdout",
     "output_type": "stream",
     "text": [
      "Min value of sfloor_mmr_ratio:  0.2591479216336685\n",
      "Max value of sfloor_mmr_ratio:  1.7086715079026058\n"
     ]
    }
   ],
   "source": [
    "#finding minimum and maximum ratio after removing outliers\n",
    "print('Min value of sfloor_mmr_ratio: ', veh_data_new_df['sfloor_mmr_ratio'].min())\n",
    "print('Max value of sfloor_mmr_ratio: ', veh_data_new_df['sfloor_mmr_ratio'].max())"
   ]
  },
  {
   "cell_type": "code",
   "execution_count": 234,
   "metadata": {},
   "outputs": [],
   "source": [
    "#rounding off the sfloor_mmr_ratio to 2 decimals for further anlaysis and identifying correlation with sale probablity\n",
    "veh_data_new_df['sfloor_mmr_round_decim']=veh_data_new_df['sfloor_mmr_ratio'].round(decimals = 2)"
   ]
  },
  {
   "cell_type": "code",
   "execution_count": 235,
   "metadata": {},
   "outputs": [
    {
     "data": {
      "text/html": [
       "<div>\n",
       "<style scoped>\n",
       "    .dataframe tbody tr th:only-of-type {\n",
       "        vertical-align: middle;\n",
       "    }\n",
       "\n",
       "    .dataframe tbody tr th {\n",
       "        vertical-align: top;\n",
       "    }\n",
       "\n",
       "    .dataframe thead th {\n",
       "        text-align: right;\n",
       "    }\n",
       "</style>\n",
       "<table border=\"1\" class=\"dataframe\">\n",
       "  <thead>\n",
       "    <tr style=\"text-align: right;\">\n",
       "      <th></th>\n",
       "      <th>sauci</th>\n",
       "      <th>auctionname</th>\n",
       "      <th>auctioncity</th>\n",
       "      <th>swo</th>\n",
       "      <th>sdtesa</th>\n",
       "      <th>arrivaldate</th>\n",
       "      <th>sser17</th>\n",
       "      <th>JD_POWERS_CAT_DESC</th>\n",
       "      <th>JD_POWERS_SUB_CAT_DESC</th>\n",
       "      <th>dmpostcond</th>\n",
       "      <th>...</th>\n",
       "      <th>Unnamed: 34</th>\n",
       "      <th>MMR</th>\n",
       "      <th>AdjMMR</th>\n",
       "      <th>SREMAR</th>\n",
       "      <th>SANNOU</th>\n",
       "      <th>abnormal</th>\n",
       "      <th>sfloor_mmr_ratio</th>\n",
       "      <th>z_score</th>\n",
       "      <th>z_score_1</th>\n",
       "      <th>sfloor_mmr_round_decim</th>\n",
       "    </tr>\n",
       "  </thead>\n",
       "  <tbody>\n",
       "    <tr>\n",
       "      <th>0</th>\n",
       "      <td>RAA</td>\n",
       "      <td>Manheim Riverside</td>\n",
       "      <td>Riverside</td>\n",
       "      <td>2291908</td>\n",
       "      <td>20161115</td>\n",
       "      <td>20161103</td>\n",
       "      <td>19XFB2F89DE258267</td>\n",
       "      <td>COMPACT CAR</td>\n",
       "      <td>PREMIUM</td>\n",
       "      <td>3.8</td>\n",
       "      <td>...</td>\n",
       "      <td>1</td>\n",
       "      <td>10375.0</td>\n",
       "      <td>10632.0</td>\n",
       "      <td>NaN</td>\n",
       "      <td>DMV$133</td>\n",
       "      <td>0</td>\n",
       "      <td>0.915663</td>\n",
       "      <td>-0.542544</td>\n",
       "      <td>-0.811788</td>\n",
       "      <td>0.92</td>\n",
       "    </tr>\n",
       "    <tr>\n",
       "      <th>1</th>\n",
       "      <td>MAAI</td>\n",
       "      <td>Manheim Minneapolis</td>\n",
       "      <td>Maple Grove</td>\n",
       "      <td>2388041</td>\n",
       "      <td>20160727</td>\n",
       "      <td>20160709</td>\n",
       "      <td>1C3CCBBB3DN689978</td>\n",
       "      <td>MIDSIZE CAR</td>\n",
       "      <td>PREMIUM</td>\n",
       "      <td>4.2</td>\n",
       "      <td>...</td>\n",
       "      <td>1</td>\n",
       "      <td>8046.0</td>\n",
       "      <td>8658.0</td>\n",
       "      <td>NaN</td>\n",
       "      <td>NaN</td>\n",
       "      <td>0</td>\n",
       "      <td>0.969426</td>\n",
       "      <td>-1.172327</td>\n",
       "      <td>-1.317958</td>\n",
       "      <td>0.97</td>\n",
       "    </tr>\n",
       "    <tr>\n",
       "      <th>2</th>\n",
       "      <td>DALA</td>\n",
       "      <td>Manheim Dallas</td>\n",
       "      <td>Dallas</td>\n",
       "      <td>4741877</td>\n",
       "      <td>20160831</td>\n",
       "      <td>20160812</td>\n",
       "      <td>1C3CCCAB2FN689464</td>\n",
       "      <td>MIDSIZE CAR</td>\n",
       "      <td>PREMIUM</td>\n",
       "      <td>3.4</td>\n",
       "      <td>...</td>\n",
       "      <td>1</td>\n",
       "      <td>11484.0</td>\n",
       "      <td>11457.0</td>\n",
       "      <td>NaN</td>\n",
       "      <td>NaN</td>\n",
       "      <td>0</td>\n",
       "      <td>1.001393</td>\n",
       "      <td>-0.242661</td>\n",
       "      <td>-0.216294</td>\n",
       "      <td>1.00</td>\n",
       "    </tr>\n",
       "    <tr>\n",
       "      <th>3</th>\n",
       "      <td>FAAO</td>\n",
       "      <td>Manheim Orlando</td>\n",
       "      <td>Ocoee</td>\n",
       "      <td>3479240</td>\n",
       "      <td>20161129</td>\n",
       "      <td>20161102</td>\n",
       "      <td>1C3CCCAB9FN612381</td>\n",
       "      <td>MIDSIZE CAR</td>\n",
       "      <td>PREMIUM</td>\n",
       "      <td>2.0</td>\n",
       "      <td>...</td>\n",
       "      <td>1</td>\n",
       "      <td>9130.0</td>\n",
       "      <td>7681.0</td>\n",
       "      <td>NaN</td>\n",
       "      <td>NaN</td>\n",
       "      <td>0</td>\n",
       "      <td>0.876232</td>\n",
       "      <td>-0.879204</td>\n",
       "      <td>-1.258409</td>\n",
       "      <td>0.88</td>\n",
       "    </tr>\n",
       "    <tr>\n",
       "      <th>4</th>\n",
       "      <td>DALA</td>\n",
       "      <td>Manheim Dallas</td>\n",
       "      <td>Dallas</td>\n",
       "      <td>4777897</td>\n",
       "      <td>20161026</td>\n",
       "      <td>20160927</td>\n",
       "      <td>1C3CDFBB9FD331412</td>\n",
       "      <td>MIDSIZE CAR</td>\n",
       "      <td>PREMIUM</td>\n",
       "      <td>4.2</td>\n",
       "      <td>...</td>\n",
       "      <td>1</td>\n",
       "      <td>9804.0</td>\n",
       "      <td>9880.0</td>\n",
       "      <td>NaN</td>\n",
       "      <td>NaN</td>\n",
       "      <td>0</td>\n",
       "      <td>0.984292</td>\n",
       "      <td>-0.696948</td>\n",
       "      <td>-0.767126</td>\n",
       "      <td>0.98</td>\n",
       "    </tr>\n",
       "  </tbody>\n",
       "</table>\n",
       "<p>5 rows × 44 columns</p>\n",
       "</div>"
      ],
      "text/plain": [
       "  sauci          auctionname  auctioncity      swo    sdtesa  arrivaldate  \\\n",
       "0   RAA    Manheim Riverside    Riverside  2291908  20161115     20161103   \n",
       "1  MAAI  Manheim Minneapolis  Maple Grove  2388041  20160727     20160709   \n",
       "2  DALA       Manheim Dallas       Dallas  4741877  20160831     20160812   \n",
       "3  FAAO      Manheim Orlando        Ocoee  3479240  20161129     20161102   \n",
       "4  DALA       Manheim Dallas       Dallas  4777897  20161026     20160927   \n",
       "\n",
       "              sser17 JD_POWERS_CAT_DESC JD_POWERS_SUB_CAT_DESC  dmpostcond  \\\n",
       "0  19XFB2F89DE258267        COMPACT CAR                PREMIUM         3.8   \n",
       "1  1C3CCBBB3DN689978        MIDSIZE CAR                PREMIUM         4.2   \n",
       "2  1C3CCCAB2FN689464        MIDSIZE CAR                PREMIUM         3.4   \n",
       "3  1C3CCCAB9FN612381        MIDSIZE CAR                PREMIUM         2.0   \n",
       "4  1C3CDFBB9FD331412        MIDSIZE CAR                PREMIUM         4.2   \n",
       "\n",
       "   ...  Unnamed: 34      MMR   AdjMMR  SREMAR   SANNOU  abnormal  \\\n",
       "0  ...            1  10375.0  10632.0     NaN  DMV$133         0   \n",
       "1  ...            1   8046.0   8658.0     NaN      NaN         0   \n",
       "2  ...            1  11484.0  11457.0     NaN      NaN         0   \n",
       "3  ...            1   9130.0   7681.0     NaN      NaN         0   \n",
       "4  ...            1   9804.0   9880.0     NaN      NaN         0   \n",
       "\n",
       "  sfloor_mmr_ratio   z_score z_score_1 sfloor_mmr_round_decim  \n",
       "0         0.915663 -0.542544 -0.811788                   0.92  \n",
       "1         0.969426 -1.172327 -1.317958                   0.97  \n",
       "2         1.001393 -0.242661 -0.216294                   1.00  \n",
       "3         0.876232 -0.879204 -1.258409                   0.88  \n",
       "4         0.984292 -0.696948 -0.767126                   0.98  \n",
       "\n",
       "[5 rows x 44 columns]"
      ]
     },
     "execution_count": 235,
     "metadata": {},
     "output_type": "execute_result"
    }
   ],
   "source": [
    "veh_data_new_df.head(5)"
   ]
  },
  {
   "cell_type": "code",
   "execution_count": 236,
   "metadata": {},
   "outputs": [],
   "source": [
    "#finding vehicle count and sell probability wrt sfloor_mmr_ratio_round_decim\n",
    "agg_cols = {'dmsold':'prob_sell', 'sauci':'event_count'}\n",
    "veh_data_agg_df=veh_data_new_df[(veh_data_new_df.sfloor_mmr_ratio>=0.8)&(veh_data_new_df.sfloor_mmr_ratio<=1.2)].groupby('sfloor_mmr_round_decim', as_index=False).agg({'dmsold':'mean', 'sauci':'count'}).rename(columns=agg_cols)"
   ]
  },
  {
   "cell_type": "code",
   "execution_count": 237,
   "metadata": {},
   "outputs": [
    {
     "data": {
      "text/html": [
       "<div>\n",
       "<style scoped>\n",
       "    .dataframe tbody tr th:only-of-type {\n",
       "        vertical-align: middle;\n",
       "    }\n",
       "\n",
       "    .dataframe tbody tr th {\n",
       "        vertical-align: top;\n",
       "    }\n",
       "\n",
       "    .dataframe thead th {\n",
       "        text-align: right;\n",
       "    }\n",
       "</style>\n",
       "<table border=\"1\" class=\"dataframe\">\n",
       "  <thead>\n",
       "    <tr style=\"text-align: right;\">\n",
       "      <th></th>\n",
       "      <th>sfloor_mmr_round_decim</th>\n",
       "      <th>prob_sell</th>\n",
       "      <th>event_count</th>\n",
       "    </tr>\n",
       "  </thead>\n",
       "  <tbody>\n",
       "    <tr>\n",
       "      <th>0</th>\n",
       "      <td>0.80</td>\n",
       "      <td>0.717391</td>\n",
       "      <td>46</td>\n",
       "    </tr>\n",
       "    <tr>\n",
       "      <th>1</th>\n",
       "      <td>0.81</td>\n",
       "      <td>0.766667</td>\n",
       "      <td>90</td>\n",
       "    </tr>\n",
       "    <tr>\n",
       "      <th>2</th>\n",
       "      <td>0.82</td>\n",
       "      <td>0.647619</td>\n",
       "      <td>105</td>\n",
       "    </tr>\n",
       "    <tr>\n",
       "      <th>3</th>\n",
       "      <td>0.83</td>\n",
       "      <td>0.719178</td>\n",
       "      <td>146</td>\n",
       "    </tr>\n",
       "    <tr>\n",
       "      <th>4</th>\n",
       "      <td>0.84</td>\n",
       "      <td>0.762821</td>\n",
       "      <td>156</td>\n",
       "    </tr>\n",
       "    <tr>\n",
       "      <th>5</th>\n",
       "      <td>0.85</td>\n",
       "      <td>0.766667</td>\n",
       "      <td>180</td>\n",
       "    </tr>\n",
       "    <tr>\n",
       "      <th>6</th>\n",
       "      <td>0.86</td>\n",
       "      <td>0.657439</td>\n",
       "      <td>289</td>\n",
       "    </tr>\n",
       "    <tr>\n",
       "      <th>7</th>\n",
       "      <td>0.87</td>\n",
       "      <td>0.698718</td>\n",
       "      <td>312</td>\n",
       "    </tr>\n",
       "    <tr>\n",
       "      <th>8</th>\n",
       "      <td>0.88</td>\n",
       "      <td>0.713217</td>\n",
       "      <td>401</td>\n",
       "    </tr>\n",
       "    <tr>\n",
       "      <th>9</th>\n",
       "      <td>0.89</td>\n",
       "      <td>0.690909</td>\n",
       "      <td>440</td>\n",
       "    </tr>\n",
       "    <tr>\n",
       "      <th>10</th>\n",
       "      <td>0.90</td>\n",
       "      <td>0.676768</td>\n",
       "      <td>495</td>\n",
       "    </tr>\n",
       "    <tr>\n",
       "      <th>11</th>\n",
       "      <td>0.91</td>\n",
       "      <td>0.657938</td>\n",
       "      <td>611</td>\n",
       "    </tr>\n",
       "    <tr>\n",
       "      <th>12</th>\n",
       "      <td>0.92</td>\n",
       "      <td>0.686747</td>\n",
       "      <td>747</td>\n",
       "    </tr>\n",
       "    <tr>\n",
       "      <th>13</th>\n",
       "      <td>0.93</td>\n",
       "      <td>0.709932</td>\n",
       "      <td>886</td>\n",
       "    </tr>\n",
       "    <tr>\n",
       "      <th>14</th>\n",
       "      <td>0.94</td>\n",
       "      <td>0.685018</td>\n",
       "      <td>1108</td>\n",
       "    </tr>\n",
       "    <tr>\n",
       "      <th>15</th>\n",
       "      <td>0.95</td>\n",
       "      <td>0.690895</td>\n",
       "      <td>1252</td>\n",
       "    </tr>\n",
       "    <tr>\n",
       "      <th>16</th>\n",
       "      <td>0.96</td>\n",
       "      <td>0.718963</td>\n",
       "      <td>1466</td>\n",
       "    </tr>\n",
       "    <tr>\n",
       "      <th>17</th>\n",
       "      <td>0.97</td>\n",
       "      <td>0.732916</td>\n",
       "      <td>1756</td>\n",
       "    </tr>\n",
       "    <tr>\n",
       "      <th>18</th>\n",
       "      <td>0.98</td>\n",
       "      <td>0.727941</td>\n",
       "      <td>2040</td>\n",
       "    </tr>\n",
       "    <tr>\n",
       "      <th>19</th>\n",
       "      <td>0.99</td>\n",
       "      <td>0.731697</td>\n",
       "      <td>2281</td>\n",
       "    </tr>\n",
       "    <tr>\n",
       "      <th>20</th>\n",
       "      <td>1.00</td>\n",
       "      <td>0.750000</td>\n",
       "      <td>2492</td>\n",
       "    </tr>\n",
       "    <tr>\n",
       "      <th>21</th>\n",
       "      <td>1.01</td>\n",
       "      <td>0.729511</td>\n",
       "      <td>2599</td>\n",
       "    </tr>\n",
       "    <tr>\n",
       "      <th>22</th>\n",
       "      <td>1.02</td>\n",
       "      <td>0.727413</td>\n",
       "      <td>2601</td>\n",
       "    </tr>\n",
       "    <tr>\n",
       "      <th>23</th>\n",
       "      <td>1.03</td>\n",
       "      <td>0.716761</td>\n",
       "      <td>2482</td>\n",
       "    </tr>\n",
       "    <tr>\n",
       "      <th>24</th>\n",
       "      <td>1.04</td>\n",
       "      <td>0.723563</td>\n",
       "      <td>2279</td>\n",
       "    </tr>\n",
       "    <tr>\n",
       "      <th>25</th>\n",
       "      <td>1.05</td>\n",
       "      <td>0.691758</td>\n",
       "      <td>2099</td>\n",
       "    </tr>\n",
       "    <tr>\n",
       "      <th>26</th>\n",
       "      <td>1.06</td>\n",
       "      <td>0.668139</td>\n",
       "      <td>1811</td>\n",
       "    </tr>\n",
       "    <tr>\n",
       "      <th>27</th>\n",
       "      <td>1.07</td>\n",
       "      <td>0.649733</td>\n",
       "      <td>1496</td>\n",
       "    </tr>\n",
       "    <tr>\n",
       "      <th>28</th>\n",
       "      <td>1.08</td>\n",
       "      <td>0.624582</td>\n",
       "      <td>1196</td>\n",
       "    </tr>\n",
       "    <tr>\n",
       "      <th>29</th>\n",
       "      <td>1.09</td>\n",
       "      <td>0.586169</td>\n",
       "      <td>911</td>\n",
       "    </tr>\n",
       "    <tr>\n",
       "      <th>30</th>\n",
       "      <td>1.10</td>\n",
       "      <td>0.584450</td>\n",
       "      <td>746</td>\n",
       "    </tr>\n",
       "    <tr>\n",
       "      <th>31</th>\n",
       "      <td>1.11</td>\n",
       "      <td>0.568592</td>\n",
       "      <td>554</td>\n",
       "    </tr>\n",
       "    <tr>\n",
       "      <th>32</th>\n",
       "      <td>1.12</td>\n",
       "      <td>0.553498</td>\n",
       "      <td>486</td>\n",
       "    </tr>\n",
       "    <tr>\n",
       "      <th>33</th>\n",
       "      <td>1.13</td>\n",
       "      <td>0.495025</td>\n",
       "      <td>402</td>\n",
       "    </tr>\n",
       "    <tr>\n",
       "      <th>34</th>\n",
       "      <td>1.14</td>\n",
       "      <td>0.506073</td>\n",
       "      <td>247</td>\n",
       "    </tr>\n",
       "    <tr>\n",
       "      <th>35</th>\n",
       "      <td>1.15</td>\n",
       "      <td>0.432692</td>\n",
       "      <td>208</td>\n",
       "    </tr>\n",
       "    <tr>\n",
       "      <th>36</th>\n",
       "      <td>1.16</td>\n",
       "      <td>0.409091</td>\n",
       "      <td>154</td>\n",
       "    </tr>\n",
       "    <tr>\n",
       "      <th>37</th>\n",
       "      <td>1.17</td>\n",
       "      <td>0.447154</td>\n",
       "      <td>123</td>\n",
       "    </tr>\n",
       "    <tr>\n",
       "      <th>38</th>\n",
       "      <td>1.18</td>\n",
       "      <td>0.404959</td>\n",
       "      <td>121</td>\n",
       "    </tr>\n",
       "    <tr>\n",
       "      <th>39</th>\n",
       "      <td>1.19</td>\n",
       "      <td>0.315789</td>\n",
       "      <td>76</td>\n",
       "    </tr>\n",
       "    <tr>\n",
       "      <th>40</th>\n",
       "      <td>1.20</td>\n",
       "      <td>0.250000</td>\n",
       "      <td>32</td>\n",
       "    </tr>\n",
       "  </tbody>\n",
       "</table>\n",
       "</div>"
      ],
      "text/plain": [
       "    sfloor_mmr_round_decim  prob_sell  event_count\n",
       "0                     0.80   0.717391           46\n",
       "1                     0.81   0.766667           90\n",
       "2                     0.82   0.647619          105\n",
       "3                     0.83   0.719178          146\n",
       "4                     0.84   0.762821          156\n",
       "5                     0.85   0.766667          180\n",
       "6                     0.86   0.657439          289\n",
       "7                     0.87   0.698718          312\n",
       "8                     0.88   0.713217          401\n",
       "9                     0.89   0.690909          440\n",
       "10                    0.90   0.676768          495\n",
       "11                    0.91   0.657938          611\n",
       "12                    0.92   0.686747          747\n",
       "13                    0.93   0.709932          886\n",
       "14                    0.94   0.685018         1108\n",
       "15                    0.95   0.690895         1252\n",
       "16                    0.96   0.718963         1466\n",
       "17                    0.97   0.732916         1756\n",
       "18                    0.98   0.727941         2040\n",
       "19                    0.99   0.731697         2281\n",
       "20                    1.00   0.750000         2492\n",
       "21                    1.01   0.729511         2599\n",
       "22                    1.02   0.727413         2601\n",
       "23                    1.03   0.716761         2482\n",
       "24                    1.04   0.723563         2279\n",
       "25                    1.05   0.691758         2099\n",
       "26                    1.06   0.668139         1811\n",
       "27                    1.07   0.649733         1496\n",
       "28                    1.08   0.624582         1196\n",
       "29                    1.09   0.586169          911\n",
       "30                    1.10   0.584450          746\n",
       "31                    1.11   0.568592          554\n",
       "32                    1.12   0.553498          486\n",
       "33                    1.13   0.495025          402\n",
       "34                    1.14   0.506073          247\n",
       "35                    1.15   0.432692          208\n",
       "36                    1.16   0.409091          154\n",
       "37                    1.17   0.447154          123\n",
       "38                    1.18   0.404959          121\n",
       "39                    1.19   0.315789           76\n",
       "40                    1.20   0.250000           32"
      ]
     },
     "execution_count": 237,
     "metadata": {},
     "output_type": "execute_result"
    }
   ],
   "source": [
    "veh_data_agg_df.head(50)"
   ]
  },
  {
   "cell_type": "code",
   "execution_count": 238,
   "metadata": {},
   "outputs": [
    {
     "name": "stdout",
     "output_type": "stream",
     "text": [
      "<class 'pandas.core.frame.DataFrame'>\n",
      "Int64Index: 41 entries, 0 to 40\n",
      "Data columns (total 3 columns):\n",
      " #   Column                  Non-Null Count  Dtype  \n",
      "---  ------                  --------------  -----  \n",
      " 0   sfloor_mmr_round_decim  41 non-null     float64\n",
      " 1   prob_sell               41 non-null     float64\n",
      " 2   event_count             41 non-null     int64  \n",
      "dtypes: float64(2), int64(1)\n",
      "memory usage: 1.3 KB\n"
     ]
    }
   ],
   "source": [
    "veh_data_agg_df.info()"
   ]
  },
  {
   "cell_type": "code",
   "execution_count": 239,
   "metadata": {},
   "outputs": [
    {
     "data": {
      "image/png": "[encoded data removed]",
      "text/plain": [
       "<Figure size 1080x360 with 1 Axes>"
      ]
     },
     "metadata": {
      "needs_background": "light"
     },
     "output_type": "display_data"
    },
    {
     "data": {
      "image/png": "[encoded data removed]",
      "text/plain": [
       "<Figure size 1080x360 with 1 Axes>"
      ]
     },
     "metadata": {
      "needs_background": "light"
     },
     "output_type": "display_data"
    }
   ],
   "source": [
    "#slfoor_mmr_ratio correlation with sale probability\n",
    "ax = veh_data_agg_df.plot.scatter(x = 'sfloor_mmr_round_decim', y = 'prob_sell',figsize=(15,5))\n",
    "ax = veh_data_agg_df.plot.bar(x = 'sfloor_mmr_round_decim', y = ['event_count'],figsize=(15,5))"
   ]
  },
  {
   "cell_type": "code",
   "execution_count": 240,
   "metadata": {},
   "outputs": [
    {
     "data": {
      "text/plain": [
       "['arrivaldate', 'MID_YEAR']"
      ]
     },
     "execution_count": 240,
     "metadata": {},
     "output_type": "execute_result"
    }
   ],
   "source": [
    "#Finding temporal variables\n",
    "year_vars = [var for var in num_vars if 'YR' in var.upper() or 'YEAR' in var.upper() or 'DATE' in var.upper()]\n",
    "year_vars"
   ]
  },
  {
   "cell_type": "code",
   "execution_count": 241,
   "metadata": {},
   "outputs": [
    {
     "name": "stdout",
     "output_type": "stream",
     "text": [
      "arrivaldate [20161103 20160709 20160812 20161102 20160927 20160808 20161122 20161024\n",
      " 20160723 20160909 20161025 20161205 20160621 20160713 20160831 20161115\n",
      " 20160908 20160810 20160517 20161114 20160715 20161028 20160729 20160629\n",
      " 20161005 20161026 20160818 20160725 20160727 20160801 20160614 20161012\n",
      " 20160922 20160802 20160718 20160627 20160830 20161117 20161110 20161206\n",
      " 20161116 20160817 20160930 20160920 20161001 20161104 20160824 20161118\n",
      " 20160720 20160721 20160705 20160919 20160924 20160926 20161018 20161020\n",
      " 20160711 20161108 20161101 20160726 20160923 20161021 20161006 20160622\n",
      " 20160601 20160717 20160804 20160628 20160730 20160708 20160623 20160929\n",
      " 20160907 20160608 20160823 20160901 20160512 20160928 20160821 20160602\n",
      " 20160613 20160316 20160915 20161107 20160819 20160630 20160803 20160616\n",
      " 20160625 20160712 20160829 20161004 20160527 20160921 20160706 20160806\n",
      " 20160827 20160816 20160825 20160610 20161003 20160624 20160811 20160606\n",
      " 20160719 20160701 20160913 20161201 20160906 20161113 20160916 20161015\n",
      " 20161014 20161111 20161007 20161017 20160918 20161109 20161031 20160912\n",
      " 20161011 20161030 20161027 20161029 20160620 20160809 20160914 20161013\n",
      " 20161119 20161214 20161010 20161123 20160722 20161213 20161202 20161203\n",
      " 20160603 20160813 20160805 20161019 20160902 20161121 20160703 20160822\n",
      " 20160728 20160917 20160611 20160826 20160714 20160531 20161112 20160814\n",
      " 20160815 20160716 20160617 20160707 20160820 20160905 20160607 20161009\n",
      " 20161129 20160315 20161215 20160426 20160618 20160609 20161209 20160702\n",
      " 20160509 20160807 20160910 20161130 20161208 20161125 20160904 20160523\n",
      " 20160525 20161106 20160925 20160510 20160407 20160528 20160710 20161016\n",
      " 20161008 20161207 20160518 20160331 20160513 20160519 20161022 20161128\n",
      " 20160604 20160502 20151013 20160520 20161105 20160405 20160526 20160704\n",
      " 20160828 20160506 20160323 20161220 20160615 20160524 20160903 20160301\n",
      " 20161120 20160724 20160731 20161216 20160328 20161002 20161126 20160516\n",
      " 20160428 20161212 20160427 20160325 20160503 20160305 20160511 20161023\n",
      " 20160311 20160505 20160619 20161219 20160310 20160418 20160415 20151221\n",
      " 20160425 20160419 20160303 20160514 20160309 20160911 20160318 20160322\n",
      " 20160324 20160227 20160210 20160304 20160225 20160222 20160504 20160626\n",
      " 20160521 20151020 20160204 20160413 20161210 20161211 20160330 20160219\n",
      " 20160408 20160307 20160414 20160423 20160420 20160421 20160410 20160220\n",
      " 20160515 20160317 20161222 20161124 20160109 20161127 20161204 20161217\n",
      " 20160229 20160401 20160314 20160430 20160605 20160329 20161221 20161218\n",
      " 20150911 20160217 20151001 20160429 20160612 20160409 20160404 20160102\n",
      " 20160412 20160406 20160223 20160215 20160422 20160403 20161223 20160126\n",
      " 20150817 20160308 20160119 20160120 20160529 20160326 20160530 20160226\n",
      " 20160218 20160411 20160115]\n",
      "\n",
      "MID_YEAR [2013 2015 2014 2012 2010 2009 2008 2007 2017 2011 2016   -1]\n",
      "\n"
     ]
    }
   ],
   "source": [
    "#finding unique valus in tempora variables\n",
    "for var in year_vars:\n",
    "    print(var, veh_data_new_df[var].unique())\n",
    "    print()"
   ]
  },
  {
   "cell_type": "code",
   "execution_count": 242,
   "metadata": {},
   "outputs": [
    {
     "data": {
      "text/plain": [
       "Text(0, 0.5, 'Sell Rate')"
      ]
     },
     "execution_count": 242,
     "metadata": {},
     "output_type": "execute_result"
    },
    {
     "data": {
      "image/png": "[encoded data removed]",
      "text/plain": [
       "<Figure size 432x288 with 1 Axes>"
      ]
     },
     "metadata": {
      "needs_background": "light"
     },
     "output_type": "display_data"
    }
   ],
   "source": [
    "#Identifying tempora variable correlation with sale\n",
    "veh_data_new_df.groupby('MID_YEAR')['dmsold'].mean().plot()\n",
    "plt.ylabel('Sell Rate')"
   ]
  },
  {
   "cell_type": "code",
   "execution_count": 243,
   "metadata": {},
   "outputs": [],
   "source": [
    "#Removing outliers in ttemporal variables\n",
    "veh_data_new_df['MID_YEAR_Z'] = (veh_data_new_df['MID_YEAR'] - veh_data_new_df['MID_YEAR'].mean()) / veh_data_new_df['MID_YEAR'].std()\n",
    "veh_data_new_df.head()\n",
    "veh_data_new_df = veh_data_new_df[(veh_data_new_df['MID_YEAR_Z'] < 3) & (veh_data_new_df['MID_YEAR_Z'] > -3)]"
   ]
  },
  {
   "cell_type": "code",
   "execution_count": 244,
   "metadata": {},
   "outputs": [
    {
     "data": {
      "text/plain": [
       "Text(0, 0.5, 'Sell Rate')"
      ]
     },
     "execution_count": 244,
     "metadata": {},
     "output_type": "execute_result"
    },
    {
     "data": {
      "image/png": "[encoded data removed]",
      "text/plain": [
       "<Figure size 432x288 with 1 Axes>"
      ]
     },
     "metadata": {
      "needs_background": "light"
     },
     "output_type": "display_data"
    }
   ],
   "source": [
    "#plot distribution wrt sale after removing outliers\n",
    "veh_data_new_df.groupby('MID_YEAR')['dmsold'].mean().plot()\n",
    "plt.ylabel('Sell Rate')\n"
   ]
  },
  {
   "cell_type": "code",
   "execution_count": 245,
   "metadata": {},
   "outputs": [
    {
     "name": "stdout",
     "output_type": "stream",
     "text": [
      "Number of discrete variables: 2\n"
     ]
    }
   ],
   "source": [
    "#Identify discrete variables\n",
    "discrete_vars=[var for var in num_vars if len(veh_data_new_df[var].unique())<20 and var not in year_vars]\n",
    "print('Number of discrete variables:', len(discrete_vars))"
   ]
  },
  {
   "cell_type": "code",
   "execution_count": 246,
   "metadata": {},
   "outputs": [
    {
     "name": "stderr",
     "output_type": "stream",
     "text": [
      "C:\\Users\\Public\\Anaconda\\lib\\site-packages\\ipykernel_launcher.py:2: SettingWithCopyWarning: \n",
      "A value is trying to be set on a copy of a slice from a DataFrame.\n",
      "Try using .loc[row_indexer,col_indexer] = value instead\n",
      "\n",
      "See the caveats in the documentation: https://pandas.pydata.org/pandas-docs/stable/user_guide/indexing.html#returning-a-view-versus-a-copy\n",
      "  \n"
     ]
    }
   ],
   "source": [
    "#Removing outliers in other temporal variables\n",
    "veh_data_new_df['arrivaldate_z'] = (veh_data_new_df['arrivaldate'] - veh_data_new_df['arrivaldate'].mean()) / veh_data_new_df['arrivaldate'].std()\n",
    "veh_data_new_df.head()\n",
    "veh_data_new_df = veh_data_new_df[(veh_data_new_df['arrivaldate_z'] < 3) & (veh_data_new_df['arrivaldate_z'] > -3)]"
   ]
  },
  {
   "cell_type": "code",
   "execution_count": 247,
   "metadata": {},
   "outputs": [
    {
     "data": {
      "text/plain": [
       "Text(0, 0.5, 'Sell Rate')"
      ]
     },
     "execution_count": 247,
     "metadata": {},
     "output_type": "execute_result"
    },
    {
     "data": {
      "image/png": "[encoded data removed]",
      "text/plain": [
       "<Figure size 432x288 with 1 Axes>"
      ]
     },
     "metadata": {
      "needs_background": "light"
     },
     "output_type": "display_data"
    }
   ],
   "source": [
    "#Plot after removing outliers\n",
    "veh_data_new_df.groupby('arrivaldate')['dmsold'].mean().plot()\n",
    "plt.ylabel('Sell Rate')"
   ]
  },
  {
   "cell_type": "code",
   "execution_count": 248,
   "metadata": {},
   "outputs": [],
   "source": [
    "#Identifying correlation of city with probability of sell\n",
    "agg_cols = {'dmsold':'prob_sell', 'sauci':'event_count'}\n",
    "veh_data_auction_city_agg_df=veh_data_df.groupby('auctioncity', as_index=False).agg({'dmsold':'mean', 'sauci':'count'}).rename(columns=agg_cols)"
   ]
  },
  {
   "cell_type": "code",
   "execution_count": 249,
   "metadata": {},
   "outputs": [
    {
     "data": {
      "image/png": "[encoded data removed]",
      "text/plain": [
       "<Figure size 1080x360 with 1 Axes>"
      ]
     },
     "metadata": {
      "needs_background": "light"
     },
     "output_type": "display_data"
    },
    {
     "data": {
      "image/png": "[encoded data removed]",
      "text/plain": [
       "<Figure size 1080x360 with 1 Axes>"
      ]
     },
     "metadata": {
      "needs_background": "light"
     },
     "output_type": "display_data"
    }
   ],
   "source": [
    "#Identifying correlation of city with probability of sell\n",
    "ax = veh_data_auction_city_agg_df.sort_values(by='prob_sell').plot.scatter(x = 'auctioncity', y = 'prob_sell', figsize=(15,5))\n",
    "ax = veh_data_auction_city_agg_df.sort_values(by='event_count').plot.bar(x = 'auctioncity', y = ['event_count'], figsize=(15,5))"
   ]
  },
  {
   "cell_type": "code",
   "execution_count": 250,
   "metadata": {},
   "outputs": [],
   "source": [
    "#Class mapping of ordinal variables\n",
    "veh_data_new_df = veh_data_new_df.replace({'volseg': {'Tier1': 1, 'Tier2': 2, 'Tier3': 3, 'Tier4': 4, 'Tier5': 5}})\n",
    "veh_data_new_df = veh_data_new_df.replace({'Velocity': {'Cold': 1, 'Warm': 2, 'Hot': 3}})"
   ]
  },
  {
   "cell_type": "code",
   "execution_count": 251,
   "metadata": {},
   "outputs": [],
   "source": [
    "veh_data_new_df.replace('', np.nan, inplace=True)\n",
    "veh_data_new_df = veh_data_new_df.dropna(subset=['volseg', 'Velocity'])"
   ]
  },
  {
   "cell_type": "code",
   "execution_count": 252,
   "metadata": {},
   "outputs": [],
   "source": [
    "# target encoding of highly cardinal variables\n",
    "from category_encoders import TargetEncoder\n",
    "encoder = TargetEncoder()\n",
    "veh_data_new_df['sauci_encoded'] = encoder.fit_transform(veh_data_new_df['sauci'], veh_data_new_df['dmsold'])\n",
    "encoder = TargetEncoder()\n",
    "veh_data_new_df['auctioncity_encoded'] = encoder.fit_transform(veh_data_new_df['auctioncity'], veh_data_new_df['dmsold'])\n",
    "encoder = TargetEncoder()\n",
    "veh_data_new_df['JD_POWERS_CAT_DESC_encoded'] = encoder.fit_transform(veh_data_new_df['JD_POWERS_CAT_DESC'], veh_data_new_df['dmsold'])\n",
    "encoder = TargetEncoder()\n",
    "veh_data_new_df['JD_POWERS_SUB_CAT_DESC_encoded'] = encoder.fit_transform(veh_data_new_df['JD_POWERS_SUB_CAT_DESC'], veh_data_new_df['dmsold'])\n",
    "encoder = TargetEncoder()\n",
    "veh_data_new_df['color_encoded'] = encoder.fit_transform(veh_data_new_df['color'], veh_data_new_df['dmsold'])\n",
    "encoder = TargetEncoder()\n",
    "veh_data_new_df['MID_YEAR_encoded'] = encoder.fit_transform(veh_data_new_df['MID_YEAR'], veh_data_new_df['dmsold'])\n",
    "encoder = TargetEncoder()\n",
    "veh_data_new_df['MID_MAKE_encoded'] = encoder.fit_transform(veh_data_new_df['MID_MAKE'], veh_data_new_df['dmsold'])\n",
    "encoder = TargetEncoder()\n",
    "veh_data_new_df['arrivaldate_encoded'] = encoder.fit_transform(veh_data_new_df['arrivaldate'], veh_data_new_df['dmsold'])\n",
    "encoder = TargetEncoder()\n",
    "veh_data_new_df['arrivaldate_encoded'] = encoder.fit_transform(veh_data_new_df['arrivaldate'], veh_data_new_df['dmsold'])\n",
    "encoder = TargetEncoder()\n",
    "veh_data_new_df['MID_MODEL_encoded'] = encoder.fit_transform(veh_data_new_df['MID_MODEL'], veh_data_new_df['dmsold'])\n",
    "encoder = TargetEncoder()\n",
    "veh_data_new_df['MID_BODY_encoded'] = encoder.fit_transform(veh_data_new_df['MID_BODY'], veh_data_new_df['dmsold'])\n"
   ]
  },
  {
   "cell_type": "code",
   "execution_count": 253,
   "metadata": {},
   "outputs": [
    {
     "name": "stdout",
     "output_type": "stream",
     "text": [
      "<class 'pandas.core.frame.DataFrame'>\n",
      "Int64Index: 38563 entries, 0 to 40402\n",
      "Data columns (total 66 columns):\n",
      " #   Column                          Non-Null Count  Dtype  \n",
      "---  ------                          --------------  -----  \n",
      " 0   sauci                           38563 non-null  object \n",
      " 1   auctionname                     38563 non-null  object \n",
      " 2   auctioncity                     38563 non-null  object \n",
      " 3   swo                             38563 non-null  int64  \n",
      " 4   sdtesa                          38563 non-null  int64  \n",
      " 5   arrivaldate                     38563 non-null  int64  \n",
      " 6   sser17                          38563 non-null  object \n",
      " 7   JD_POWERS_CAT_DESC              37293 non-null  object \n",
      " 8   JD_POWERS_SUB_CAT_DESC          37293 non-null  object \n",
      " 9   dmpostcond                      38563 non-null  float64\n",
      " 10  dmprecond                       38558 non-null  float64\n",
      " 11  smiles                          38563 non-null  int64  \n",
      " 12  color                           38518 non-null  object \n",
      " 13  dmsold                          38563 non-null  int64  \n",
      " 14  MID                             38563 non-null  object \n",
      " 15  MID_YEAR                        38563 non-null  int64  \n",
      " 16  MID_MAKE                        38563 non-null  object \n",
      " 17  MID_MODEL                       38563 non-null  object \n",
      " 18  MID_BODY                        38563 non-null  object \n",
      " 19  ch_make                         38563 non-null  object \n",
      " 20  ch_model                        38563 non-null  object \n",
      " 21  ch_body                         38562 non-null  object \n",
      " 22  sfloor                          38563 non-null  float64\n",
      " 23  stime                           26848 non-null  object \n",
      " 24  SALE_NUM                        38563 non-null  int64  \n",
      " 25  LANE_NUM                        38563 non-null  int64  \n",
      " 26  RUN_NUM                         38563 non-null  int64  \n",
      " 27  sflndr                          38561 non-null  object \n",
      " 28  RED_LIGHT                       38563 non-null  object \n",
      " 29  YELLOW_LIGHT                    38563 non-null  object \n",
      " 30  YMM                             38563 non-null  object \n",
      " 31  volseg                          38563 non-null  int64  \n",
      " 32  Velocity                        38563 non-null  int64  \n",
      " 33  DSO                             37330 non-null  float64\n",
      " 34  Unnamed                         38563 non-null  int64  \n",
      " 35  MMR                             38563 non-null  float64\n",
      " 36  AdjMMR                          38563 non-null  float64\n",
      " 37  SREMAR                          16890 non-null  object \n",
      " 38  SANNOU                          13168 non-null  object \n",
      " 39  abnormal                        38563 non-null  int64  \n",
      " 40  sfloor_mmr_ratio                38563 non-null  float64\n",
      " 41  z_score                         38563 non-null  float64\n",
      " 42  z_score_1                       38563 non-null  float64\n",
      " 43  sfloor_mmr_round_decim          38563 non-null  float64\n",
      " 44  MID_YEAR_Z                      38563 non-null  float64\n",
      " 45  arrivaldate_z                   38563 non-null  float64\n",
      " 46  sauci_encoded                   38563 non-null  float64\n",
      " 47  auctioncity_encoded             38563 non-null  float64\n",
      " 48  JD_POWERS_CAT_DESC_encoded      38563 non-null  float64\n",
      " 49  JD_POWERS_SUB_CAT_DESC_encoded  38563 non-null  float64\n",
      " 50  color_encoded                   38563 non-null  float64\n",
      " 51  MID_YEAR_encoded                38563 non-null  int64  \n",
      " 52  MID_MAKE_encoded                38563 non-null  float64\n",
      " 53  arrivaldate_encoded             38563 non-null  int64  \n",
      " 54  MID_MODEL_encoded               38563 non-null  float64\n",
      " 55  MID_BODY_encoded                38563 non-null  float64\n",
      " 56  sflndr_L                        38563 non-null  uint8  \n",
      " 57  sflndr_R                        38563 non-null  uint8  \n",
      " 58  RED_LIGHT_N                     38563 non-null  uint8  \n",
      " 59  RED_LIGHT_Y                     38563 non-null  uint8  \n",
      " 60  YELLOW_LIGHT_N                  38563 non-null  uint8  \n",
      " 61  YELLOW_LIGHT_Y                  38563 non-null  uint8  \n",
      " 62  Unnamed_0                       38563 non-null  uint8  \n",
      " 63  Unnamed_1                       38563 non-null  uint8  \n",
      " 64  abnormal_0                      38563 non-null  uint8  \n",
      " 65  abnormal_1                      38563 non-null  uint8  \n",
      "dtypes: float64(20), int64(15), object(21), uint8(10)\n",
      "memory usage: 18.4+ MB\n"
     ]
    }
   ],
   "source": [
    "#One hot encoding of low cardinal variables. Also renaming one of the feature without column name\n",
    "veh_data_new_df.rename(columns = {'Unnamed: 34':'Unnamed'}, inplace = True)\n",
    "categorical_columns = ['sflndr', 'RED_LIGHT', 'YELLOW_LIGHT','Unnamed','abnormal']\n",
    "for column in categorical_columns:\n",
    "    tempdf = pd.get_dummies(veh_data_new_df[column], prefix=column)\n",
    "    veh_data_new_df = pd.merge(\n",
    "        left=veh_data_new_df,\n",
    "        right=tempdf,\n",
    "        left_index=True,\n",
    "        right_index=True,\n",
    "    )\n",
    "    #veh_data_new_df = veh_data_new_df.drop(columns=column)\n",
    "veh_data_new_df.info()\n"
   ]
  },
  {
   "cell_type": "code",
   "execution_count": 254,
   "metadata": {},
   "outputs": [],
   "source": [
    "#dropping variables which don't help the algorithm\n",
    "veh_data_new_df.drop(['swo', 'sser17', 'MID', 'ch_make', 'ch_model', 'stime', 'SREMAR', 'SANNOU', 'sser17', 'stime'], axis=1, inplace=True)"
   ]
  },
  {
   "cell_type": "code",
   "execution_count": 255,
   "metadata": {},
   "outputs": [
    {
     "data": {
      "text/html": [
       "<div>\n",
       "<style scoped>\n",
       "    .dataframe tbody tr th:only-of-type {\n",
       "        vertical-align: middle;\n",
       "    }\n",
       "\n",
       "    .dataframe tbody tr th {\n",
       "        vertical-align: top;\n",
       "    }\n",
       "\n",
       "    .dataframe thead th {\n",
       "        text-align: right;\n",
       "    }\n",
       "</style>\n",
       "<table border=\"1\" class=\"dataframe\">\n",
       "  <thead>\n",
       "    <tr style=\"text-align: right;\">\n",
       "      <th></th>\n",
       "      <th>sauci</th>\n",
       "      <th>auctionname</th>\n",
       "      <th>auctioncity</th>\n",
       "      <th>sdtesa</th>\n",
       "      <th>arrivaldate</th>\n",
       "      <th>JD_POWERS_CAT_DESC</th>\n",
       "      <th>JD_POWERS_SUB_CAT_DESC</th>\n",
       "      <th>dmpostcond</th>\n",
       "      <th>dmprecond</th>\n",
       "      <th>smiles</th>\n",
       "      <th>...</th>\n",
       "      <th>sflndr_L</th>\n",
       "      <th>sflndr_R</th>\n",
       "      <th>RED_LIGHT_N</th>\n",
       "      <th>RED_LIGHT_Y</th>\n",
       "      <th>YELLOW_LIGHT_N</th>\n",
       "      <th>YELLOW_LIGHT_Y</th>\n",
       "      <th>Unnamed_0</th>\n",
       "      <th>Unnamed_1</th>\n",
       "      <th>abnormal_0</th>\n",
       "      <th>abnormal_1</th>\n",
       "    </tr>\n",
       "  </thead>\n",
       "  <tbody>\n",
       "    <tr>\n",
       "      <th>76</th>\n",
       "      <td>NADE</td>\n",
       "      <td>Manheim New Jersey</td>\n",
       "      <td>Bordentown</td>\n",
       "      <td>20161130</td>\n",
       "      <td>20161110</td>\n",
       "      <td>SUV</td>\n",
       "      <td>ENTRY</td>\n",
       "      <td>2.3</td>\n",
       "      <td>2.3</td>\n",
       "      <td>61624</td>\n",
       "      <td>...</td>\n",
       "      <td>0</td>\n",
       "      <td>1</td>\n",
       "      <td>1</td>\n",
       "      <td>0</td>\n",
       "      <td>1</td>\n",
       "      <td>0</td>\n",
       "      <td>1</td>\n",
       "      <td>0</td>\n",
       "      <td>1</td>\n",
       "      <td>0</td>\n",
       "    </tr>\n",
       "    <tr>\n",
       "      <th>80</th>\n",
       "      <td>OAA</td>\n",
       "      <td>Manheim Ohio</td>\n",
       "      <td>GROVE CITY</td>\n",
       "      <td>20161206</td>\n",
       "      <td>20160924</td>\n",
       "      <td>SUV</td>\n",
       "      <td>ENTRY</td>\n",
       "      <td>3.4</td>\n",
       "      <td>2.8</td>\n",
       "      <td>53809</td>\n",
       "      <td>...</td>\n",
       "      <td>1</td>\n",
       "      <td>0</td>\n",
       "      <td>1</td>\n",
       "      <td>0</td>\n",
       "      <td>1</td>\n",
       "      <td>0</td>\n",
       "      <td>1</td>\n",
       "      <td>0</td>\n",
       "      <td>1</td>\n",
       "      <td>0</td>\n",
       "    </tr>\n",
       "    <tr>\n",
       "      <th>81</th>\n",
       "      <td>OAA</td>\n",
       "      <td>Manheim Ohio</td>\n",
       "      <td>GROVE CITY</td>\n",
       "      <td>20161206</td>\n",
       "      <td>20160926</td>\n",
       "      <td>SUV</td>\n",
       "      <td>ENTRY</td>\n",
       "      <td>3.4</td>\n",
       "      <td>3.4</td>\n",
       "      <td>93498</td>\n",
       "      <td>...</td>\n",
       "      <td>1</td>\n",
       "      <td>0</td>\n",
       "      <td>1</td>\n",
       "      <td>0</td>\n",
       "      <td>0</td>\n",
       "      <td>1</td>\n",
       "      <td>1</td>\n",
       "      <td>0</td>\n",
       "      <td>0</td>\n",
       "      <td>1</td>\n",
       "    </tr>\n",
       "    <tr>\n",
       "      <th>82</th>\n",
       "      <td>OAA</td>\n",
       "      <td>Manheim Ohio</td>\n",
       "      <td>GROVE CITY</td>\n",
       "      <td>20161227</td>\n",
       "      <td>20160926</td>\n",
       "      <td>SUV</td>\n",
       "      <td>ENTRY</td>\n",
       "      <td>3.4</td>\n",
       "      <td>3.4</td>\n",
       "      <td>93498</td>\n",
       "      <td>...</td>\n",
       "      <td>1</td>\n",
       "      <td>0</td>\n",
       "      <td>1</td>\n",
       "      <td>0</td>\n",
       "      <td>0</td>\n",
       "      <td>1</td>\n",
       "      <td>1</td>\n",
       "      <td>0</td>\n",
       "      <td>0</td>\n",
       "      <td>1</td>\n",
       "    </tr>\n",
       "    <tr>\n",
       "      <th>83</th>\n",
       "      <td>NADE</td>\n",
       "      <td>Manheim New Jersey</td>\n",
       "      <td>Bordentown</td>\n",
       "      <td>20161102</td>\n",
       "      <td>20161018</td>\n",
       "      <td>COMPACT CAR</td>\n",
       "      <td>PREMIUM</td>\n",
       "      <td>4.2</td>\n",
       "      <td>4.1</td>\n",
       "      <td>1655</td>\n",
       "      <td>...</td>\n",
       "      <td>0</td>\n",
       "      <td>1</td>\n",
       "      <td>1</td>\n",
       "      <td>0</td>\n",
       "      <td>1</td>\n",
       "      <td>0</td>\n",
       "      <td>1</td>\n",
       "      <td>0</td>\n",
       "      <td>1</td>\n",
       "      <td>0</td>\n",
       "    </tr>\n",
       "    <tr>\n",
       "      <th>...</th>\n",
       "      <td>...</td>\n",
       "      <td>...</td>\n",
       "      <td>...</td>\n",
       "      <td>...</td>\n",
       "      <td>...</td>\n",
       "      <td>...</td>\n",
       "      <td>...</td>\n",
       "      <td>...</td>\n",
       "      <td>...</td>\n",
       "      <td>...</td>\n",
       "      <td>...</td>\n",
       "      <td>...</td>\n",
       "      <td>...</td>\n",
       "      <td>...</td>\n",
       "      <td>...</td>\n",
       "      <td>...</td>\n",
       "      <td>...</td>\n",
       "      <td>...</td>\n",
       "      <td>...</td>\n",
       "      <td>...</td>\n",
       "      <td>...</td>\n",
       "    </tr>\n",
       "    <tr>\n",
       "      <th>40382</th>\n",
       "      <td>NASH</td>\n",
       "      <td>Manheim Nashville</td>\n",
       "      <td>Mount Juliet</td>\n",
       "      <td>20161102</td>\n",
       "      <td>20160831</td>\n",
       "      <td>SUV</td>\n",
       "      <td>ENTRY</td>\n",
       "      <td>4.7</td>\n",
       "      <td>4.7</td>\n",
       "      <td>15620</td>\n",
       "      <td>...</td>\n",
       "      <td>0</td>\n",
       "      <td>1</td>\n",
       "      <td>1</td>\n",
       "      <td>0</td>\n",
       "      <td>1</td>\n",
       "      <td>0</td>\n",
       "      <td>1</td>\n",
       "      <td>0</td>\n",
       "      <td>1</td>\n",
       "      <td>0</td>\n",
       "    </tr>\n",
       "    <tr>\n",
       "      <th>40383</th>\n",
       "      <td>NASH</td>\n",
       "      <td>Manheim Nashville</td>\n",
       "      <td>Mount Juliet</td>\n",
       "      <td>20161019</td>\n",
       "      <td>20160831</td>\n",
       "      <td>SUV</td>\n",
       "      <td>ENTRY</td>\n",
       "      <td>4.7</td>\n",
       "      <td>4.7</td>\n",
       "      <td>15620</td>\n",
       "      <td>...</td>\n",
       "      <td>0</td>\n",
       "      <td>1</td>\n",
       "      <td>1</td>\n",
       "      <td>0</td>\n",
       "      <td>1</td>\n",
       "      <td>0</td>\n",
       "      <td>1</td>\n",
       "      <td>0</td>\n",
       "      <td>1</td>\n",
       "      <td>0</td>\n",
       "    </tr>\n",
       "    <tr>\n",
       "      <th>40386</th>\n",
       "      <td>FAAO</td>\n",
       "      <td>Manheim Orlando</td>\n",
       "      <td>Ocoee</td>\n",
       "      <td>20161108</td>\n",
       "      <td>20161018</td>\n",
       "      <td>SUV</td>\n",
       "      <td>ENTRY</td>\n",
       "      <td>5.0</td>\n",
       "      <td>5.0</td>\n",
       "      <td>2249</td>\n",
       "      <td>...</td>\n",
       "      <td>0</td>\n",
       "      <td>1</td>\n",
       "      <td>1</td>\n",
       "      <td>0</td>\n",
       "      <td>1</td>\n",
       "      <td>0</td>\n",
       "      <td>1</td>\n",
       "      <td>0</td>\n",
       "      <td>1</td>\n",
       "      <td>0</td>\n",
       "    </tr>\n",
       "    <tr>\n",
       "      <th>40389</th>\n",
       "      <td>FAAO</td>\n",
       "      <td>Manheim Orlando</td>\n",
       "      <td>Ocoee</td>\n",
       "      <td>20161213</td>\n",
       "      <td>20161108</td>\n",
       "      <td>SUV</td>\n",
       "      <td>ENTRY</td>\n",
       "      <td>5.0</td>\n",
       "      <td>5.0</td>\n",
       "      <td>9976</td>\n",
       "      <td>...</td>\n",
       "      <td>1</td>\n",
       "      <td>0</td>\n",
       "      <td>1</td>\n",
       "      <td>0</td>\n",
       "      <td>1</td>\n",
       "      <td>0</td>\n",
       "      <td>1</td>\n",
       "      <td>0</td>\n",
       "      <td>1</td>\n",
       "      <td>0</td>\n",
       "    </tr>\n",
       "    <tr>\n",
       "      <th>40390</th>\n",
       "      <td>FAAO</td>\n",
       "      <td>Manheim Orlando</td>\n",
       "      <td>Ocoee</td>\n",
       "      <td>20161213</td>\n",
       "      <td>20161115</td>\n",
       "      <td>SUV</td>\n",
       "      <td>ENTRY</td>\n",
       "      <td>4.9</td>\n",
       "      <td>4.9</td>\n",
       "      <td>3814</td>\n",
       "      <td>...</td>\n",
       "      <td>0</td>\n",
       "      <td>1</td>\n",
       "      <td>1</td>\n",
       "      <td>0</td>\n",
       "      <td>1</td>\n",
       "      <td>0</td>\n",
       "      <td>1</td>\n",
       "      <td>0</td>\n",
       "      <td>1</td>\n",
       "      <td>0</td>\n",
       "    </tr>\n",
       "  </tbody>\n",
       "</table>\n",
       "<p>36018 rows × 58 columns</p>\n",
       "</div>"
      ],
      "text/plain": [
       "      sauci         auctionname   auctioncity    sdtesa  arrivaldate  \\\n",
       "76     NADE  Manheim New Jersey    Bordentown  20161130     20161110   \n",
       "80      OAA        Manheim Ohio    GROVE CITY  20161206     20160924   \n",
       "81      OAA        Manheim Ohio    GROVE CITY  20161206     20160926   \n",
       "82      OAA        Manheim Ohio    GROVE CITY  20161227     20160926   \n",
       "83     NADE  Manheim New Jersey    Bordentown  20161102     20161018   \n",
       "...     ...                 ...           ...       ...          ...   \n",
       "40382  NASH   Manheim Nashville  Mount Juliet  20161102     20160831   \n",
       "40383  NASH   Manheim Nashville  Mount Juliet  20161019     20160831   \n",
       "40386  FAAO     Manheim Orlando         Ocoee  20161108     20161018   \n",
       "40389  FAAO     Manheim Orlando         Ocoee  20161213     20161108   \n",
       "40390  FAAO     Manheim Orlando         Ocoee  20161213     20161115   \n",
       "\n",
       "      JD_POWERS_CAT_DESC JD_POWERS_SUB_CAT_DESC  dmpostcond  dmprecond  \\\n",
       "76                   SUV                  ENTRY         2.3        2.3   \n",
       "80                   SUV                  ENTRY         3.4        2.8   \n",
       "81                   SUV                  ENTRY         3.4        3.4   \n",
       "82                   SUV                  ENTRY         3.4        3.4   \n",
       "83           COMPACT CAR                PREMIUM         4.2        4.1   \n",
       "...                  ...                    ...         ...        ...   \n",
       "40382                SUV                  ENTRY         4.7        4.7   \n",
       "40383                SUV                  ENTRY         4.7        4.7   \n",
       "40386                SUV                  ENTRY         5.0        5.0   \n",
       "40389                SUV                  ENTRY         5.0        5.0   \n",
       "40390                SUV                  ENTRY         4.9        4.9   \n",
       "\n",
       "       smiles  ... sflndr_L  sflndr_R  RED_LIGHT_N RED_LIGHT_Y YELLOW_LIGHT_N  \\\n",
       "76      61624  ...        0         1            1           0              1   \n",
       "80      53809  ...        1         0            1           0              1   \n",
       "81      93498  ...        1         0            1           0              0   \n",
       "82      93498  ...        1         0            1           0              0   \n",
       "83       1655  ...        0         1            1           0              1   \n",
       "...       ...  ...      ...       ...          ...         ...            ...   \n",
       "40382   15620  ...        0         1            1           0              1   \n",
       "40383   15620  ...        0         1            1           0              1   \n",
       "40386    2249  ...        0         1            1           0              1   \n",
       "40389    9976  ...        1         0            1           0              1   \n",
       "40390    3814  ...        0         1            1           0              1   \n",
       "\n",
       "      YELLOW_LIGHT_Y Unnamed_0  Unnamed_1  abnormal_0  abnormal_1  \n",
       "76                 0         1          0           1           0  \n",
       "80                 0         1          0           1           0  \n",
       "81                 1         1          0           0           1  \n",
       "82                 1         1          0           0           1  \n",
       "83                 0         1          0           1           0  \n",
       "...              ...       ...        ...         ...         ...  \n",
       "40382              0         1          0           1           0  \n",
       "40383              0         1          0           1           0  \n",
       "40386              0         1          0           1           0  \n",
       "40389              0         1          0           1           0  \n",
       "40390              0         1          0           1           0  \n",
       "\n",
       "[36018 rows x 58 columns]"
      ]
     },
     "execution_count": 255,
     "metadata": {},
     "output_type": "execute_result"
    }
   ],
   "source": [
    "#dropping rows with null values\n",
    "veh_data_new_df.dropna(axis=0)"
   ]
  },
  {
   "cell_type": "code",
   "execution_count": 256,
   "metadata": {},
   "outputs": [
    {
     "name": "stdout",
     "output_type": "stream",
     "text": [
      "<class 'pandas.core.frame.DataFrame'>\n",
      "Int64Index: 38563 entries, 0 to 40402\n",
      "Data columns (total 58 columns):\n",
      " #   Column                          Non-Null Count  Dtype  \n",
      "---  ------                          --------------  -----  \n",
      " 0   sauci                           38563 non-null  object \n",
      " 1   auctionname                     38563 non-null  object \n",
      " 2   auctioncity                     38563 non-null  object \n",
      " 3   sdtesa                          38563 non-null  int64  \n",
      " 4   arrivaldate                     38563 non-null  int64  \n",
      " 5   JD_POWERS_CAT_DESC              37293 non-null  object \n",
      " 6   JD_POWERS_SUB_CAT_DESC          37293 non-null  object \n",
      " 7   dmpostcond                      38563 non-null  float64\n",
      " 8   dmprecond                       38558 non-null  float64\n",
      " 9   smiles                          38563 non-null  int64  \n",
      " 10  color                           38518 non-null  object \n",
      " 11  dmsold                          38563 non-null  int64  \n",
      " 12  MID_YEAR                        38563 non-null  int64  \n",
      " 13  MID_MAKE                        38563 non-null  object \n",
      " 14  MID_MODEL                       38563 non-null  object \n",
      " 15  MID_BODY                        38563 non-null  object \n",
      " 16  ch_body                         38562 non-null  object \n",
      " 17  sfloor                          38563 non-null  float64\n",
      " 18  SALE_NUM                        38563 non-null  int64  \n",
      " 19  LANE_NUM                        38563 non-null  int64  \n",
      " 20  RUN_NUM                         38563 non-null  int64  \n",
      " 21  sflndr                          38561 non-null  object \n",
      " 22  RED_LIGHT                       38563 non-null  object \n",
      " 23  YELLOW_LIGHT                    38563 non-null  object \n",
      " 24  YMM                             38563 non-null  object \n",
      " 25  volseg                          38563 non-null  int64  \n",
      " 26  Velocity                        38563 non-null  int64  \n",
      " 27  DSO                             37330 non-null  float64\n",
      " 28  Unnamed                         38563 non-null  int64  \n",
      " 29  MMR                             38563 non-null  float64\n",
      " 30  AdjMMR                          38563 non-null  float64\n",
      " 31  abnormal                        38563 non-null  int64  \n",
      " 32  sfloor_mmr_ratio                38563 non-null  float64\n",
      " 33  z_score                         38563 non-null  float64\n",
      " 34  z_score_1                       38563 non-null  float64\n",
      " 35  sfloor_mmr_round_decim          38563 non-null  float64\n",
      " 36  MID_YEAR_Z                      38563 non-null  float64\n",
      " 37  arrivaldate_z                   38563 non-null  float64\n",
      " 38  sauci_encoded                   38563 non-null  float64\n",
      " 39  auctioncity_encoded             38563 non-null  float64\n",
      " 40  JD_POWERS_CAT_DESC_encoded      38563 non-null  float64\n",
      " 41  JD_POWERS_SUB_CAT_DESC_encoded  38563 non-null  float64\n",
      " 42  color_encoded                   38563 non-null  float64\n",
      " 43  MID_YEAR_encoded                38563 non-null  int64  \n",
      " 44  MID_MAKE_encoded                38563 non-null  float64\n",
      " 45  arrivaldate_encoded             38563 non-null  int64  \n",
      " 46  MID_MODEL_encoded               38563 non-null  float64\n",
      " 47  MID_BODY_encoded                38563 non-null  float64\n",
      " 48  sflndr_L                        38563 non-null  uint8  \n",
      " 49  sflndr_R                        38563 non-null  uint8  \n",
      " 50  RED_LIGHT_N                     38563 non-null  uint8  \n",
      " 51  RED_LIGHT_Y                     38563 non-null  uint8  \n",
      " 52  YELLOW_LIGHT_N                  38563 non-null  uint8  \n",
      " 53  YELLOW_LIGHT_Y                  38563 non-null  uint8  \n",
      " 54  Unnamed_0                       38563 non-null  uint8  \n",
      " 55  Unnamed_1                       38563 non-null  uint8  \n",
      " 56  abnormal_0                      38563 non-null  uint8  \n",
      " 57  abnormal_1                      38563 non-null  uint8  \n",
      "dtypes: float64(20), int64(14), object(14), uint8(10)\n",
      "memory usage: 16.0+ MB\n"
     ]
    }
   ],
   "source": [
    "veh_data_new_df.info()"
   ]
  },
  {
   "cell_type": "code",
   "execution_count": 257,
   "metadata": {},
   "outputs": [
    {
     "data": {
      "text/plain": [
       "Index(['sauci', 'auctionname', 'auctioncity', 'sdtesa', 'arrivaldate',\n",
       "       'JD_POWERS_CAT_DESC', 'JD_POWERS_SUB_CAT_DESC', 'dmpostcond',\n",
       "       'dmprecond', 'smiles', 'color', 'dmsold', 'MID_YEAR', 'MID_MAKE',\n",
       "       'MID_MODEL', 'MID_BODY', 'ch_body', 'sfloor', 'SALE_NUM', 'LANE_NUM',\n",
       "       'RUN_NUM', 'sflndr', 'RED_LIGHT', 'YELLOW_LIGHT', 'YMM', 'volseg',\n",
       "       'Velocity', 'DSO', 'Unnamed', 'MMR', 'AdjMMR', 'abnormal',\n",
       "       'sfloor_mmr_ratio', 'z_score', 'z_score_1', 'sfloor_mmr_round_decim',\n",
       "       'MID_YEAR_Z', 'arrivaldate_z', 'sauci_encoded', 'auctioncity_encoded',\n",
       "       'JD_POWERS_CAT_DESC_encoded', 'JD_POWERS_SUB_CAT_DESC_encoded',\n",
       "       'color_encoded', 'MID_YEAR_encoded', 'MID_MAKE_encoded',\n",
       "       'arrivaldate_encoded', 'MID_MODEL_encoded', 'MID_BODY_encoded',\n",
       "       'sflndr_L', 'sflndr_R', 'RED_LIGHT_N', 'RED_LIGHT_Y', 'YELLOW_LIGHT_N',\n",
       "       'YELLOW_LIGHT_Y', 'Unnamed_0', 'Unnamed_1', 'abnormal_0', 'abnormal_1'],\n",
       "      dtype='object')"
      ]
     },
     "execution_count": 257,
     "metadata": {},
     "output_type": "execute_result"
    }
   ],
   "source": [
    "veh_data_new_df.columns"
   ]
  },
  {
   "cell_type": "code",
   "execution_count": 258,
   "metadata": {},
   "outputs": [],
   "source": [
    "#dropping values with null values which were not removed earlier\n",
    "veh_data_new_df = veh_data_new_df.dropna(subset=['DSO', 'dmprecond'])"
   ]
  },
  {
   "cell_type": "code",
   "execution_count": 259,
   "metadata": {},
   "outputs": [
    {
     "data": {
      "text/plain": [
       "Index(['sauci_encoded', 'sdtesa', 'arrivaldate_encoded', 'dmpostcond',\n",
       "       'MID_YEAR_encoded', 'MID_BODY_encoded', 'sfloor', 'LANE_NUM', 'RUN_NUM',\n",
       "       'volseg', 'Velocity', 'DSO', 'MMR', 'AdjMMR'],\n",
       "      dtype='object')"
      ]
     },
     "execution_count": 259,
     "metadata": {},
     "output_type": "execute_result"
    }
   ],
   "source": [
    "#Preparing to fit Logistic Regression model\n",
    "#Removing unwanted variables using Lasso regression\n",
    "from sklearn.linear_model import LogisticRegression\n",
    "from sklearn.linear_model import Lasso\n",
    "from sklearn.feature_selection import SelectFromModel\n",
    "\n",
    "X=veh_data_new_df[['sauci_encoded', 'auctioncity_encoded','sdtesa', 'arrivaldate_encoded',\n",
    "        'JD_POWERS_CAT_DESC_encoded', 'JD_POWERS_SUB_CAT_DESC_encoded', 'dmpostcond',\n",
    "       'dmprecond', 'smiles', 'color_encoded', 'MID_YEAR_encoded', 'MID_MAKE_encoded',\n",
    "       'MID_MODEL_encoded', 'MID_BODY_encoded','sfloor',\n",
    "       'LANE_NUM', 'RUN_NUM', 'RED_LIGHT_Y','RED_LIGHT_N','YELLOW_LIGHT_N','YELLOW_LIGHT_Y',\n",
    "       'volseg', 'Velocity', 'DSO', 'MMR',\n",
    "       'AdjMMR', 'abnormal_0', 'abnormal_1','sfloor_mmr_ratio', 'sfloor_mmr_round_decim','sflndr_L', 'sflndr_R','Unnamed_0','Unnamed_1']]\n",
    "y=veh_data_new_df[['dmsold']]\n",
    "X_train, X_test, y_train, y_test = train_test_split(X,y,test_size=0.1, random_state=0)\n",
    "X_train.head()\n",
    "sel_ = SelectFromModel(Lasso(alpha=0.001, random_state=0))\n",
    "sel_.fit(X_train, y_train)\n",
    "sel_.get_support().sum()\n",
    "sel_.get_support()\n",
    "selected_feats = X_train.columns[(sel_.get_support())]\n",
    "selected_feats"
   ]
  },
  {
   "cell_type": "code",
   "execution_count": 260,
   "metadata": {},
   "outputs": [
    {
     "name": "stderr",
     "output_type": "stream",
     "text": [
      "C:\\Users\\Public\\Anaconda\\lib\\site-packages\\sklearn\\utils\\validation.py:760: DataConversionWarning: A column-vector y was passed when a 1d array was expected. Please change the shape of y to (n_samples, ), for example using ravel().\n",
      "  y = column_or_1d(y, warn=True)\n"
     ]
    }
   ],
   "source": [
    "from sklearn.linear_model import LogisticRegression\n",
    "from sklearn.feature_selection import SelectFromModel\n",
    "\n",
    "X=veh_data_new_df[['sauci_encoded', 'sdtesa', 'arrivaldate_encoded', 'dmpostcond',\n",
    "       'MID_YEAR_encoded', 'MID_BODY_encoded', 'sfloor', 'LANE_NUM', 'RUN_NUM',\n",
    "       'volseg', 'Velocity', 'DSO', 'MMR', 'AdjMMR']]\n",
    "y=veh_data_new_df[['dmsold']]\n",
    "X_train, X_test, y_train, y_test = train_test_split(X,y,test_size=0.1, random_state=0)\n",
    "stdscaler = preprocessing.StandardScaler().fit(X_train)\n",
    "X_train_scaled = stdscaler.transform(X_train)\n",
    "X_train_scaled_df = pd.DataFrame(X_train_scaled)\n",
    "X_test_scaled  = stdscaler.transform(X_test)\n",
    "X_test_scaled_df = pd.DataFrame(X_test_scaled)\n",
    "\n",
    "log = LogisticRegression(penalty='l1', solver='liblinear')\n",
    "lr_model=log.fit(X_train_scaled, y_train)"
   ]
  },
  {
   "cell_type": "code",
   "execution_count": 261,
   "metadata": {},
   "outputs": [
    {
     "name": "stdout",
     "output_type": "stream",
     "text": [
      "No Skill: ROC AUC=0.500\n",
      "Logistic: ROC AUC=0.684\n"
     ]
    },
    {
     "data": {
      "image/png": "[encoded data removed]",
      "text/plain": [
       "<Figure size 432x288 with 1 Axes>"
      ]
     },
     "metadata": {
      "needs_background": "light"
     },
     "output_type": "display_data"
    }
   ],
   "source": [
    "#ROC curve\n",
    "from matplotlib import pyplot\n",
    "from sklearn.metrics import *\n",
    "lr_probs = lr_model.predict_proba(X_test_scaled)\n",
    "# keep probabilities for the positive outcome only\n",
    "ns_probs = [0 for _ in range(len(y_test))]\n",
    "lr_probs = lr_probs[:, 1]\n",
    "# calculate scores\n",
    "ns_auc = roc_auc_score(y_test, ns_probs)\n",
    "lr_auc = roc_auc_score(y_test, lr_probs)\n",
    "# summarize scores\n",
    "print('No Skill: ROC AUC=%.3f' % (ns_auc))\n",
    "print('Logistic: ROC AUC=%.3f' % (lr_auc))\n",
    "# calculate roc curves\n",
    "ns_fpr, ns_tpr, _ = roc_curve(y_test, ns_probs)\n",
    "lr_fpr, lr_tpr, _ = roc_curve(y_test, lr_probs)\n",
    "# plot the roc curve for the model\n",
    "pyplot.plot(ns_fpr, ns_tpr, linestyle='--', label='No Classifier')\n",
    "pyplot.plot(lr_fpr, lr_tpr, marker='.', label='Logistic Classifier')\n",
    "# axis labels\n",
    "pyplot.xlabel('False Positive Rate')\n",
    "pyplot.ylabel('True Positive Rate')\n",
    "# show the legend\n",
    "pyplot.legend()\n",
    "# show the plot\n",
    "pyplot.show()"
   ]
  },
  {
   "cell_type": "code",
   "execution_count": 262,
   "metadata": {},
   "outputs": [
    {
     "data": {
      "text/plain": [
       "<Figure size 504x504 with 0 Axes>"
      ]
     },
     "metadata": {},
     "output_type": "display_data"
    },
    {
     "data": {
      "image/png": "[encoded data removed]",
      "text/plain": [
       "<Figure size 432x288 with 1 Axes>"
      ]
     },
     "metadata": {
      "needs_background": "light"
     },
     "output_type": "display_data"
    }
   ],
   "source": [
    "#Lift Chart\n",
    "import scikitplot as skplt\n",
    "plt.figure(figsize=(7,7))\n",
    "skplt.metrics.plot_lift_curve(y_test, lr_model.predict_proba(X_test_scaled))\n",
    "plt.show()"
   ]
  },
  {
   "cell_type": "code",
   "execution_count": 263,
   "metadata": {},
   "outputs": [
    {
     "name": "stdout",
     "output_type": "stream",
     "text": [
      "Confusion_matrix\n",
      "[[ 261  928]\n",
      " [ 173 2371]]\n",
      "Accuray Score:  0.7050629520492901\n",
      "Precision Score:  0.7187026371627766\n",
      "Recall Score:  0.9319968553459119\n",
      "F1 Score:  0.8115693992811912\n"
     ]
    }
   ],
   "source": [
    "#Logistic Regression Performance Metrics\n",
    "from sklearn.metrics import *\n",
    "y_pred=lr_model.predict(X_test_scaled)\n",
    "cm = confusion_matrix(y_test, y_pred)\n",
    "np.set_printoptions(precision=2)\n",
    "print ('Confusion_matrix')\n",
    "print (cm)\n",
    "print(\"Accuray Score: \",accuracy_score(y_test,y_pred))\n",
    "print(\"Precision Score: \", precision_score(y_test,y_pred))\n",
    "print(\"Recall Score: \", recall_score(y_test,y_pred))\n",
    "print(\"F1 Score: \", f1_score(y_test,y_pred))"
   ]
  },
  {
   "cell_type": "code",
   "execution_count": 264,
   "metadata": {},
   "outputs": [
    {
     "name": "stdout",
     "output_type": "stream",
     "text": [
      "total revenue from sales in dollars:  307827225.0\n",
      "total revenue from sales in dollars by attending to 60% of vehicles without prediction model:  184696335.0\n",
      "total revenue from sales in dollars by attending to 60% of vehicles WITH results from prediction model:  246261780.0\n",
      "total additional revenue from sales in dollars by attending to 60% of vehicles WITH prediction model:  61565445.0\n"
     ]
    }
   ],
   "source": [
    "#Value realization with this model\n",
    "veh_data_sales_df=veh_data_new_df[(veh_data_new_df.dmsold==1)]\n",
    "total_sale_dollar_revenue = veh_data_sales_df['sfloor'].sum()\n",
    "print ('total revenue from sales in dollars: ',  total_sale_dollar_revenue)\n",
    "print ('total revenue from sales in dollars by attending to 60% of vehicles without prediction model: ',  total_sale_dollar_revenue*0.6)\n",
    "print ('total revenue from sales in dollars by attending to 60% of vehicles WITH results from prediction model: ',  total_sale_dollar_revenue*0.8)\n",
    "print ('total additional revenue from sales in dollars by attending to 60% of vehicles WITH prediction model: ',  total_sale_dollar_revenue*0.2)"
   ]
  },
  {
   "cell_type": "code",
   "execution_count": 265,
   "metadata": {},
   "outputs": [],
   "source": [
    "## APPENDIX 1 - Deep Learning Model for sale prediction"
   ]
  },
  {
   "cell_type": "code",
   "execution_count": 266,
   "metadata": {},
   "outputs": [
    {
     "name": "stdout",
     "output_type": "stream",
     "text": [
      "(37325, 34)\n",
      "(37325, 2)\n"
     ]
    }
   ],
   "source": [
    "#Use all the variables and fir deep learning model after data normalization\n",
    "X=veh_data_new_df[['sauci_encoded', 'auctioncity_encoded','sdtesa', 'arrivaldate_encoded',\n",
    "        'JD_POWERS_CAT_DESC_encoded', 'JD_POWERS_SUB_CAT_DESC_encoded', 'dmpostcond',\n",
    "       'dmprecond', 'smiles', 'color_encoded', 'MID_YEAR_encoded', 'MID_MAKE_encoded',\n",
    "       'MID_MODEL_encoded', 'MID_BODY_encoded','sfloor',\n",
    "       'LANE_NUM', 'RUN_NUM', 'RED_LIGHT_Y','RED_LIGHT_N','YELLOW_LIGHT_N','YELLOW_LIGHT_Y',\n",
    "       'volseg', 'Velocity', 'DSO', 'MMR',\n",
    "       'AdjMMR', 'abnormal_0', 'abnormal_1','sfloor_mmr_ratio', 'sfloor_mmr_round_decim','sflndr_L', 'sflndr_R','Unnamed_0','Unnamed_1']]\n",
    "y=veh_data_new_df['dmsold']\n",
    "\n",
    "X = pd.get_dummies(X).to_numpy()\n",
    "\n",
    "y = pd.get_dummies(y).to_numpy()\n",
    "\n",
    "#splitting data into training and testing sets. Converting data into a scalar\n",
    "X_train, X_test, y_train, y_test = train_test_split(\n",
    "    X, y, test_size=0.10, random_state=50)\n",
    "\n",
    "#pca = PCA(n_components=13)\n",
    "#X_train_pca = pca.fit_transform(X_train)\n",
    "#X_test_pca = pca.transform(X_test)\n",
    "#X_pca = pca.transform(X)\n",
    "\n",
    "#stdscaler = preprocessing.StandardScaler().fit(X_train)\n",
    "#X_train_scaled = stdscaler.transform(X_train)\n",
    "#X_test_scaled  = stdscaler.transform(X_test)\n",
    "\n",
    "from sklearn.preprocessing import StandardScaler\n",
    "sc = StandardScaler()\n",
    "X_train, X_test, y_train, y_test = train_test_split(\n",
    "    X, y, test_size=0.10, random_state=50)\n",
    "X_train_scaled = sc.fit_transform(X_train)\n",
    "X_test_scaled = sc.transform(X_test)\n",
    "\n",
    "print (X.shape)\n",
    "print(y.shape)\n"
   ]
  },
  {
   "cell_type": "code",
   "execution_count": 267,
   "metadata": {},
   "outputs": [
    {
     "name": "stdout",
     "output_type": "stream",
     "text": [
      "Model: \"sequential_2\"\n",
      "_________________________________________________________________\n",
      "Layer (type)                 Output Shape              Param #   \n",
      "=================================================================\n",
      "dense_6 (Dense)              (None, 100)               3500      \n",
      "_________________________________________________________________\n",
      "dense_7 (Dense)              (None, 200)               20200     \n",
      "_________________________________________________________________\n",
      "dense_8 (Dense)              (None, 50)                10050     \n",
      "_________________________________________________________________\n",
      "dense_9 (Dense)              (None, 15)                765       \n",
      "_________________________________________________________________\n",
      "dense_10 (Dense)             (None, 2)                 32        \n",
      "=================================================================\n",
      "Total params: 34,547\n",
      "Trainable params: 34,547\n",
      "Non-trainable params: 0\n",
      "_________________________________________________________________\n"
     ]
    }
   ],
   "source": [
    "#Fit neural networking model\n",
    "from keras.models import Sequential\n",
    "from keras.layers import Dense\n",
    "from keras.regularizers import l2, l1\n",
    "from keras.optimizers import SGD\n",
    "NN_model = Sequential()\n",
    "\n",
    "\n",
    "# The Input Layer :\n",
    "\n",
    "NN_model.add(Dense(100, input_dim = 34, activation='relu'))\n",
    "\n",
    "\n",
    "\n",
    "# The Hidden Layers :\n",
    "\n",
    "NN_model.add(Dense(200, activation='relu'))\n",
    "NN_model.add(Dense(50, activation='relu'))\n",
    "\n",
    "NN_model.add(Dense(15, activation='relu'))\n",
    "\n",
    "NN_model.add(Dense(2, activation='sigmoid'))\n",
    "\n",
    "\n",
    "\n",
    "# Compile the network :\n",
    "sgd = SGD(lr=0.005)\n",
    "\n",
    "NN_model.compile(loss='binary_crossentropy', optimizer='adam',metrics = ['accuracy'])\n",
    "\n",
    "NN_model.summary()"
   ]
  },
  {
   "cell_type": "code",
   "execution_count": 268,
   "metadata": {},
   "outputs": [],
   "source": [
    "# Defining parameters to fit the neural network model\n",
    "from keras.callbacks import ModelCheckpoint\n",
    "from keras.callbacks import EarlyStopping\n",
    "\n",
    "monitor = EarlyStopping(monitor='val_loss', min_delta=1e-3, patience=20, verbose=3, mode='auto')\n",
    "\n",
    "checkpointer = ModelCheckpoint(filepath='best_weights.hdf5',verbose=0, save_best_only=True)"
   ]
  },
  {
   "cell_type": "code",
   "execution_count": 269,
   "metadata": {},
   "outputs": [
    {
     "name": "stdout",
     "output_type": "stream",
     "text": [
      "Epoch 00024: early stopping\n"
     ]
    }
   ],
   "source": [
    "# Fitting the neural network model\n",
    "\n",
    "history = NN_model.fit(X_train_scaled, y_train, validation_data = (X_test_scaled,y_test), batch_size = 128, callbacks=[monitor, checkpointer], verbose=0, epochs=100)\n",
    "NN_model.load_weights('best_weights.hdf5')"
   ]
  },
  {
   "cell_type": "code",
   "execution_count": 270,
   "metadata": {},
   "outputs": [
    {
     "name": "stdout",
     "output_type": "stream",
     "text": [
      "Confusion_matrix\n",
      "[[ 422  725]\n",
      " [ 310 2276]]\n",
      "              precision    recall  f1-score   support\n",
      "\n",
      "           0       0.58      0.37      0.45      1147\n",
      "           1       0.76      0.88      0.81      2586\n",
      "\n",
      "    accuracy                           0.72      3733\n",
      "   macro avg       0.67      0.62      0.63      3733\n",
      "weighted avg       0.70      0.72      0.70      3733\n",
      "\n"
     ]
    }
   ],
   "source": [
    "# Performance metrics for neural network model\n",
    "pred=NN_model.predict(X_test_scaled)\n",
    "y_pred = np.argmax(pred, axis=1)\n",
    "y_test = np.argmax(y_test, axis=1)\n",
    "cm = confusion_matrix(y_test, y_pred)\n",
    "np.set_printoptions(precision=2)\n",
    "print ('Confusion_matrix')\n",
    "print (cm)\n",
    "print (classification_report(y_test,y_pred))"
   ]
  },
  {
   "cell_type": "code",
   "execution_count": 271,
   "metadata": {},
   "outputs": [
    {
     "data": {
      "image/png": "[encoded data removed]",
      "text/plain": [
       "<Figure size 432x288 with 1 Axes>"
      ]
     },
     "metadata": {
      "needs_background": "light"
     },
     "output_type": "display_data"
    },
    {
     "name": "stdout",
     "output_type": "stream",
     "text": [
      "Loss after final iteration:  0.6161509523946096\n"
     ]
    }
   ],
   "source": [
    "# Plotting and claculating loss for neural network\n",
    "%matplotlib inline\n",
    "import matplotlib.pyplot as plt\n",
    "plt.figure(1, figsize=(6,4))\n",
    "xc = range(200)\n",
    "# # summarize history for loss\n",
    "plt.plot(history.history['loss'])\n",
    "plt.plot(history.history['val_loss'])\n",
    "plt.title('Model Loss')\n",
    "plt.ylabel('binary_crossentropy')\n",
    "plt.xlabel('Epoch')\n",
    "plt.grid('True')\n",
    "plt.legend(['Training Loss', 'Testing Loss'], loc='upper right')\n",
    "\n",
    "plt.show()\n",
    "print (\"Loss after final iteration: \", history.history['val_loss'][-1])"
   ]
  },
  {
   "cell_type": "code",
   "execution_count": 272,
   "metadata": {},
   "outputs": [
    {
     "name": "stdout",
     "output_type": "stream",
     "text": [
      "Accuracy after final iteration:  0.7183230519294739\n"
     ]
    },
    {
     "data": {
      "image/png": "[encoded data removed]",
      "text/plain": [
       "<Figure size 432x288 with 1 Axes>"
      ]
     },
     "metadata": {
      "needs_background": "light"
     },
     "output_type": "display_data"
    }
   ],
   "source": [
    "#Plotting accuracy and calculating accuracy for neural network model\n",
    "%matplotlib inline\n",
    "import matplotlib.pyplot as plt\n",
    "plt.figure(1, figsize=(6,4))\n",
    "xc = range(200)\n",
    "# # summarize history for loss\n",
    "plt.plot(history.history['accuracy'])\n",
    "plt.plot(history.history['val_accuracy'])\n",
    "plt.title('Model Accuracy')\n",
    "plt.ylabel('Accuracy')\n",
    "plt.xlabel('Epoch')\n",
    "plt.grid('True')\n",
    "plt.legend(['Training Accuracy', 'Testing Accuracy'], loc='upper left')\n",
    "print (\"Accuracy after final iteration: \", history.history['val_accuracy'][-1])\n",
    "plt.show()"
   ]
  },
  {
   "cell_type": "code",
   "execution_count": 273,
   "metadata": {},
   "outputs": [],
   "source": [
    "## Appendix # 2 for Naive Bayes Model"
   ]
  },
  {
   "cell_type": "code",
   "execution_count": 274,
   "metadata": {},
   "outputs": [],
   "source": [
    "#data normalization for Naive Bayes Model\n",
    "X=veh_data_new_df[['sauci_encoded', 'auctioncity_encoded','sdtesa', 'arrivaldate_encoded',\n",
    "        'JD_POWERS_CAT_DESC_encoded', 'JD_POWERS_SUB_CAT_DESC_encoded', 'dmpostcond',\n",
    "       'dmprecond', 'smiles', 'color_encoded', 'MID_YEAR_encoded', 'MID_MAKE_encoded',\n",
    "       'MID_MODEL_encoded', 'MID_BODY_encoded','sfloor',\n",
    "       'LANE_NUM', 'RUN_NUM', 'RED_LIGHT_Y','RED_LIGHT_N','YELLOW_LIGHT_N','YELLOW_LIGHT_Y',\n",
    "       'volseg', 'Velocity', 'DSO', 'MMR',\n",
    "       'AdjMMR', 'abnormal_0', 'abnormal_1','sfloor_mmr_ratio', 'sfloor_mmr_round_decim','sflndr_L', 'sflndr_R','Unnamed_0','Unnamed_1']]\n",
    "y=veh_data_new_df[['dmsold']]\n",
    "X_train, X_test, y_train, y_test = train_test_split(X,y,test_size=0.1, random_state=0)\n",
    "stdscaler = preprocessing.StandardScaler().fit(X_train)\n",
    "X_train_scaled = stdscaler.transform(X_train)\n",
    "X_train_scaled_df = pd.DataFrame(X_train_scaled)\n",
    "X_test_scaled  = stdscaler.transform(X_test)\n",
    "X_test_scaled_df = pd.DataFrame(X_test_scaled)\n"
   ]
  },
  {
   "cell_type": "code",
   "execution_count": 275,
   "metadata": {},
   "outputs": [
    {
     "name": "stderr",
     "output_type": "stream",
     "text": [
      "C:\\Users\\Public\\Anaconda\\lib\\site-packages\\sklearn\\naive_bayes.py:206: DataConversionWarning: A column-vector y was passed when a 1d array was expected. Please change the shape of y to (n_samples, ), for example using ravel().\n",
      "  y = column_or_1d(y, warn=True)\n"
     ]
    }
   ],
   "source": [
    "#Fitting the Naive Bayes Model\n",
    "from sklearn.naive_bayes import GaussianNB\n",
    "classifier = GaussianNB()\n",
    "NB_model = classifier.fit(X_train_scaled, y_train)"
   ]
  },
  {
   "cell_type": "code",
   "execution_count": 276,
   "metadata": {},
   "outputs": [
    {
     "name": "stdout",
     "output_type": "stream",
     "text": [
      "Confusion_matrix\n",
      "[[ 354  835]\n",
      " [ 392 2152]]\n",
      "              precision    recall  f1-score   support\n",
      "\n",
      "           0       0.47      0.30      0.37      1189\n",
      "           1       0.72      0.85      0.78      2544\n",
      "\n",
      "    accuracy                           0.67      3733\n",
      "   macro avg       0.60      0.57      0.57      3733\n",
      "weighted avg       0.64      0.67      0.65      3733\n",
      "\n",
      "0.671309938387356\n",
      "0.7204553063274188\n",
      "0.8459119496855346\n",
      "0.7781594648345688\n"
     ]
    }
   ],
   "source": [
    "#Performance metrics for Naive Bayes metrics\n",
    "y_pred=NB_model.predict(X_test_scaled)\n",
    "cm = confusion_matrix(y_test, y_pred)\n",
    "np.set_printoptions(precision=2)\n",
    "print ('Confusion_matrix')\n",
    "print (cm)\n",
    "print (classification_report(y_test,y_pred))\n",
    "print(accuracy_score(y_test,y_pred))\n",
    "from sklearn.metrics import *\n",
    "print(precision_score(y_test,y_pred))\n",
    "print(recall_score(y_test,y_pred))\n",
    "print(f1_score(y_test,y_pred))"
   ]
  },
  {
   "cell_type": "code",
   "execution_count": null,
   "metadata": {},
   "outputs": [],
   "source": [
    "## End"
   ]
  }
 ],
 "metadata": {
  "kernelspec": {
   "display_name": "Python 3",
   "language": "python",
   "name": "python3"
  },
  "language_info": {
   "codemirror_mode": {
    "name": "ipython",
    "version": 3
   },
   "file_extension": ".py",
   "mimetype": "text/x-python",
   "name": "python",
   "nbconvert_exporter": "python",
   "pygments_lexer": "ipython3",
   "version": "3.7.6"
  }
 },
 "nbformat": 4,
 "nbformat_minor": 4
}
